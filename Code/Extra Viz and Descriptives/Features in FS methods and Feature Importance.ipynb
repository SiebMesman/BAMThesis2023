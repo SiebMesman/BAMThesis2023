{
 "cells": [
  {
   "cell_type": "code",
   "execution_count": 2,
   "id": "76f2a628",
   "metadata": {},
   "outputs": [],
   "source": [
    "import numpy as np\n",
    "import pandas as pd"
   ]
  },
  {
   "cell_type": "markdown",
   "id": "01f66e63",
   "metadata": {},
   "source": [
    "## Cehcking the amount of features in the FS data sets"
   ]
  },
  {
   "cell_type": "code",
   "execution_count": 3,
   "id": "e078a8cf",
   "metadata": {},
   "outputs": [],
   "source": [
    "# Importing the complete set of features\n",
    "mda = pd.read_csv('mda_model_data.csv')\n",
    "ect = pd.read_csv('ect_model_data.csv')\n",
    "ff = pd.read_csv('baseline_data.csv')"
   ]
  },
  {
   "cell_type": "code",
   "execution_count": 4,
   "id": "dad9e891",
   "metadata": {},
   "outputs": [],
   "source": [
    "# Importing the pso features\n",
    "pso_rlr = pd.read_csv('rlr_pso_data.csv')\n",
    "pso_knn = pd.read_csv('knn_pso_data.csv')\n",
    "pso_lgbm = pd.read_csv('lgbm_pso_data.csv')\n",
    "sapso_rlr = pd.read_csv('rlr_sapso_data.csv')\n",
    "sapso_knn = pd.read_csv('knn_sapso_data.csv')\n",
    "sapso_lgbm = pd.read_csv('lgbm_sapso_data.csv')"
   ]
  },
  {
   "cell_type": "markdown",
   "id": "93a87f17",
   "metadata": {},
   "source": [
    "### Extracting column names"
   ]
  },
  {
   "cell_type": "code",
   "execution_count": 5,
   "id": "dccd71fb",
   "metadata": {},
   "outputs": [],
   "source": [
    "# Extracting the baseline columns (including CIK, and Target etc.)\n",
    "ff_cols = ff.columns"
   ]
  },
  {
   "cell_type": "code",
   "execution_count": 6,
   "id": "7930163f",
   "metadata": {},
   "outputs": [],
   "source": [
    "# Extracting the unique mda and ect cols\n",
    "mda_cols = mda.columns\n",
    "mda_cols = [col for col in mda_cols if col not in ff_cols]\n",
    "ect_cols = ect.columns\n",
    "ect_cols = [col for col in ect_cols if col not in ff_cols]"
   ]
  },
  {
   "cell_type": "code",
   "execution_count": 7,
   "id": "fb9acb39",
   "metadata": {},
   "outputs": [],
   "source": [
    "# Removing the non-features\n",
    "ff = ff.drop(columns=['Target', 'fraud', 'res', 'cik'])\n",
    "ff_cols = ff_cols = ff.columns"
   ]
  },
  {
   "cell_type": "code",
   "execution_count": 8,
   "id": "417c2994",
   "metadata": {},
   "outputs": [],
   "source": [
    "# The FS features\n",
    "pso_rlr = pso_rlr.drop(columns='Target')\n",
    "pso_rlr_cols = pso_rlr.columns\n",
    "pso_knn = pso_knn.drop(columns='Target')\n",
    "pso_knn_cols = pso_knn.columns\n",
    "pso_lgbm = pso_lgbm.drop(columns='Target')\n",
    "pso_lgbm_cols = pso_lgbm.columns\n",
    "sapso_rlr = sapso_rlr.drop(columns='Target')\n",
    "sapso_rlr_cols = sapso_rlr.columns\n",
    "sapso_knn = sapso_knn.drop(columns='Target')\n",
    "sapso_knn_cols = sapso_knn.columns\n",
    "sapso_lgbm = sapso_lgbm.drop(columns='Target')\n",
    "sapso_lgbm_cols = sapso_lgbm.columns"
   ]
  },
  {
   "cell_type": "code",
   "execution_count": 9,
   "id": "bfd616ba",
   "metadata": {},
   "outputs": [],
   "source": [
    "# Storing them in one object\n",
    "fs_cols = {'PSO-RLR': pso_rlr_cols, 'PSO-KNN': pso_knn_cols, 'PSO-LGBM': pso_lgbm_cols,\n",
    "          'SAPSO-RLR': sapso_rlr_cols, 'SAPSO-KNN': sapso_knn_cols, 'SAPSO-LGBM': sapso_lgbm_cols}"
   ]
  },
  {
   "cell_type": "markdown",
   "id": "b0bc4987",
   "metadata": {},
   "source": [
    "### Checking the distribution of FS methods"
   ]
  },
  {
   "cell_type": "code",
   "execution_count": 10,
   "id": "8a88df31",
   "metadata": {},
   "outputs": [
    {
     "name": "stdout",
     "output_type": "stream",
     "text": [
      "The percentage of baseline features included in PSO-RLR : 0.43\n",
      "The percentage of MD&A features included in PSO-RLR : 0.39\n",
      "The percentage of ECT features included in PSO-RLR : 0.4\n",
      "The percentage of baseline features included in PSO-KNN : 0.4\n",
      "The percentage of MD&A features included in PSO-KNN : 0.3\n",
      "The percentage of ECT features included in PSO-KNN : 0.37\n",
      "The percentage of baseline features included in PSO-LGBM : 0.44\n",
      "The percentage of MD&A features included in PSO-LGBM : 0.41\n",
      "The percentage of ECT features included in PSO-LGBM : 0.43\n",
      "The percentage of baseline features included in SAPSO-RLR : 0.45\n",
      "The percentage of MD&A features included in SAPSO-RLR : 0.46\n",
      "The percentage of ECT features included in SAPSO-RLR : 0.4\n",
      "The percentage of baseline features included in SAPSO-KNN : 0.4\n",
      "The percentage of MD&A features included in SAPSO-KNN : 0.43\n",
      "The percentage of ECT features included in SAPSO-KNN : 0.43\n",
      "The percentage of baseline features included in SAPSO-LGBM : 0.38\n",
      "The percentage of MD&A features included in SAPSO-LGBM : 0.52\n",
      "The percentage of ECT features included in SAPSO-LGBM : 0.39\n"
     ]
    }
   ],
   "source": [
    "for name, cols in fs_cols.items():\n",
    "    fs_ff_cols = set(ff_cols).intersection(cols)\n",
    "    fs_mda_cols = set(mda_cols).intersection(cols)\n",
    "    fs_ect_cols = set(ect_cols).intersection(cols)\n",
    "    print('The percentage of baseline features included in',name,':',round(len(fs_ff_cols)/len(ff_cols),2))\n",
    "    print('The percentage of MD&A features included in',name,':',round(len(fs_mda_cols)/len(mda_cols),2))\n",
    "    print('The percentage of ECT features included in',name,':',round(len(fs_ect_cols)/len(ect_cols),2))"
   ]
  },
  {
   "cell_type": "markdown",
   "id": "2bcbca9e",
   "metadata": {},
   "source": [
    "### Checking whether cosine similariy is included"
   ]
  },
  {
   "cell_type": "code",
   "execution_count": 11,
   "id": "0612dad7",
   "metadata": {},
   "outputs": [
    {
     "name": "stdout",
     "output_type": "stream",
     "text": [
      "Cos_Sim is not included in: PSO-RLR\n",
      "Cos_Sim is not included in: PSO-KNN\n",
      "Cos_Sim is not included in: PSO-LGBM\n",
      "Cos_Sim is not included in: SAPSO-RLR\n",
      "Cos_Sim is not included in: SAPSO-KNN\n",
      "Cos_Sim is not included in: SAPSO-LGBM\n"
     ]
    }
   ],
   "source": [
    "for name, cols in fs_cols.items():\n",
    "    if 'Cos_Sim' in cols:\n",
    "        print('Cos_Sim is included in:', name)\n",
    "    else:\n",
    "        print('Cos_Sim is not included in:', name)"
   ]
  },
  {
   "cell_type": "markdown",
   "id": "41bcfe89",
   "metadata": {},
   "source": [
    "### Checking the distribution of ECT quarters"
   ]
  },
  {
   "cell_type": "code",
   "execution_count": 12,
   "id": "a07fa8b8",
   "metadata": {},
   "outputs": [],
   "source": [
    "Qs = ['Q1', 'Q2', 'Q3', 'Q4']"
   ]
  },
  {
   "cell_type": "code",
   "execution_count": 13,
   "id": "093edfa2",
   "metadata": {},
   "outputs": [
    {
     "name": "stdout",
     "output_type": "stream",
     "text": [
      "The percentage of ECT features included in PSO-RLR that orginate from Q1 : 0.25\n",
      "The percentage of ECT features included in PSO-RLR that orginate from Q2 : 0.23\n",
      "The percentage of ECT features included in PSO-RLR that orginate from Q3 : 0.28\n",
      "The percentage of ECT features included in PSO-RLR that orginate from Q4 : 0.23\n",
      "The percentage of ECT features included in PSO-KNN that orginate from Q1 : 0.25\n",
      "The percentage of ECT features included in PSO-KNN that orginate from Q2 : 0.3\n",
      "The percentage of ECT features included in PSO-KNN that orginate from Q3 : 0.22\n",
      "The percentage of ECT features included in PSO-KNN that orginate from Q4 : 0.2\n",
      "The percentage of ECT features included in PSO-LGBM that orginate from Q1 : 0.24\n",
      "The percentage of ECT features included in PSO-LGBM that orginate from Q2 : 0.21\n",
      "The percentage of ECT features included in PSO-LGBM that orginate from Q3 : 0.23\n",
      "The percentage of ECT features included in PSO-LGBM that orginate from Q4 : 0.3\n",
      "The percentage of ECT features included in SAPSO-RLR that orginate from Q1 : 0.28\n",
      "The percentage of ECT features included in SAPSO-RLR that orginate from Q2 : 0.32\n",
      "The percentage of ECT features included in SAPSO-RLR that orginate from Q3 : 0.21\n",
      "The percentage of ECT features included in SAPSO-RLR that orginate from Q4 : 0.17\n",
      "The percentage of ECT features included in SAPSO-KNN that orginate from Q1 : 0.19\n",
      "The percentage of ECT features included in SAPSO-KNN that orginate from Q2 : 0.2\n",
      "The percentage of ECT features included in SAPSO-KNN that orginate from Q3 : 0.29\n",
      "The percentage of ECT features included in SAPSO-KNN that orginate from Q4 : 0.29\n",
      "The percentage of ECT features included in SAPSO-LGBM that orginate from Q1 : 0.25\n",
      "The percentage of ECT features included in SAPSO-LGBM that orginate from Q2 : 0.25\n",
      "The percentage of ECT features included in SAPSO-LGBM that orginate from Q3 : 0.22\n",
      "The percentage of ECT features included in SAPSO-LGBM that orginate from Q4 : 0.25\n"
     ]
    }
   ],
   "source": [
    "for name, cols in fs_cols.items():\n",
    "    fs_ect_cols = set(ect_cols).intersection(cols)\n",
    "    for i in Qs:\n",
    "        fs_Q_cols = [col for col in fs_ect_cols if i in col]\n",
    "        print('The percentage of ECT features included in',name,'that orginate from',i,':',round(len(fs_Q_cols)/len(fs_ect_cols),2))"
   ]
  },
  {
   "cell_type": "markdown",
   "id": "c4c5cf4c",
   "metadata": {},
   "source": [
    "## Variable Importance"
   ]
  },
  {
   "cell_type": "code",
   "execution_count": 18,
   "id": "e043b836",
   "metadata": {},
   "outputs": [],
   "source": [
    "# Importing the sapso features\n",
    "sapso_coef = pd.read_csv('sapso_coef_data.csv')\n",
    "sapso_fi = pd.read_csv('sapso_fi_data.csv')"
   ]
  },
  {
   "cell_type": "code",
   "execution_count": 19,
   "id": "6a129996",
   "metadata": {},
   "outputs": [],
   "source": [
    "# Renaming columns before merging\n",
    "sapso_coef = sapso_coef.rename(columns={'coef': 'coef_sapso','abs_coef': 'abs_coef_sapso'})\n",
    "\n",
    "# Top 10s\n",
    "sapso_coef_top_10 = sapso_coef.sort_values('abs_coef_sapso', ascending=False).head(10)\n",
    "gain_sapso_top_10 = sapso_fi.sort_values('fi_sapso_gain', ascending=False).head(10)\n",
    "split_sapso_top_10 = sapso_fi.sort_values('fi_sapso_split', ascending=False).head(10)"
   ]
  },
  {
   "cell_type": "code",
   "execution_count": 20,
   "id": "60f4d20e",
   "metadata": {},
   "outputs": [
    {
     "data": {
      "text/html": [
       "<div>\n",
       "<style scoped>\n",
       "    .dataframe tbody tr th:only-of-type {\n",
       "        vertical-align: middle;\n",
       "    }\n",
       "\n",
       "    .dataframe tbody tr th {\n",
       "        vertical-align: top;\n",
       "    }\n",
       "\n",
       "    .dataframe thead th {\n",
       "        text-align: right;\n",
       "    }\n",
       "</style>\n",
       "<table border=\"1\" class=\"dataframe\">\n",
       "  <thead>\n",
       "    <tr style=\"text-align: right;\">\n",
       "      <th></th>\n",
       "      <th>feature</th>\n",
       "      <th>coef_sapso</th>\n",
       "      <th>abs_coef_sapso</th>\n",
       "    </tr>\n",
       "  </thead>\n",
       "  <tbody>\n",
       "    <tr>\n",
       "      <th>4</th>\n",
       "      <td>Zscore</td>\n",
       "      <td>-0.088686</td>\n",
       "      <td>0.088686</td>\n",
       "    </tr>\n",
       "    <tr>\n",
       "      <th>3</th>\n",
       "      <td>AFDAtNS</td>\n",
       "      <td>0.079095</td>\n",
       "      <td>0.079095</td>\n",
       "    </tr>\n",
       "    <tr>\n",
       "      <th>0</th>\n",
       "      <td>ARtS</td>\n",
       "      <td>0.075820</td>\n",
       "      <td>0.075820</td>\n",
       "    </tr>\n",
       "    <tr>\n",
       "      <th>30</th>\n",
       "      <td>Assets</td>\n",
       "      <td>-0.070891</td>\n",
       "      <td>0.070891</td>\n",
       "    </tr>\n",
       "    <tr>\n",
       "      <th>9</th>\n",
       "      <td>PPEtTA</td>\n",
       "      <td>-0.062194</td>\n",
       "      <td>0.062194</td>\n",
       "    </tr>\n",
       "    <tr>\n",
       "      <th>45</th>\n",
       "      <td>Length_MDA</td>\n",
       "      <td>-0.056464</td>\n",
       "      <td>0.056464</td>\n",
       "    </tr>\n",
       "    <tr>\n",
       "      <th>53</th>\n",
       "      <td>Pol_Q2</td>\n",
       "      <td>-0.053135</td>\n",
       "      <td>0.053135</td>\n",
       "    </tr>\n",
       "    <tr>\n",
       "      <th>16</th>\n",
       "      <td>Sales</td>\n",
       "      <td>-0.051309</td>\n",
       "      <td>0.051309</td>\n",
       "    </tr>\n",
       "    <tr>\n",
       "      <th>28</th>\n",
       "      <td>PCiAPtI</td>\n",
       "      <td>-0.050218</td>\n",
       "      <td>0.050218</td>\n",
       "    </tr>\n",
       "    <tr>\n",
       "      <th>37</th>\n",
       "      <td>PCiE</td>\n",
       "      <td>0.046197</td>\n",
       "      <td>0.046197</td>\n",
       "    </tr>\n",
       "  </tbody>\n",
       "</table>\n",
       "</div>"
      ],
      "text/plain": [
       "       feature  coef_sapso  abs_coef_sapso\n",
       "4       Zscore   -0.088686        0.088686\n",
       "3      AFDAtNS    0.079095        0.079095\n",
       "0         ARtS    0.075820        0.075820\n",
       "30      Assets   -0.070891        0.070891\n",
       "9       PPEtTA   -0.062194        0.062194\n",
       "45  Length_MDA   -0.056464        0.056464\n",
       "53      Pol_Q2   -0.053135        0.053135\n",
       "16       Sales   -0.051309        0.051309\n",
       "28     PCiAPtI   -0.050218        0.050218\n",
       "37        PCiE    0.046197        0.046197"
      ]
     },
     "execution_count": 20,
     "metadata": {},
     "output_type": "execute_result"
    }
   ],
   "source": [
    "sapso_coef_top_10"
   ]
  },
  {
   "cell_type": "code",
   "execution_count": 21,
   "id": "6838bfd3",
   "metadata": {},
   "outputs": [
    {
     "data": {
      "text/html": [
       "<div>\n",
       "<style scoped>\n",
       "    .dataframe tbody tr th:only-of-type {\n",
       "        vertical-align: middle;\n",
       "    }\n",
       "\n",
       "    .dataframe tbody tr th {\n",
       "        vertical-align: top;\n",
       "    }\n",
       "\n",
       "    .dataframe thead th {\n",
       "        text-align: right;\n",
       "    }\n",
       "</style>\n",
       "<table border=\"1\" class=\"dataframe\">\n",
       "  <thead>\n",
       "    <tr style=\"text-align: right;\">\n",
       "      <th></th>\n",
       "      <th>feature</th>\n",
       "      <th>fi_sapso_split</th>\n",
       "      <th>fi_sapso_gain</th>\n",
       "    </tr>\n",
       "  </thead>\n",
       "  <tbody>\n",
       "    <tr>\n",
       "      <th>12</th>\n",
       "      <td>UEP</td>\n",
       "      <td>240</td>\n",
       "      <td>6059.740230</td>\n",
       "    </tr>\n",
       "    <tr>\n",
       "      <th>44</th>\n",
       "      <td>Length_Q2</td>\n",
       "      <td>209</td>\n",
       "      <td>2995.517839</td>\n",
       "    </tr>\n",
       "    <tr>\n",
       "      <th>43</th>\n",
       "      <td>Length_MDA</td>\n",
       "      <td>205</td>\n",
       "      <td>1370.453212</td>\n",
       "    </tr>\n",
       "    <tr>\n",
       "      <th>5</th>\n",
       "      <td>DCS</td>\n",
       "      <td>200</td>\n",
       "      <td>5148.545844</td>\n",
       "    </tr>\n",
       "    <tr>\n",
       "      <th>7</th>\n",
       "      <td>cROE</td>\n",
       "      <td>187</td>\n",
       "      <td>2375.734635</td>\n",
       "    </tr>\n",
       "    <tr>\n",
       "      <th>18</th>\n",
       "      <td>DTaxE</td>\n",
       "      <td>180</td>\n",
       "      <td>2267.344279</td>\n",
       "    </tr>\n",
       "    <tr>\n",
       "      <th>4</th>\n",
       "      <td>DtE</td>\n",
       "      <td>168</td>\n",
       "      <td>1227.186810</td>\n",
       "    </tr>\n",
       "    <tr>\n",
       "      <th>14</th>\n",
       "      <td>IoAR</td>\n",
       "      <td>158</td>\n",
       "      <td>7609.318030</td>\n",
       "    </tr>\n",
       "    <tr>\n",
       "      <th>45</th>\n",
       "      <td>Length_Q4</td>\n",
       "      <td>155</td>\n",
       "      <td>1256.851979</td>\n",
       "    </tr>\n",
       "    <tr>\n",
       "      <th>41</th>\n",
       "      <td>FOG_Q1</td>\n",
       "      <td>148</td>\n",
       "      <td>626.659370</td>\n",
       "    </tr>\n",
       "  </tbody>\n",
       "</table>\n",
       "</div>"
      ],
      "text/plain": [
       "       feature  fi_sapso_split  fi_sapso_gain\n",
       "12         UEP             240    6059.740230\n",
       "44   Length_Q2             209    2995.517839\n",
       "43  Length_MDA             205    1370.453212\n",
       "5          DCS             200    5148.545844\n",
       "7         cROE             187    2375.734635\n",
       "18       DTaxE             180    2267.344279\n",
       "4          DtE             168    1227.186810\n",
       "14        IoAR             158    7609.318030\n",
       "45   Length_Q4             155    1256.851979\n",
       "41      FOG_Q1             148     626.659370"
      ]
     },
     "execution_count": 21,
     "metadata": {},
     "output_type": "execute_result"
    }
   ],
   "source": [
    "split_sapso_top_10"
   ]
  },
  {
   "cell_type": "code",
   "execution_count": 22,
   "id": "527721f9",
   "metadata": {},
   "outputs": [
    {
     "data": {
      "text/html": [
       "<div>\n",
       "<style scoped>\n",
       "    .dataframe tbody tr th:only-of-type {\n",
       "        vertical-align: middle;\n",
       "    }\n",
       "\n",
       "    .dataframe tbody tr th {\n",
       "        vertical-align: top;\n",
       "    }\n",
       "\n",
       "    .dataframe thead th {\n",
       "        text-align: right;\n",
       "    }\n",
       "</style>\n",
       "<table border=\"1\" class=\"dataframe\">\n",
       "  <thead>\n",
       "    <tr style=\"text-align: right;\">\n",
       "      <th></th>\n",
       "      <th>feature</th>\n",
       "      <th>fi_sapso_split</th>\n",
       "      <th>fi_sapso_gain</th>\n",
       "    </tr>\n",
       "  </thead>\n",
       "  <tbody>\n",
       "    <tr>\n",
       "      <th>13</th>\n",
       "      <td>IStMV</td>\n",
       "      <td>130</td>\n",
       "      <td>14841.227073</td>\n",
       "    </tr>\n",
       "    <tr>\n",
       "      <th>34</th>\n",
       "      <td>Assets</td>\n",
       "      <td>91</td>\n",
       "      <td>8094.565235</td>\n",
       "    </tr>\n",
       "    <tr>\n",
       "      <th>14</th>\n",
       "      <td>IoAR</td>\n",
       "      <td>158</td>\n",
       "      <td>7609.318030</td>\n",
       "    </tr>\n",
       "    <tr>\n",
       "      <th>12</th>\n",
       "      <td>UEP</td>\n",
       "      <td>240</td>\n",
       "      <td>6059.740230</td>\n",
       "    </tr>\n",
       "    <tr>\n",
       "      <th>5</th>\n",
       "      <td>DCS</td>\n",
       "      <td>200</td>\n",
       "      <td>5148.545844</td>\n",
       "    </tr>\n",
       "    <tr>\n",
       "      <th>26</th>\n",
       "      <td>ROA</td>\n",
       "      <td>97</td>\n",
       "      <td>3974.833496</td>\n",
       "    </tr>\n",
       "    <tr>\n",
       "      <th>15</th>\n",
       "      <td>IoGMP</td>\n",
       "      <td>137</td>\n",
       "      <td>3846.281862</td>\n",
       "    </tr>\n",
       "    <tr>\n",
       "      <th>44</th>\n",
       "      <td>Length_Q2</td>\n",
       "      <td>209</td>\n",
       "      <td>2995.517839</td>\n",
       "    </tr>\n",
       "    <tr>\n",
       "      <th>7</th>\n",
       "      <td>cROE</td>\n",
       "      <td>187</td>\n",
       "      <td>2375.734635</td>\n",
       "    </tr>\n",
       "    <tr>\n",
       "      <th>18</th>\n",
       "      <td>DTaxE</td>\n",
       "      <td>180</td>\n",
       "      <td>2267.344279</td>\n",
       "    </tr>\n",
       "  </tbody>\n",
       "</table>\n",
       "</div>"
      ],
      "text/plain": [
       "      feature  fi_sapso_split  fi_sapso_gain\n",
       "13      IStMV             130   14841.227073\n",
       "34     Assets              91    8094.565235\n",
       "14       IoAR             158    7609.318030\n",
       "12        UEP             240    6059.740230\n",
       "5         DCS             200    5148.545844\n",
       "26        ROA              97    3974.833496\n",
       "15      IoGMP             137    3846.281862\n",
       "44  Length_Q2             209    2995.517839\n",
       "7        cROE             187    2375.734635\n",
       "18      DTaxE             180    2267.344279"
      ]
     },
     "execution_count": 22,
     "metadata": {},
     "output_type": "execute_result"
    }
   ],
   "source": [
    "gain_sapso_top_10"
   ]
  },
  {
   "cell_type": "code",
   "execution_count": 23,
   "id": "8d1be33a",
   "metadata": {},
   "outputs": [],
   "source": [
    "# filter the rows where 'MDA' appears in the 'feature' column\n",
    "rlr_mda_rows = sapso_coef[sapso_coef['feature'].str.contains('_MDA')]\n",
    "rlr_ect_rows = sapso_coef[sapso_coef['feature'].str.contains('_Q1|_Q2|_Q3|_Q4')]\n",
    "rlr_other_rows = sapso_coef[~sapso_coef.index.isin(rlr_ect_rows.index) & ~sapso_coef.index.isin(rlr_mda_rows.index)]\n",
    "\n",
    "# filter the rows where 'MDA' appears in the 'feature' column\n",
    "lgbm_mda_rows = sapso_fi[sapso_fi['feature'].str.contains('_MDA')]\n",
    "lgbm_ect_rows = sapso_fi[sapso_fi['feature'].str.contains('_Q1|_Q2|_Q3|_Q4')]\n",
    "lgbm_other_rows = sapso_fi[~sapso_fi.index.isin(lgbm_ect_rows.index) & ~sapso_fi.index.isin(lgbm_mda_rows.index)]"
   ]
  },
  {
   "cell_type": "markdown",
   "id": "b1563ff8",
   "metadata": {},
   "source": [
    "## RLR Coefficients"
   ]
  },
  {
   "cell_type": "code",
   "execution_count": 39,
   "id": "957158e2",
   "metadata": {},
   "outputs": [
    {
     "name": "stdout",
     "output_type": "stream",
     "text": [
      "Sum of coef MD&A features: 0.16 percentage of total: 7.53\n",
      "Sum of coef ECT features: 0.39 percentage of total: 18.52\n",
      "Sum of coef FF features: 1.55 percentage of total: 73.95\n",
      "Total sum of coef: 2.1\n"
     ]
    }
   ],
   "source": [
    "# compute the sum of the 'coef' column for the filtered rows\n",
    "mda_sum_coef = rlr_mda_rows['abs_coef_sapso'].sum()\n",
    "ect_sum_coef = rlr_ect_rows['abs_coef_sapso'].sum()\n",
    "other_sum_coef = rlr_other_rows['abs_coef_sapso'].sum()\n",
    "total_sum_coef = sapso_coef['abs_coef_sapso'].sum()\n",
    "\n",
    "# print the result\n",
    "print(\"Sum of coef MD&A features:\", round(mda_sum_coef,2),\n",
    "      \"percentage of total:\",round(round(mda_sum_coef,4)/round(total_sum_coef,4),4)*100)\n",
    "print(\"Sum of coef ECT features:\", round(ect_sum_coef,2),\n",
    "      \"percentage of total:\",round(round(ect_sum_coef,4)/round(total_sum_coef,4),4)*100)\n",
    "print(\"Sum of coef FF features:\", round(other_sum_coef,2),\n",
    "      \"percentage of total:\",round(round(other_sum_coef,4)/round(total_sum_coef,4),4)*100)\n",
    "print(\"Total sum of coef:\", round(total_sum_coef,2))"
   ]
  },
  {
   "cell_type": "code",
   "execution_count": 48,
   "id": "5a2317c9",
   "metadata": {},
   "outputs": [
    {
     "name": "stdout",
     "output_type": "stream",
     "text": [
      "Sum of coef Readability features: 0.11 percentage of total: 5.37\n",
      "Sum of coef Sentiment features: 0.19 percentage of total: 9.13\n",
      "Sum of coef Topic features: 0.24 percentage of total: 11.559999999999999\n"
     ]
    }
   ],
   "source": [
    "# Readability - Length & FOG\n",
    "rlr_read_rows = sapso_coef[sapso_coef['feature'].str.contains('Length_|FOG_')]\n",
    "# Sentiment - Pos, Neg, Pol & Obj\n",
    "rlr_sen_rows = sapso_coef[sapso_coef['feature'].str.contains('Pos_|Neg_|Pol_|Sub_')]\n",
    "# Topics - Topic\n",
    "rlr_topic_rows = sapso_coef[sapso_coef['feature'].str.contains('Topic_')]\n",
    "\n",
    "read_sum_coef = rlr_read_rows['abs_coef_sapso'].sum()\n",
    "sen_sum_coef = rlr_sen_rows['abs_coef_sapso'].sum()\n",
    "topic_sum_coef = rlr_topic_rows['abs_coef_sapso'].sum()\n",
    "\n",
    "# print the result\n",
    "print(\"Sum of coef Readability features:\", round(read_sum_coef,2),\n",
    "      \"percentage of total:\",round(round(read_sum_coef,4)/round(total_sum_coef,4),4)*100)\n",
    "print(\"Sum of coef Sentiment features:\", round(sen_sum_coef,2),\n",
    "      \"percentage of total:\",round(round(sen_sum_coef,4)/round(total_sum_coef,4),4)*100)\n",
    "print(\"Sum of coef Topic features:\", round(topic_sum_coef,2),\n",
    "      \"percentage of total:\",round(round(topic_sum_coef,4)/round(total_sum_coef,4),4)*100)"
   ]
  },
  {
   "cell_type": "code",
   "execution_count": 54,
   "id": "1e57e351",
   "metadata": {},
   "outputs": [
    {
     "name": "stdout",
     "output_type": "stream",
     "text": [
      "Sum of coef Q1 features: 0.09 percentage of total: 4.21\n",
      "Sum of coef Q2 features: 0.17 percentage of total: 7.9\n",
      "Sum of coef Q3 features: 0.04 percentage of total: 1.68\n",
      "Sum of coef Q4 features: 0.1 percentage of total: 4.72\n"
     ]
    }
   ],
   "source": [
    "# All quarters\n",
    "rlr_Q1_rows = sapso_coef[sapso_coef['feature'].str.contains('_Q1')]\n",
    "rlr_Q2_rows = sapso_coef[sapso_coef['feature'].str.contains('_Q2')]\n",
    "rlr_Q3_rows = sapso_coef[sapso_coef['feature'].str.contains('_Q3')]\n",
    "rlr_Q4_rows = sapso_coef[sapso_coef['feature'].str.contains('_Q4')]\n",
    "\n",
    "Q1_sum_coef = rlr_Q1_rows['abs_coef_sapso'].sum()\n",
    "Q2_sum_coef = rlr_Q2_rows['abs_coef_sapso'].sum()\n",
    "Q3_sum_coef = rlr_Q3_rows['abs_coef_sapso'].sum()\n",
    "Q4_sum_coef = rlr_Q4_rows['abs_coef_sapso'].sum()\n",
    "\n",
    "# print the result\n",
    "print(\"Sum of coef Q1 features:\", round(Q1_sum_coef,2),\n",
    "      \"percentage of total:\",round(round(Q1_sum_coef,4)/round(total_sum_coef,4),4)*100)\n",
    "print(\"Sum of coef Q2 features:\", round(Q2_sum_coef,2),\n",
    "      \"percentage of total:\",round(round(Q2_sum_coef,4)/round(total_sum_coef,4),4)*100)\n",
    "print(\"Sum of coef Q3 features:\", round(Q3_sum_coef,2),\n",
    "      \"percentage of total:\",round(round(Q3_sum_coef,4)/round(total_sum_coef,4),4)*100)\n",
    "print(\"Sum of coef Q4 features:\", round(Q4_sum_coef,2),\n",
    "      \"percentage of total:\",round(round(Q4_sum_coef,4)/round(total_sum_coef,4),4)*100)"
   ]
  },
  {
   "cell_type": "markdown",
   "id": "b88bd9c8",
   "metadata": {},
   "source": [
    "## LGBM Split"
   ]
  },
  {
   "cell_type": "code",
   "execution_count": 30,
   "id": "f175af73",
   "metadata": {},
   "outputs": [
    {
     "name": "stdout",
     "output_type": "stream",
     "text": [
      "Sum of split MD&A features: 560 percentage of total: 9.64\n",
      "Sum of split ECT features: 1225 percentage of total: 21.09\n",
      "Sum of split FF features: 4024 percentage of total: 69.27\n",
      "Total sum of split: 5809\n"
     ]
    }
   ],
   "source": [
    "# compute the sum of the 'split' column for the filtered rows\n",
    "mda_sum_split = lgbm_mda_rows['fi_sapso_split'].sum()\n",
    "ect_sum_split = lgbm_ect_rows['fi_sapso_split'].sum()\n",
    "other_sum_split = lgbm_other_rows['fi_sapso_split'].sum()\n",
    "total_sum_split = sapso_fi['fi_sapso_split'].sum()\n",
    "\n",
    "# print the result\n",
    "print(\"Sum of split MD&A features:\", round(mda_sum_split,2),\n",
    "      \"percentage of total:\",round(round(mda_sum_split,4)/round(total_sum_split,4),4)*100)\n",
    "print(\"Sum of split ECT features:\", round(ect_sum_split,2),\n",
    "      \"percentage of total:\",round(round(ect_sum_split,4)/round(total_sum_split,4),4)*100)\n",
    "print(\"Sum of split FF features:\", round(other_sum_split,2),\n",
    "      \"percentage of total:\",round(round(other_sum_split,4)/round(total_sum_split,4),4)*100)\n",
    "print(\"Total sum of split:\", total_sum_split)"
   ]
  },
  {
   "cell_type": "code",
   "execution_count": 38,
   "id": "2416e507",
   "metadata": {},
   "outputs": [
    {
     "name": "stdout",
     "output_type": "stream",
     "text": [
      "Sum of split Readability features: 845 percentage of total: 14.549999999999999\n",
      "Sum of split Sentiment features: 790 percentage of total: 13.600000000000001\n",
      "Sum of split Topic features: 150 percentage of total: 2.58\n"
     ]
    }
   ],
   "source": [
    "# Readability - Length & FOG\n",
    "lgbm_read_rows = sapso_fi[sapso_fi['feature'].str.contains('Length_|FOG_')]\n",
    "# Sentiment - Pos, Neg, Pol & Obj\n",
    "lgbm_sen_rows = sapso_fi[sapso_fi['feature'].str.contains('Pos_|Neg_|Pol_|Sub_')]\n",
    "# Topics - Topic\n",
    "lgbm_topic_rows = sapso_fi[sapso_fi['feature'].str.contains('Topic_')]\n",
    "\n",
    "read_sum_split = lgbm_read_rows['fi_sapso_split'].sum()\n",
    "sen_sum_split = lgbm_sen_rows['fi_sapso_split'].sum()\n",
    "topic_sum_split = lgbm_topic_rows['fi_sapso_split'].sum()\n",
    "\n",
    "# print the result\n",
    "print(\"Sum of split Readability features:\", round(read_sum_split,2),\n",
    "      \"percentage of total:\",round(round(read_sum_split,4)/round(total_sum_split,4),4)*100)\n",
    "print(\"Sum of split Sentiment features:\", round(sen_sum_split,2),\n",
    "      \"percentage of total:\",round(round(sen_sum_split,4)/round(total_sum_split,4),4)*100)\n",
    "print(\"Sum of split Topic features:\", round(topic_sum_split,2),\n",
    "      \"percentage of total:\",round(round(topic_sum_split,4)/round(total_sum_split,4),4)*100)"
   ]
  },
  {
   "cell_type": "code",
   "execution_count": 51,
   "id": "7983d22e",
   "metadata": {},
   "outputs": [
    {
     "name": "stdout",
     "output_type": "stream",
     "text": [
      "Sum of split Q1 features: 453 percentage of total: 7.8\n",
      "Sum of split Q2 features: 519 percentage of total: 8.93\n",
      "Sum of split Q3 features: 0 percentage of total: 0.0\n",
      "Sum of split Q4 features: 253 percentage of total: 4.36\n"
     ]
    }
   ],
   "source": [
    "# All quarters\n",
    "lgbm_Q1_rows = sapso_fi[sapso_fi['feature'].str.contains('_Q1')]\n",
    "lgbm_Q2_rows = sapso_fi[sapso_fi['feature'].str.contains('_Q2')]\n",
    "lgbm_Q3_rows = sapso_fi[sapso_fi['feature'].str.contains('_Q3')]\n",
    "lgbm_Q4_rows = sapso_fi[sapso_fi['feature'].str.contains('_Q4')]\n",
    "\n",
    "Q1_sum_split = lgbm_Q1_rows['fi_sapso_split'].sum()\n",
    "Q2_sum_split = lgbm_Q2_rows['fi_sapso_split'].sum()\n",
    "Q3_sum_split = lgbm_Q3_rows['fi_sapso_split'].sum()\n",
    "Q4_sum_split = lgbm_Q4_rows['fi_sapso_split'].sum()\n",
    "\n",
    "# print the result\n",
    "print(\"Sum of split Q1 features:\", round(Q1_sum_split,2),\n",
    "      \"percentage of total:\",round(round(Q1_sum_split,4)/round(total_sum_split,4),4)*100)\n",
    "print(\"Sum of split Q2 features:\", round(Q2_sum_split,2),\n",
    "      \"percentage of total:\",round(round(Q2_sum_split,4)/round(total_sum_split,4),4)*100)\n",
    "print(\"Sum of split Q3 features:\", round(Q3_sum_split,2),\n",
    "      \"percentage of total:\",round(round(Q3_sum_split,4)/round(total_sum_split,4),4)*100)\n",
    "print(\"Sum of split Q4 features:\", round(Q4_sum_split,2),\n",
    "      \"percentage of total:\",round(round(Q4_sum_split,4)/round(total_sum_split,4),4)*100)"
   ]
  },
  {
   "cell_type": "markdown",
   "id": "c860fa45",
   "metadata": {},
   "source": [
    "## LGBM Gain"
   ]
  },
  {
   "cell_type": "code",
   "execution_count": 26,
   "id": "2513342d",
   "metadata": {},
   "outputs": [
    {
     "name": "stdout",
     "output_type": "stream",
     "text": [
      "Sum of gain MD&A features: 4514.67 percentage of total: 4.97\n",
      "Sum of gain ECT features: 12264.93 percentage of total: 13.5\n",
      "Sum of gain FF features: 74080.92 percentage of total: 81.53\n",
      "Total sum of gain: 90860.52\n"
     ]
    }
   ],
   "source": [
    "# compute the sum of the 'gain' column for the filtered rows\n",
    "mda_sum_gain = lgbm_mda_rows['fi_sapso_gain'].sum()\n",
    "ect_sum_gain = lgbm_ect_rows['fi_sapso_gain'].sum()\n",
    "other_sum_gain = lgbm_other_rows['fi_sapso_gain'].sum()\n",
    "total_sum_gain = sapso_fi['fi_sapso_gain'].sum()\n",
    "\n",
    "# print the result\n",
    "print(\"Sum of gain MD&A features:\", round(mda_sum_gain,2),\n",
    "      \"percentage of total:\",round(round(mda_sum_gain,4)/round(total_sum_gain,4),4)*100)\n",
    "print(\"Sum of gain ECT features:\", round(ect_sum_gain,2),\n",
    "      \"percentage of total:\",round(round(ect_sum_gain,4)/round(total_sum_gain,4),4)*100)\n",
    "print(\"Sum of gain FF features:\", round(other_sum_gain,2),\n",
    "      \"percentage of total:\",round(round(other_sum_gain,4)/round(total_sum_gain,4),4)*100)\n",
    "print(\"Total sum of gain:\", round(total_sum_gain,2))"
   ]
  },
  {
   "cell_type": "code",
   "execution_count": 36,
   "id": "a40ce7da",
   "metadata": {},
   "outputs": [
    {
     "name": "stdout",
     "output_type": "stream",
     "text": [
      "Sum of gain Readability features: 7015.85 percentage of total: 7.720000000000001\n",
      "Sum of gain Sentiment features: 5868.18 percentage of total: 6.460000000000001\n",
      "Sum of gain Topic features: 3895.57 percentage of total: 4.29\n"
     ]
    }
   ],
   "source": [
    "# Readability - Length & FOG\n",
    "lgbm_read_rows = sapso_fi[sapso_fi['feature'].str.contains('Length_|FOG_')]\n",
    "# Sentiment - Pos, Neg, Pol & Obj\n",
    "lgbm_sen_rows = sapso_fi[sapso_fi['feature'].str.contains('Pos_|Neg_|Pol_|Sub_')]\n",
    "# Topics - Topic\n",
    "lgbm_topic_rows = sapso_fi[sapso_fi['feature'].str.contains('Topic_')]\n",
    "\n",
    "read_sum_gain = lgbm_read_rows['fi_sapso_gain'].sum()\n",
    "sen_sum_gain = lgbm_sen_rows['fi_sapso_gain'].sum()\n",
    "topic_sum_gain = lgbm_topic_rows['fi_sapso_gain'].sum()\n",
    "\n",
    "# print the result\n",
    "print(\"Sum of gain Readability features:\", round(read_sum_gain,2),\n",
    "      \"percentage of total:\",round(round(read_sum_gain,4)/round(total_sum_gain,4),4)*100)\n",
    "print(\"Sum of gain Sentiment features:\", round(sen_sum_gain,2),\n",
    "      \"percentage of total:\",round(round(sen_sum_gain,4)/round(total_sum_gain,4),4)*100)\n",
    "print(\"Sum of gain Topic features:\", round(topic_sum_gain,2),\n",
    "      \"percentage of total:\",round(round(topic_sum_gain,4)/round(total_sum_gain,4),4)*100)"
   ]
  },
  {
   "cell_type": "code",
   "execution_count": 52,
   "id": "a7c564dd",
   "metadata": {},
   "outputs": [
    {
     "name": "stdout",
     "output_type": "stream",
     "text": [
      "Sum of gain Q1 features: 4896.62 percentage of total: 5.390000000000001\n",
      "Sum of gain Q2 features: 4997.24 percentage of total: 5.5\n",
      "Sum of gain Q3 features: 0.0 percentage of total: 0.0\n",
      "Sum of gain Q4 features: 2371.07 percentage of total: 2.6100000000000003\n"
     ]
    }
   ],
   "source": [
    "# All quarters\n",
    "lgbm_Q1_rows = sapso_fi[sapso_fi['feature'].str.contains('_Q1')]\n",
    "lgbm_Q2_rows = sapso_fi[sapso_fi['feature'].str.contains('_Q2')]\n",
    "lgbm_Q3_rows = sapso_fi[sapso_fi['feature'].str.contains('_Q3')]\n",
    "lgbm_Q4_rows = sapso_fi[sapso_fi['feature'].str.contains('_Q4')]\n",
    "\n",
    "Q1_sum_gain = lgbm_Q1_rows['fi_sapso_gain'].sum()\n",
    "Q2_sum_gain = lgbm_Q2_rows['fi_sapso_gain'].sum()\n",
    "Q3_sum_gain = lgbm_Q3_rows['fi_sapso_gain'].sum()\n",
    "Q4_sum_gain = lgbm_Q4_rows['fi_sapso_gain'].sum()\n",
    "\n",
    "# print the result\n",
    "print(\"Sum of gain Q1 features:\", round(Q1_sum_gain,2),\n",
    "      \"percentage of total:\",round(round(Q1_sum_gain,4)/round(total_sum_gain,4),4)*100)\n",
    "print(\"Sum of gain Q2 features:\", round(Q2_sum_gain,2),\n",
    "      \"percentage of total:\",round(round(Q2_sum_gain,4)/round(total_sum_gain,4),4)*100)\n",
    "print(\"Sum of gain Q3 features:\", round(Q3_sum_gain,2),\n",
    "      \"percentage of total:\",round(round(Q3_sum_gain,4)/round(total_sum_gain,4),4)*100)\n",
    "print(\"Sum of gain Q4 features:\", round(Q4_sum_gain,2),\n",
    "      \"percentage of total:\",round(round(Q4_sum_gain,4)/round(total_sum_gain,4),4)*100)"
   ]
  }
 ],
 "metadata": {
  "kernelspec": {
   "display_name": "Python 3 (ipykernel)",
   "language": "python",
   "name": "python3"
  },
  "language_info": {
   "codemirror_mode": {
    "name": "ipython",
    "version": 3
   },
   "file_extension": ".py",
   "mimetype": "text/x-python",
   "name": "python",
   "nbconvert_exporter": "python",
   "pygments_lexer": "ipython3",
   "version": "3.9.13"
  }
 },
 "nbformat": 4,
 "nbformat_minor": 5
}
