{
 "cells": [
  {
   "cell_type": "code",
   "execution_count": 1,
   "id": "76f2a628",
   "metadata": {},
   "outputs": [],
   "source": [
    "import numpy as np\n",
    "import pandas as pd"
   ]
  },
  {
   "cell_type": "markdown",
   "id": "01f66e63",
   "metadata": {},
   "source": [
    "## Cehcking the amount of features in the FS data sets"
   ]
  },
  {
   "cell_type": "code",
   "execution_count": 2,
   "id": "e078a8cf",
   "metadata": {},
   "outputs": [],
   "source": [
    "# Importing the complete set of features\n",
    "mda = pd.read_csv('mda_model_data.csv')\n",
    "ect = pd.read_csv('ect_model_data.csv')\n",
    "ff = pd.read_csv('baseline_data.csv')"
   ]
  },
  {
   "cell_type": "code",
   "execution_count": 3,
   "id": "dad9e891",
   "metadata": {},
   "outputs": [],
   "source": [
    "# Importing the pso features\n",
    "pso_rlr = pd.read_csv('rlr_pso_data.csv')\n",
    "pso_knn = pd.read_csv('knn_pso_data.csv')\n",
    "pso_lgbm = pd.read_csv('lgbm_pso_data.csv')\n",
    "sapso_rlr = pd.read_csv('rlr_sapso_data.csv')\n",
    "sapso_knn = pd.read_csv('knn_sapso_data.csv')"
   ]
  },
  {
   "cell_type": "markdown",
   "id": "93a87f17",
   "metadata": {},
   "source": [
    "### Extracting column names"
   ]
  },
  {
   "cell_type": "code",
   "execution_count": 4,
   "id": "dccd71fb",
   "metadata": {},
   "outputs": [],
   "source": [
    "# Extracting the baseline columns (including CIK, and Target etc.)\n",
    "ff_cols = ff.columns"
   ]
  },
  {
   "cell_type": "code",
   "execution_count": 5,
   "id": "7930163f",
   "metadata": {},
   "outputs": [],
   "source": [
    "# Extracting the unique mda and ect cols\n",
    "mda_cols = mda.columns\n",
    "mda_cols = [col for col in mda_cols if col not in ff_cols]\n",
    "ect_cols = ect.columns\n",
    "ect_cols = [col for col in ect_cols if col not in ff_cols]"
   ]
  },
  {
   "cell_type": "code",
   "execution_count": 6,
   "id": "fb9acb39",
   "metadata": {},
   "outputs": [],
   "source": [
    "# Removing the non-features\n",
    "ff = ff.drop(columns=['Target', 'fraud', 'res', 'cik'])\n",
    "ff_cols = ff_cols = ff.columns"
   ]
  },
  {
   "cell_type": "code",
   "execution_count": 7,
   "id": "417c2994",
   "metadata": {},
   "outputs": [],
   "source": [
    "# The FS features\n",
    "pso_rlr = pso_rlr.drop(columns='Target')\n",
    "pso_rlr_cols = pso_rlr.columns\n",
    "pso_knn = pso_knn.drop(columns='Target')\n",
    "pso_knn_cols = pso_knn.columns\n",
    "pso_lgbm = pso_lgbm.drop(columns='Target')\n",
    "pso_lgbm_cols = pso_lgbm.columns\n",
    "sapso_rlr = sapso_rlr.drop(columns='Target')\n",
    "sapso_rlr_cols = sapso_rlr.columns\n",
    "sapso_knn = sapso_knn.drop(columns='Target')\n",
    "sapso_knn_cols = sapso_knn.columns"
   ]
  },
  {
   "cell_type": "code",
   "execution_count": 8,
   "id": "bfd616ba",
   "metadata": {},
   "outputs": [],
   "source": [
    "# Storing them in one object\n",
    "fs_cols = {'PSO-RLR': pso_rlr_cols, 'PSO-KNN': pso_knn_cols, 'PSO-LGBM': pso_lgbm_cols,\n",
    "          'SAPSO-RLR': sapso_rlr_cols, 'SAPSO-KNN': sapso_knn_cols}"
   ]
  },
  {
   "cell_type": "markdown",
   "id": "b0bc4987",
   "metadata": {},
   "source": [
    "### Checking the distribution of FS methods"
   ]
  },
  {
   "cell_type": "code",
   "execution_count": 9,
   "id": "8a88df31",
   "metadata": {},
   "outputs": [
    {
     "name": "stdout",
     "output_type": "stream",
     "text": [
      "The percentage of baseline features included in PSO-RLR : 0.43\n",
      "The percentage of MD&A features included in PSO-RLR : 0.39\n",
      "The percentage of ECT features included in PSO-RLR : 0.4\n",
      "The percentage of baseline features included in PSO-KNN : 0.4\n",
      "The percentage of MD&A features included in PSO-KNN : 0.3\n",
      "The percentage of ECT features included in PSO-KNN : 0.37\n",
      "The percentage of baseline features included in PSO-LGBM : 0.44\n",
      "The percentage of MD&A features included in PSO-LGBM : 0.41\n",
      "The percentage of ECT features included in PSO-LGBM : 0.43\n",
      "The percentage of baseline features included in SAPSO-RLR : 0.45\n",
      "The percentage of MD&A features included in SAPSO-RLR : 0.46\n",
      "The percentage of ECT features included in SAPSO-RLR : 0.4\n",
      "The percentage of baseline features included in SAPSO-KNN : 0.4\n",
      "The percentage of MD&A features included in SAPSO-KNN : 0.43\n",
      "The percentage of ECT features included in SAPSO-KNN : 0.43\n"
     ]
    }
   ],
   "source": [
    "for name, cols in fs_cols.items():\n",
    "    fs_ff_cols = set(ff_cols).intersection(cols)\n",
    "    fs_mda_cols = set(mda_cols).intersection(cols)\n",
    "    fs_ect_cols = set(ect_cols).intersection(cols)\n",
    "    print('The percentage of baseline features included in',name,':',round(len(fs_ff_cols)/len(ff_cols),2))\n",
    "    print('The percentage of MD&A features included in',name,':',round(len(fs_mda_cols)/len(mda_cols),2))\n",
    "    print('The percentage of ECT features included in',name,':',round(len(fs_ect_cols)/len(ect_cols),2))"
   ]
  },
  {
   "cell_type": "markdown",
   "id": "2bcbca9e",
   "metadata": {},
   "source": [
    "### Checking whether cosine similariy is included"
   ]
  },
  {
   "cell_type": "code",
   "execution_count": 10,
   "id": "0612dad7",
   "metadata": {},
   "outputs": [
    {
     "name": "stdout",
     "output_type": "stream",
     "text": [
      "Cos_Sim is not included in: PSO-RLR\n",
      "Cos_Sim is not included in: PSO-KNN\n",
      "Cos_Sim is not included in: PSO-LGBM\n",
      "Cos_Sim is not included in: SAPSO-RLR\n",
      "Cos_Sim is not included in: SAPSO-KNN\n"
     ]
    }
   ],
   "source": [
    "for name, cols in fs_cols.items():\n",
    "    if 'Cos_Sim' in cols:\n",
    "        print('Cos_Sim is included in:', name)\n",
    "    else:\n",
    "        print('Cos_Sim is not included in:', name)"
   ]
  },
  {
   "cell_type": "markdown",
   "id": "41bcfe89",
   "metadata": {},
   "source": [
    "### Checking the distribution of ECT quarters"
   ]
  },
  {
   "cell_type": "code",
   "execution_count": 11,
   "id": "a07fa8b8",
   "metadata": {},
   "outputs": [],
   "source": [
    "Qs = ['Q1', 'Q2', 'Q3', 'Q4']"
   ]
  },
  {
   "cell_type": "code",
   "execution_count": 12,
   "id": "093edfa2",
   "metadata": {},
   "outputs": [
    {
     "name": "stdout",
     "output_type": "stream",
     "text": [
      "The percentage of ECT features included in PSO-RLR that orginate from Q1 : 0.25\n",
      "The percentage of ECT features included in PSO-RLR that orginate from Q2 : 0.23\n",
      "The percentage of ECT features included in PSO-RLR that orginate from Q3 : 0.28\n",
      "The percentage of ECT features included in PSO-RLR that orginate from Q4 : 0.23\n",
      "The percentage of ECT features included in PSO-KNN that orginate from Q1 : 0.25\n",
      "The percentage of ECT features included in PSO-KNN that orginate from Q2 : 0.3\n",
      "The percentage of ECT features included in PSO-KNN that orginate from Q3 : 0.22\n",
      "The percentage of ECT features included in PSO-KNN that orginate from Q4 : 0.2\n",
      "The percentage of ECT features included in PSO-LGBM that orginate from Q1 : 0.24\n",
      "The percentage of ECT features included in PSO-LGBM that orginate from Q2 : 0.21\n",
      "The percentage of ECT features included in PSO-LGBM that orginate from Q3 : 0.23\n",
      "The percentage of ECT features included in PSO-LGBM that orginate from Q4 : 0.3\n",
      "The percentage of ECT features included in SAPSO-RLR that orginate from Q1 : 0.28\n",
      "The percentage of ECT features included in SAPSO-RLR that orginate from Q2 : 0.32\n",
      "The percentage of ECT features included in SAPSO-RLR that orginate from Q3 : 0.21\n",
      "The percentage of ECT features included in SAPSO-RLR that orginate from Q4 : 0.17\n",
      "The percentage of ECT features included in SAPSO-KNN that orginate from Q1 : 0.19\n",
      "The percentage of ECT features included in SAPSO-KNN that orginate from Q2 : 0.2\n",
      "The percentage of ECT features included in SAPSO-KNN that orginate from Q3 : 0.29\n",
      "The percentage of ECT features included in SAPSO-KNN that orginate from Q4 : 0.29\n"
     ]
    }
   ],
   "source": [
    "for name, cols in fs_cols.items():\n",
    "    fs_ect_cols = set(ect_cols).intersection(cols)\n",
    "    for i in Qs:\n",
    "        fs_Q_cols = [col for col in fs_ect_cols if i in col]\n",
    "        print('The percentage of ECT features included in',name,'that orginate from',i,':',round(len(fs_Q_cols)/len(fs_ect_cols),2))"
   ]
  }
 ],
 "metadata": {
  "kernelspec": {
   "display_name": "Python 3 (ipykernel)",
   "language": "python",
   "name": "python3"
  },
  "language_info": {
   "codemirror_mode": {
    "name": "ipython",
    "version": 3
   },
   "file_extension": ".py",
   "mimetype": "text/x-python",
   "name": "python",
   "nbconvert_exporter": "python",
   "pygments_lexer": "ipython3",
   "version": "3.9.13"
  }
 },
 "nbformat": 4,
 "nbformat_minor": 5
}
