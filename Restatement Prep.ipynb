{
 "cells": [
  {
   "cell_type": "code",
   "execution_count": 1,
   "id": "acc580dc",
   "metadata": {},
   "outputs": [],
   "source": [
    "import pandas as pd\n",
    "import numpy as np\n",
    "import warnings\n",
    "warnings.filterwarnings(\"ignore\")"
   ]
  },
  {
   "cell_type": "markdown",
   "id": "8de1880b",
   "metadata": {},
   "source": [
    "## Reading Data (Audit Analytics Restatements)"
   ]
  },
  {
   "cell_type": "code",
   "execution_count": 2,
   "id": "01b7d9c1",
   "metadata": {},
   "outputs": [],
   "source": [
    "df = pd.read_csv('restatements.csv', sep=',')"
   ]
  },
  {
   "cell_type": "markdown",
   "id": "6cef09c2",
   "metadata": {},
   "source": [
    "## Excluding Some Observations"
   ]
  },
  {
   "cell_type": "code",
   "execution_count": 3,
   "id": "4aef80f9",
   "metadata": {},
   "outputs": [
    {
     "name": "stdout",
     "output_type": "stream",
     "text": [
      "1029\n"
     ]
    }
   ],
   "source": [
    "# Excluding Immaterial Restatements (DATE_OF_8K_402 = blank)\n",
    "df = df[df['DATE_OF_8K_402'].notna()]\n",
    "print(len(df))"
   ]
  },
  {
   "cell_type": "code",
   "execution_count": 4,
   "id": "30aaa69a",
   "metadata": {},
   "outputs": [
    {
     "name": "stdout",
     "output_type": "stream",
     "text": [
      "815\n"
     ]
    }
   ],
   "source": [
    "# Only adverse restatements\n",
    "df = df[df['RES_ADVERSE'] == 1]\n",
    "print(len(df))"
   ]
  },
  {
   "cell_type": "markdown",
   "id": "954c6446",
   "metadata": {},
   "source": [
    "Maybe include clerrical errors as they can be an excuse to put the blame away from executives"
   ]
  },
  {
   "cell_type": "code",
   "execution_count": 5,
   "id": "650b67e7",
   "metadata": {},
   "outputs": [
    {
     "name": "stdout",
     "output_type": "stream",
     "text": [
      "757\n"
     ]
    }
   ],
   "source": [
    "# Exclude Clerrical Errors\n",
    "df = df[df['RES_CLER_ERR'] != 1]\n",
    "print(len(df))"
   ]
  },
  {
   "cell_type": "code",
   "execution_count": 6,
   "id": "c04a7ec9",
   "metadata": {},
   "outputs": [
    {
     "name": "stdout",
     "output_type": "stream",
     "text": [
      "757\n"
     ]
    }
   ],
   "source": [
    "# Exclude Accounting Rule Changes FIN 48, SAB No. 101, SAB No. 108. \n",
    "exclude_list = [70, 63, 64, 53, 57, 58, 65, 56, 60, 62, 61, 66, 59, 67, 68, 55, 49, 50, 51, 52]\n",
    "df['RES_ACC_RES_FKEY_LIST'] = df['RES_ACC_RES_FKEY_LIST'].fillna('')\n",
    "\n",
    "bool_idx = ~df['RES_ACC_RES_FKEY_LIST'].str.contains('|'.join(map(str, exclude_list)))\n",
    "\n",
    "df = df[bool_idx]\n",
    "print(len(df))"
   ]
  },
  {
   "cell_type": "markdown",
   "id": "5eb56c7a",
   "metadata": {},
   "source": [
    "## Creation of Filtered Dataframe"
   ]
  },
  {
   "cell_type": "markdown",
   "id": "96718141",
   "metadata": {},
   "source": [
    "I start by creating a dataframe that consists of values with year cik"
   ]
  },
  {
   "cell_type": "code",
   "execution_count": 7,
   "id": "8d3107aa",
   "metadata": {},
   "outputs": [
    {
     "name": "stdout",
     "output_type": "stream",
     "text": [
      "757\n"
     ]
    }
   ],
   "source": [
    "# Creating the Dataframe\n",
    "FR = pd.DataFrame()\n",
    "FR['cik'] = df['COMPANY_FKEY']\n",
    "FR['begin_year'] = df['RES_BEGIN_DATE'].str[-4:]\n",
    "FR['end_year'] = df['RES_END_DATE'].str[-4:]\n",
    "FR['fraud'] = df['RES_FRAUD']\n",
    "FR['res'] = df['RES_ACCOUNTING']\n",
    "print(len(FR))"
   ]
  },
  {
   "cell_type": "markdown",
   "id": "40f06394",
   "metadata": {},
   "source": [
    "From this dataframe I want to keep only one firm restatement year per restatement and exclude the other observations from the final data. I also exclude duplicate values."
   ]
  },
  {
   "cell_type": "code",
   "execution_count": 8,
   "id": "8997062a",
   "metadata": {},
   "outputs": [],
   "source": [
    "FR2 = pd.DataFrame(columns=FR.columns)\n",
    "\n",
    "FR['begin_year'] = FR['begin_year'].astype('int')\n",
    "FR['end_year'] = FR['end_year'].astype('int')\n",
    "\n",
    "for _, row in FR.iterrows():\n",
    "    begin_year = row['begin_year']\n",
    "    end_year = row['end_year']\n",
    "    if end_year > begin_year:\n",
    "        new_row = row.copy()\n",
    "        new_row['year'] = end_year - 1\n",
    "        FR2 = FR2.append(new_row)\n",
    "    else:\n",
    "        new_row = row.copy()\n",
    "        new_row['year'] = end_year\n",
    "        FR2 = FR2.append(new_row)\n",
    "    \n",
    "FR2 = FR2.reset_index(drop=True)"
   ]
  },
  {
   "cell_type": "code",
   "execution_count": 9,
   "id": "b5f2df0e",
   "metadata": {},
   "outputs": [
    {
     "name": "stdout",
     "output_type": "stream",
     "text": [
      "32\n"
     ]
    }
   ],
   "source": [
    "# Excluding Duplicate year cik combinations\n",
    "dup = FR2.duplicated(subset=['cik','year'])\n",
    "print(len(FR2[dup]))\n",
    "FR2 = FR2.drop_duplicates(subset=['cik','year'])"
   ]
  },
  {
   "cell_type": "code",
   "execution_count": 10,
   "id": "5dedf5c9",
   "metadata": {},
   "outputs": [],
   "source": [
    "FR2 = FR2.drop(columns=['begin_year','end_year'])"
   ]
  },
  {
   "cell_type": "code",
   "execution_count": 13,
   "id": "ce83e0a7",
   "metadata": {},
   "outputs": [],
   "source": [
    "FR2.to_csv('res_cases.csv', index=False)\n",
    "res_ciks = FR2['cik']\n",
    "res_ciks.to_csv('res_ciks.csv', index=False)"
   ]
  },
  {
   "cell_type": "markdown",
   "id": "11afa991",
   "metadata": {},
   "source": [
    "## Excluding Incomplete Observations"
   ]
  },
  {
   "cell_type": "code",
   "execution_count": 13,
   "id": "6683c036",
   "metadata": {},
   "outputs": [],
   "source": [
    "fin_sample = pd.read_csv('year_cik_all.csv')"
   ]
  },
  {
   "cell_type": "code",
   "execution_count": 14,
   "id": "48227975",
   "metadata": {},
   "outputs": [],
   "source": [
    "# Changing year to integer for merging\n",
    "fin_sample['year'] = fin_sample['year'].astype('int')\n",
    "FR2['year'] = FR2['year'].astype('int')\n",
    "FR2['fraud'] = FR2['fraud'].astype('int')"
   ]
  },
  {
   "cell_type": "code",
   "execution_count": 15,
   "id": "357e7002",
   "metadata": {},
   "outputs": [],
   "source": [
    "# Merging FF and RES based on year and cik, keeping all rows of FF and only the matching of RES\n",
    "merged = pd.merge(fin_sample, FR2, on=['year', 'cik'], how = 'outer', indicator = True)\n",
    "merged = merged[merged['_merge'] != 'right_only']\n",
    "# Adding a column for the target variable\n",
    "merged['Target'] = merged['_merge'].apply(lambda x: 1 if x == 'both' else 0)\n",
    "merged = merged.drop(columns=['_merge'])\n",
    "# Changing the NA's to 0\n",
    "merged['fraud'] = merged['fraud'].fillna(0)\n",
    "merged['res'] = merged['res'].fillna(0)"
   ]
  },
  {
   "cell_type": "code",
   "execution_count": 16,
   "id": "483244f7",
   "metadata": {},
   "outputs": [
    {
     "name": "stdout",
     "output_type": "stream",
     "text": [
      "Total Number of Total Observations: 5782\n",
      "The Number of Fraud Cases: 4.0\n",
      "The Number of Accounting Restatements: 80\n"
     ]
    }
   ],
   "source": [
    "print(\"Total Number of Total Observations:\", len(merged))\n",
    "print(\"The Number of Fraud Cases:\",merged['fraud'].sum())\n",
    "print(\"The Number of Accounting Restatements:\",merged['res'].sum())"
   ]
  }
 ],
 "metadata": {
  "kernelspec": {
   "display_name": "Python 3 (ipykernel)",
   "language": "python",
   "name": "python3"
  },
  "language_info": {
   "codemirror_mode": {
    "name": "ipython",
    "version": 3
   },
   "file_extension": ".py",
   "mimetype": "text/x-python",
   "name": "python",
   "nbconvert_exporter": "python",
   "pygments_lexer": "ipython3",
   "version": "3.9.13"
  }
 },
 "nbformat": 4,
 "nbformat_minor": 5
}
