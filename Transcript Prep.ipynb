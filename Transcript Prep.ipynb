{
 "cells": [
  {
   "cell_type": "code",
   "execution_count": 2,
   "id": "4ff4c484",
   "metadata": {},
   "outputs": [],
   "source": [
    "import pandas as pd\n",
    "import re\n",
    "from nltk.stem import PorterStemmer\n",
    "from nltk.corpus import stopwords\n",
    "from nltk.tokenize import word_tokenize\n",
    "from nltk.stem import WordNetLemmatizer\n",
    "import nltk\n",
    "nltk.download('wordnet')\n",
    "nltk.download('omw-1.4')\n",
    "import warnings\n",
    "warnings.simplefilter(action='ignore', category=FutureWarning)"
   ]
  },
  {
   "cell_type": "markdown",
   "id": "aa7681a4",
   "metadata": {},
   "source": [
    "## Importing one dataset at a time"
   ]
  },
  {
   "cell_type": "markdown",
   "id": "87995ad4",
   "metadata": {},
   "source": [
    "Due to the large amount of data, one csv is imported and cleaned at a time. All files undergo the same preprocessing steps, and are concatenated at the end of this notebook to create one final file."
   ]
  },
  {
   "cell_type": "code",
   "execution_count": 305,
   "id": "b2b995c4",
   "metadata": {},
   "outputs": [],
   "source": [
    "# trs = Transcript Full Texts, det = Transcript Details\n",
    "trs = pd.read_csv(\"T1600001.csv\", nrows=3268144)\n",
    "det = pd.read_csv(\"D1600001.csv\")"
   ]
  },
  {
   "cell_type": "code",
   "execution_count": 306,
   "id": "65d3bd91",
   "metadata": {},
   "outputs": [
    {
     "name": "stdout",
     "output_type": "stream",
     "text": [
      "117086\n",
      "3268144\n"
     ]
    }
   ],
   "source": [
    "print(len(det))\n",
    "print(len(trs))"
   ]
  },
  {
   "cell_type": "markdown",
   "id": "0137c88e",
   "metadata": {},
   "source": [
    "## Preprocessing steps - Details"
   ]
  },
  {
   "cell_type": "code",
   "execution_count": 307,
   "id": "ff79fa87",
   "metadata": {},
   "outputs": [],
   "source": [
    "# Filtering to keep only the earnings call transcripts (keydeveventtypeid == 48)\n",
    "det = det[det[\"keydeveventtypeid\"] == 48]"
   ]
  },
  {
   "cell_type": "code",
   "execution_count": 308,
   "id": "4e21dfb7",
   "metadata": {},
   "outputs": [],
   "source": [
    "# Keep only the useful columns\n",
    "det = det[['companyid','keydevid','transcriptid','headline','mostimportantdateutc']]"
   ]
  },
  {
   "cell_type": "code",
   "execution_count": 309,
   "id": "d8452f2f",
   "metadata": {},
   "outputs": [],
   "source": [
    "# Extract time related variables\n",
    "det['year'] = det['headline'].str.extract(r'(\\d{4})')\n",
    "det['quarter'] = det['headline'].str.extract('(Q\\d|H\\d|Q1|Q2)')\n",
    "det['other'] = det['headline'].str.extract(r'(\\w+ months)', flags=re.IGNORECASE)\n",
    "\n",
    "# Filter out rows where year is missing\n",
    "det = det[det['year'].notnull()]\n",
    "\n",
    "# Mutate quarter: H1->Q2, H2->Q4, NA->Q4\n",
    "det['quarter'] = det['quarter'].map({'Q1': 'Q1', 'Q2': 'Q2', 'Q3': 'Q3', 'Q4': 'Q4'})\n",
    "det.loc[det['quarter'] == ' H1 ', 'quarter'] = 'Q2'\n",
    "det.loc[det['quarter'] == ' H2 ', 'quarter'] = 'Q4'\n",
    "det.loc[(det['quarter'].isna()) & (det['other'].isna()), 'quarter'] = 'Q4'\n",
    "det.loc[det['other'] == 'Nine Months', 'quarter'] = 'Q3'\n",
    "\n",
    "# Filter out rows where quarter is missing and drop the other column\n",
    "det = det[det['quarter'].notnull()].drop('other', axis=1)\n",
    "\n",
    "# Convert year to numeric type\n",
    "det['year'] = pd.to_numeric(det['year'])\n",
    "\n",
    "# Convert quarter to categorical data type\n",
    "det['quarter'] = det['quarter'].astype('category')\n",
    "\n",
    "# Convert transcriptid to numeric type\n",
    "det['transcriptid'] = pd.to_numeric(det['transcriptid'])"
   ]
  },
  {
   "cell_type": "code",
   "execution_count": 310,
   "id": "b8611db0",
   "metadata": {},
   "outputs": [],
   "source": [
    "# Check companyid-year-quarter duplicate\n",
    "counts = det.groupby(['companyid', 'year', 'quarter']).size().reset_index(name='count').sort_values('count', ascending=False)\n",
    "\n",
    "# Keep only distinct rows\n",
    "det = det.drop_duplicates(subset=['companyid', 'year', 'quarter'], keep='first')\n",
    "\n",
    "# Convert companyid column to integer type\n",
    "det['companyid'] = det['companyid'].astype(int)"
   ]
  },
  {
   "cell_type": "code",
   "execution_count": 311,
   "id": "02ab01fe",
   "metadata": {},
   "outputs": [],
   "source": [
    "# Keep only the years 2008 till 2013\n",
    "det = det[(det['year'] >= 2008) & (det['year'] <= 2013)]"
   ]
  },
  {
   "cell_type": "markdown",
   "id": "a3b24246",
   "metadata": {},
   "source": [
    "## Merging details and transcripts"
   ]
  },
  {
   "cell_type": "code",
   "execution_count": 312,
   "id": "960d6893",
   "metadata": {},
   "outputs": [],
   "source": [
    "df = pd.merge(trs[['transcriptid', 'transcriptcomponenttypeid', 'componenttext']], det[['transcriptid','companyid','mostimportantdateutc','year','quarter']], on='transcriptid')"
   ]
  },
  {
   "cell_type": "code",
   "execution_count": 313,
   "id": "8652fa38",
   "metadata": {},
   "outputs": [
    {
     "data": {
      "text/plain": [
       "4086"
      ]
     },
     "execution_count": 313,
     "metadata": {},
     "output_type": "execute_result"
    }
   ],
   "source": [
    "len(df)"
   ]
  },
  {
   "cell_type": "markdown",
   "id": "824a608a",
   "metadata": {},
   "source": [
    "## Preprocessing steps - Transcripts"
   ]
  },
  {
   "cell_type": "code",
   "execution_count": 314,
   "id": "ec25fde9",
   "metadata": {},
   "outputs": [],
   "source": [
    "df = df[df['transcriptcomponenttypeid'].isin([2, 4])]\n",
    "df = df.drop('transcriptcomponenttypeid', axis=1)"
   ]
  },
  {
   "cell_type": "code",
   "execution_count": 315,
   "id": "a8049e27",
   "metadata": {},
   "outputs": [
    {
     "data": {
      "text/plain": [
       "array([2013, 2012, 2011, 2010, 2008, 2009], dtype=int64)"
      ]
     },
     "execution_count": 315,
     "metadata": {},
     "output_type": "execute_result"
    }
   ],
   "source": [
    "df['year'].unique()"
   ]
  },
  {
   "cell_type": "code",
   "execution_count": 316,
   "id": "ca120635",
   "metadata": {},
   "outputs": [
    {
     "data": {
      "text/plain": [
       "Q3    738\n",
       "Q4    632\n",
       "Q1    484\n",
       "Q2    330\n",
       "Name: quarter, dtype: int64"
      ]
     },
     "execution_count": 316,
     "metadata": {},
     "output_type": "execute_result"
    }
   ],
   "source": [
    "df['quarter'].value_counts()"
   ]
  },
  {
   "cell_type": "code",
   "execution_count": 317,
   "id": "87425be7",
   "metadata": {},
   "outputs": [],
   "source": [
    "# Group the rows by transcriptid and concatenate the componenttext columns\n",
    "df['componenttext'] = df['componenttext'].astype(str)\n",
    "df_combined = df.groupby('transcriptid')['componenttext'].agg(' '.join).reset_index()"
   ]
  },
  {
   "cell_type": "code",
   "execution_count": 318,
   "id": "14bc4ddd",
   "metadata": {},
   "outputs": [
    {
     "name": "stdout",
     "output_type": "stream",
     "text": [
      "47\n"
     ]
    }
   ],
   "source": [
    "df = df.drop(columns=['componenttext'])\n",
    "df = df.drop_duplicates()\n",
    "print(len(df))"
   ]
  },
  {
   "cell_type": "code",
   "execution_count": 319,
   "id": "cbedf8de",
   "metadata": {},
   "outputs": [],
   "source": [
    "df_combined = pd.merge(df_combined[['transcriptid', 'componenttext']], df[['transcriptid','companyid','year','quarter']], on='transcriptid')"
   ]
  },
  {
   "cell_type": "code",
   "execution_count": 320,
   "id": "de04ad29",
   "metadata": {},
   "outputs": [
    {
     "data": {
      "text/html": [
       "<div>\n",
       "<style scoped>\n",
       "    .dataframe tbody tr th:only-of-type {\n",
       "        vertical-align: middle;\n",
       "    }\n",
       "\n",
       "    .dataframe tbody tr th {\n",
       "        vertical-align: top;\n",
       "    }\n",
       "\n",
       "    .dataframe thead th {\n",
       "        text-align: right;\n",
       "    }\n",
       "</style>\n",
       "<table border=\"1\" class=\"dataframe\">\n",
       "  <thead>\n",
       "    <tr style=\"text-align: right;\">\n",
       "      <th></th>\n",
       "      <th>transcriptid</th>\n",
       "      <th>componenttext</th>\n",
       "      <th>companyid</th>\n",
       "      <th>year</th>\n",
       "      <th>quarter</th>\n",
       "    </tr>\n",
       "  </thead>\n",
       "  <tbody>\n",
       "    <tr>\n",
       "      <th>0</th>\n",
       "      <td>1618204</td>\n",
       "      <td>Some swaps, customers move from one aircraft t...</td>\n",
       "      <td>695204</td>\n",
       "      <td>2013</td>\n",
       "      <td>Q2</td>\n",
       "    </tr>\n",
       "    <tr>\n",
       "      <th>1</th>\n",
       "      <td>1618206</td>\n",
       "      <td>So to get back to your point, depending on how...</td>\n",
       "      <td>695204</td>\n",
       "      <td>2012</td>\n",
       "      <td>Q3</td>\n",
       "    </tr>\n",
       "    <tr>\n",
       "      <th>2</th>\n",
       "      <td>1618247</td>\n",
       "      <td>Well we expect to close Flexjet in Q4. Now, op...</td>\n",
       "      <td>695204</td>\n",
       "      <td>2013</td>\n",
       "      <td>Q3</td>\n",
       "    </tr>\n",
       "    <tr>\n",
       "      <th>3</th>\n",
       "      <td>1619956</td>\n",
       "      <td>Sure. Well, there's a couple of different thin...</td>\n",
       "      <td>24568</td>\n",
       "      <td>2013</td>\n",
       "      <td>Q1</td>\n",
       "    </tr>\n",
       "    <tr>\n",
       "      <th>4</th>\n",
       "      <td>1619980</td>\n",
       "      <td>Yes. We signaled that during our Q1 call, beca...</td>\n",
       "      <td>24568</td>\n",
       "      <td>2013</td>\n",
       "      <td>Q2</td>\n",
       "    </tr>\n",
       "    <tr>\n",
       "      <th>5</th>\n",
       "      <td>1620029</td>\n",
       "      <td>Sure, Matt. Well the first thing I will refer ...</td>\n",
       "      <td>24568</td>\n",
       "      <td>2012</td>\n",
       "      <td>Q3</td>\n",
       "    </tr>\n",
       "    <tr>\n",
       "      <th>6</th>\n",
       "      <td>1620032</td>\n",
       "      <td>Yes, now we can. Thanks. Better than having me...</td>\n",
       "      <td>24568</td>\n",
       "      <td>2012</td>\n",
       "      <td>Q4</td>\n",
       "    </tr>\n",
       "    <tr>\n",
       "      <th>7</th>\n",
       "      <td>1620050</td>\n",
       "      <td>So, at this point, Glen, I mean we look at it ...</td>\n",
       "      <td>24568</td>\n",
       "      <td>2012</td>\n",
       "      <td>Q1</td>\n",
       "    </tr>\n",
       "    <tr>\n",
       "      <th>8</th>\n",
       "      <td>1620053</td>\n",
       "      <td>Good afternoon and thank you for joining us. I...</td>\n",
       "      <td>24568</td>\n",
       "      <td>2012</td>\n",
       "      <td>Q2</td>\n",
       "    </tr>\n",
       "    <tr>\n",
       "      <th>9</th>\n",
       "      <td>1620269</td>\n",
       "      <td>Thanks, Tom. Before I get into the details, I'...</td>\n",
       "      <td>24568</td>\n",
       "      <td>2013</td>\n",
       "      <td>Q4</td>\n",
       "    </tr>\n",
       "    <tr>\n",
       "      <th>10</th>\n",
       "      <td>1620284</td>\n",
       "      <td>It's really a couple of things. We've got more...</td>\n",
       "      <td>24568</td>\n",
       "      <td>2013</td>\n",
       "      <td>Q3</td>\n",
       "    </tr>\n",
       "    <tr>\n",
       "      <th>11</th>\n",
       "      <td>1624985</td>\n",
       "      <td>Thank you very much, Henrik. If you turn to Sl...</td>\n",
       "      <td>26972979</td>\n",
       "      <td>2012</td>\n",
       "      <td>Q4</td>\n",
       "    </tr>\n",
       "    <tr>\n",
       "      <th>12</th>\n",
       "      <td>1659818</td>\n",
       "      <td>The pace did slow somewhat. I think it's too e...</td>\n",
       "      <td>524568</td>\n",
       "      <td>2012</td>\n",
       "      <td>Q2</td>\n",
       "    </tr>\n",
       "    <tr>\n",
       "      <th>13</th>\n",
       "      <td>1659871</td>\n",
       "      <td>Okay. 60 SMDs in banking. And I know you will ...</td>\n",
       "      <td>524568</td>\n",
       "      <td>2011</td>\n",
       "      <td>Q4</td>\n",
       "    </tr>\n",
       "    <tr>\n",
       "      <th>14</th>\n",
       "      <td>1660719</td>\n",
       "      <td>We ended the year with 66 banking partners, 66...</td>\n",
       "      <td>524568</td>\n",
       "      <td>2013</td>\n",
       "      <td>Q4</td>\n",
       "    </tr>\n",
       "    <tr>\n",
       "      <th>15</th>\n",
       "      <td>1661035</td>\n",
       "      <td>I think -- I don't think it's a meaningful tre...</td>\n",
       "      <td>524568</td>\n",
       "      <td>2012</td>\n",
       "      <td>Q3</td>\n",
       "    </tr>\n",
       "    <tr>\n",
       "      <th>16</th>\n",
       "      <td>1661077</td>\n",
       "      <td>And Patrick, as we've said before, it's been o...</td>\n",
       "      <td>524568</td>\n",
       "      <td>2012</td>\n",
       "      <td>Q1</td>\n",
       "    </tr>\n",
       "    <tr>\n",
       "      <th>17</th>\n",
       "      <td>1662214</td>\n",
       "      <td>$10 million. Well, I have to say you described...</td>\n",
       "      <td>524568</td>\n",
       "      <td>2010</td>\n",
       "      <td>Q2</td>\n",
       "    </tr>\n",
       "    <tr>\n",
       "      <th>18</th>\n",
       "      <td>1662237</td>\n",
       "      <td>Not really. I mean it's pretty much across all...</td>\n",
       "      <td>524568</td>\n",
       "      <td>2010</td>\n",
       "      <td>Q3</td>\n",
       "    </tr>\n",
       "    <tr>\n",
       "      <th>19</th>\n",
       "      <td>1662242</td>\n",
       "      <td>Thanks very much, Bob. Before I talk about the...</td>\n",
       "      <td>524568</td>\n",
       "      <td>2010</td>\n",
       "      <td>Q4</td>\n",
       "    </tr>\n",
       "    <tr>\n",
       "      <th>20</th>\n",
       "      <td>1662271</td>\n",
       "      <td>Okay. Thank you, Roger. We continue to make go...</td>\n",
       "      <td>524568</td>\n",
       "      <td>2010</td>\n",
       "      <td>Q1</td>\n",
       "    </tr>\n",
       "    <tr>\n",
       "      <th>21</th>\n",
       "      <td>1663236</td>\n",
       "      <td>No. Go ahead. Thanks very much, Bob. As you ca...</td>\n",
       "      <td>524568</td>\n",
       "      <td>2011</td>\n",
       "      <td>Q2</td>\n",
       "    </tr>\n",
       "    <tr>\n",
       "      <th>22</th>\n",
       "      <td>1666834</td>\n",
       "      <td>No. The board approved the latest round that -...</td>\n",
       "      <td>524568</td>\n",
       "      <td>2012</td>\n",
       "      <td>Q4</td>\n",
       "    </tr>\n",
       "    <tr>\n",
       "      <th>23</th>\n",
       "      <td>1666840</td>\n",
       "      <td>No, let me answer it this way. You can see the...</td>\n",
       "      <td>524568</td>\n",
       "      <td>2013</td>\n",
       "      <td>Q2</td>\n",
       "    </tr>\n",
       "    <tr>\n",
       "      <th>24</th>\n",
       "      <td>1667375</td>\n",
       "      <td>The increase is entirely driven by the growth ...</td>\n",
       "      <td>524568</td>\n",
       "      <td>2013</td>\n",
       "      <td>Q1</td>\n",
       "    </tr>\n",
       "    <tr>\n",
       "      <th>25</th>\n",
       "      <td>1676938</td>\n",
       "      <td>So well, again going back to our 70% rule, we ...</td>\n",
       "      <td>9938532</td>\n",
       "      <td>2012</td>\n",
       "      <td>Q1</td>\n",
       "    </tr>\n",
       "    <tr>\n",
       "      <th>26</th>\n",
       "      <td>1690216</td>\n",
       "      <td>Not that we're hiding it. We don't know the an...</td>\n",
       "      <td>524568</td>\n",
       "      <td>2013</td>\n",
       "      <td>Q3</td>\n",
       "    </tr>\n",
       "    <tr>\n",
       "      <th>27</th>\n",
       "      <td>1690235</td>\n",
       "      <td>No, we're not. And by the way, that's not the ...</td>\n",
       "      <td>524568</td>\n",
       "      <td>2011</td>\n",
       "      <td>Q3</td>\n",
       "    </tr>\n",
       "    <tr>\n",
       "      <th>28</th>\n",
       "      <td>1697859</td>\n",
       "      <td>Thank you, Nancy. We are thrilled to report th...</td>\n",
       "      <td>24937</td>\n",
       "      <td>2012</td>\n",
       "      <td>Q1</td>\n",
       "    </tr>\n",
       "    <tr>\n",
       "      <th>29</th>\n",
       "      <td>1711859</td>\n",
       "      <td>So Base line. If I say how much we will reduce...</td>\n",
       "      <td>29381607</td>\n",
       "      <td>2011</td>\n",
       "      <td>Q3</td>\n",
       "    </tr>\n",
       "    <tr>\n",
       "      <th>30</th>\n",
       "      <td>1711878</td>\n",
       "      <td>Thanks, everybody, for joining today. We appre...</td>\n",
       "      <td>3478354</td>\n",
       "      <td>2012</td>\n",
       "      <td>Q1</td>\n",
       "    </tr>\n",
       "    <tr>\n",
       "      <th>31</th>\n",
       "      <td>1711881</td>\n",
       "      <td>Absolutely. Yes. Out there in particular, we s...</td>\n",
       "      <td>93026</td>\n",
       "      <td>2011</td>\n",
       "      <td>Q4</td>\n",
       "    </tr>\n",
       "    <tr>\n",
       "      <th>32</th>\n",
       "      <td>1711882</td>\n",
       "      <td>Well, actually, we... Thanks, Peter. Just to c...</td>\n",
       "      <td>93026</td>\n",
       "      <td>2011</td>\n",
       "      <td>Q3</td>\n",
       "    </tr>\n",
       "    <tr>\n",
       "      <th>33</th>\n",
       "      <td>1711885</td>\n",
       "      <td>Well, I think what I would expect as we see it...</td>\n",
       "      <td>3478354</td>\n",
       "      <td>2010</td>\n",
       "      <td>Q3</td>\n",
       "    </tr>\n",
       "    <tr>\n",
       "      <th>34</th>\n",
       "      <td>1711986</td>\n",
       "      <td>Thank you, Ted, and good morning, everyone. Lo...</td>\n",
       "      <td>301891</td>\n",
       "      <td>2008</td>\n",
       "      <td>Q4</td>\n",
       "    </tr>\n",
       "    <tr>\n",
       "      <th>35</th>\n",
       "      <td>1712100</td>\n",
       "      <td>The end of this year. The unlevered returns on...</td>\n",
       "      <td>120622</td>\n",
       "      <td>2008</td>\n",
       "      <td>Q4</td>\n",
       "    </tr>\n",
       "    <tr>\n",
       "      <th>36</th>\n",
       "      <td>1712106</td>\n",
       "      <td>Yes. It's kind of hard to tell. But it's stuff...</td>\n",
       "      <td>298441</td>\n",
       "      <td>2013</td>\n",
       "      <td>Q2</td>\n",
       "    </tr>\n",
       "    <tr>\n",
       "      <th>37</th>\n",
       "      <td>1712108</td>\n",
       "      <td>That's correct. Change in the deferred tax lin...</td>\n",
       "      <td>413909753</td>\n",
       "      <td>2011</td>\n",
       "      <td>Q4</td>\n",
       "    </tr>\n",
       "    <tr>\n",
       "      <th>38</th>\n",
       "      <td>1712124</td>\n",
       "      <td>No, before income tax. Here, are you looking a...</td>\n",
       "      <td>413909753</td>\n",
       "      <td>2012</td>\n",
       "      <td>Q3</td>\n",
       "    </tr>\n",
       "    <tr>\n",
       "      <th>39</th>\n",
       "      <td>1712132</td>\n",
       "      <td>We've vacations in that in the second quarter,...</td>\n",
       "      <td>4217814</td>\n",
       "      <td>2008</td>\n",
       "      <td>Q4</td>\n",
       "    </tr>\n",
       "    <tr>\n",
       "      <th>40</th>\n",
       "      <td>1712134</td>\n",
       "      <td>At that point in time. The CTA has been declin...</td>\n",
       "      <td>310736</td>\n",
       "      <td>2008</td>\n",
       "      <td>Q4</td>\n",
       "    </tr>\n",
       "    <tr>\n",
       "      <th>41</th>\n",
       "      <td>1712146</td>\n",
       "      <td>Really, Jeremy, it’s pretty much throughout th...</td>\n",
       "      <td>218812</td>\n",
       "      <td>2008</td>\n",
       "      <td>Q4</td>\n",
       "    </tr>\n",
       "    <tr>\n",
       "      <th>42</th>\n",
       "      <td>1712262</td>\n",
       "      <td>Yes. Definitely less than that for the quarter...</td>\n",
       "      <td>22077696</td>\n",
       "      <td>2009</td>\n",
       "      <td>Q4</td>\n",
       "    </tr>\n",
       "    <tr>\n",
       "      <th>43</th>\n",
       "      <td>1712337</td>\n",
       "      <td>I am sorry. What was that again? Solar, we are...</td>\n",
       "      <td>120622</td>\n",
       "      <td>2009</td>\n",
       "      <td>Q1</td>\n",
       "    </tr>\n",
       "    <tr>\n",
       "      <th>44</th>\n",
       "      <td>1712422</td>\n",
       "      <td>That's correct. What I would say is with this ...</td>\n",
       "      <td>253730</td>\n",
       "      <td>2009</td>\n",
       "      <td>Q1</td>\n",
       "    </tr>\n",
       "    <tr>\n",
       "      <th>45</th>\n",
       "      <td>1712430</td>\n",
       "      <td>Thank you, Ralph, and good morning. It is a pl...</td>\n",
       "      <td>298482</td>\n",
       "      <td>2009</td>\n",
       "      <td>Q1</td>\n",
       "    </tr>\n",
       "    <tr>\n",
       "      <th>46</th>\n",
       "      <td>1712458</td>\n",
       "      <td>C.K? Given where cash costs are, we don't have...</td>\n",
       "      <td>93026</td>\n",
       "      <td>2009</td>\n",
       "      <td>Q1</td>\n",
       "    </tr>\n",
       "  </tbody>\n",
       "</table>\n",
       "</div>"
      ],
      "text/plain": [
       "    transcriptid                                      componenttext  \\\n",
       "0        1618204  Some swaps, customers move from one aircraft t...   \n",
       "1        1618206  So to get back to your point, depending on how...   \n",
       "2        1618247  Well we expect to close Flexjet in Q4. Now, op...   \n",
       "3        1619956  Sure. Well, there's a couple of different thin...   \n",
       "4        1619980  Yes. We signaled that during our Q1 call, beca...   \n",
       "5        1620029  Sure, Matt. Well the first thing I will refer ...   \n",
       "6        1620032  Yes, now we can. Thanks. Better than having me...   \n",
       "7        1620050  So, at this point, Glen, I mean we look at it ...   \n",
       "8        1620053  Good afternoon and thank you for joining us. I...   \n",
       "9        1620269  Thanks, Tom. Before I get into the details, I'...   \n",
       "10       1620284  It's really a couple of things. We've got more...   \n",
       "11       1624985  Thank you very much, Henrik. If you turn to Sl...   \n",
       "12       1659818  The pace did slow somewhat. I think it's too e...   \n",
       "13       1659871  Okay. 60 SMDs in banking. And I know you will ...   \n",
       "14       1660719  We ended the year with 66 banking partners, 66...   \n",
       "15       1661035  I think -- I don't think it's a meaningful tre...   \n",
       "16       1661077  And Patrick, as we've said before, it's been o...   \n",
       "17       1662214  $10 million. Well, I have to say you described...   \n",
       "18       1662237  Not really. I mean it's pretty much across all...   \n",
       "19       1662242  Thanks very much, Bob. Before I talk about the...   \n",
       "20       1662271  Okay. Thank you, Roger. We continue to make go...   \n",
       "21       1663236  No. Go ahead. Thanks very much, Bob. As you ca...   \n",
       "22       1666834  No. The board approved the latest round that -...   \n",
       "23       1666840  No, let me answer it this way. You can see the...   \n",
       "24       1667375  The increase is entirely driven by the growth ...   \n",
       "25       1676938  So well, again going back to our 70% rule, we ...   \n",
       "26       1690216  Not that we're hiding it. We don't know the an...   \n",
       "27       1690235  No, we're not. And by the way, that's not the ...   \n",
       "28       1697859  Thank you, Nancy. We are thrilled to report th...   \n",
       "29       1711859  So Base line. If I say how much we will reduce...   \n",
       "30       1711878  Thanks, everybody, for joining today. We appre...   \n",
       "31       1711881  Absolutely. Yes. Out there in particular, we s...   \n",
       "32       1711882  Well, actually, we... Thanks, Peter. Just to c...   \n",
       "33       1711885  Well, I think what I would expect as we see it...   \n",
       "34       1711986  Thank you, Ted, and good morning, everyone. Lo...   \n",
       "35       1712100  The end of this year. The unlevered returns on...   \n",
       "36       1712106  Yes. It's kind of hard to tell. But it's stuff...   \n",
       "37       1712108  That's correct. Change in the deferred tax lin...   \n",
       "38       1712124  No, before income tax. Here, are you looking a...   \n",
       "39       1712132  We've vacations in that in the second quarter,...   \n",
       "40       1712134  At that point in time. The CTA has been declin...   \n",
       "41       1712146  Really, Jeremy, it’s pretty much throughout th...   \n",
       "42       1712262  Yes. Definitely less than that for the quarter...   \n",
       "43       1712337  I am sorry. What was that again? Solar, we are...   \n",
       "44       1712422  That's correct. What I would say is with this ...   \n",
       "45       1712430  Thank you, Ralph, and good morning. It is a pl...   \n",
       "46       1712458  C.K? Given where cash costs are, we don't have...   \n",
       "\n",
       "    companyid  year quarter  \n",
       "0      695204  2013      Q2  \n",
       "1      695204  2012      Q3  \n",
       "2      695204  2013      Q3  \n",
       "3       24568  2013      Q1  \n",
       "4       24568  2013      Q2  \n",
       "5       24568  2012      Q3  \n",
       "6       24568  2012      Q4  \n",
       "7       24568  2012      Q1  \n",
       "8       24568  2012      Q2  \n",
       "9       24568  2013      Q4  \n",
       "10      24568  2013      Q3  \n",
       "11   26972979  2012      Q4  \n",
       "12     524568  2012      Q2  \n",
       "13     524568  2011      Q4  \n",
       "14     524568  2013      Q4  \n",
       "15     524568  2012      Q3  \n",
       "16     524568  2012      Q1  \n",
       "17     524568  2010      Q2  \n",
       "18     524568  2010      Q3  \n",
       "19     524568  2010      Q4  \n",
       "20     524568  2010      Q1  \n",
       "21     524568  2011      Q2  \n",
       "22     524568  2012      Q4  \n",
       "23     524568  2013      Q2  \n",
       "24     524568  2013      Q1  \n",
       "25    9938532  2012      Q1  \n",
       "26     524568  2013      Q3  \n",
       "27     524568  2011      Q3  \n",
       "28      24937  2012      Q1  \n",
       "29   29381607  2011      Q3  \n",
       "30    3478354  2012      Q1  \n",
       "31      93026  2011      Q4  \n",
       "32      93026  2011      Q3  \n",
       "33    3478354  2010      Q3  \n",
       "34     301891  2008      Q4  \n",
       "35     120622  2008      Q4  \n",
       "36     298441  2013      Q2  \n",
       "37  413909753  2011      Q4  \n",
       "38  413909753  2012      Q3  \n",
       "39    4217814  2008      Q4  \n",
       "40     310736  2008      Q4  \n",
       "41     218812  2008      Q4  \n",
       "42   22077696  2009      Q4  \n",
       "43     120622  2009      Q1  \n",
       "44     253730  2009      Q1  \n",
       "45     298482  2009      Q1  \n",
       "46      93026  2009      Q1  "
      ]
     },
     "execution_count": 320,
     "metadata": {},
     "output_type": "execute_result"
    }
   ],
   "source": [
    "df_combined"
   ]
  },
  {
   "cell_type": "code",
   "execution_count": 321,
   "id": "d4c0d825",
   "metadata": {},
   "outputs": [],
   "source": [
    "# Rename the column to reflect the concatenated text\n",
    "df_combined = df_combined.rename(columns={'componenttext': 'transcript'})"
   ]
  },
  {
   "cell_type": "markdown",
   "id": "20b6ce92",
   "metadata": {},
   "source": [
    "## Combining the data into a final file"
   ]
  },
  {
   "cell_type": "code",
   "execution_count": 322,
   "id": "5c2b21a9",
   "metadata": {},
   "outputs": [],
   "source": [
    "#full_text = df_combined\n",
    "full_text = pd.concat([full_text, df_combined])"
   ]
  },
  {
   "cell_type": "code",
   "execution_count": 326,
   "id": "e72882f4",
   "metadata": {},
   "outputs": [
    {
     "data": {
      "text/plain": [
       "88996"
      ]
     },
     "execution_count": 326,
     "metadata": {},
     "output_type": "execute_result"
    }
   ],
   "source": [
    "full_text = full_text.drop_duplicates()\n",
    "len(full_text)"
   ]
  },
  {
   "cell_type": "code",
   "execution_count": 323,
   "id": "c5aaa6e0",
   "metadata": {},
   "outputs": [],
   "source": [
    "full_text.to_csv('proc_transcripts.csv', index=False)"
   ]
  },
  {
   "cell_type": "markdown",
   "id": "25dbcddb",
   "metadata": {},
   "source": [
    "## Transforming the structure and replacing companykey"
   ]
  },
  {
   "cell_type": "code",
   "execution_count": 53,
   "id": "2bf47835",
   "metadata": {},
   "outputs": [
    {
     "ename": "NameError",
     "evalue": "name 'full_text' is not defined",
     "output_type": "error",
     "traceback": [
      "\u001b[1;31m---------------------------------------------------------------------------\u001b[0m",
      "\u001b[1;31mNameError\u001b[0m                                 Traceback (most recent call last)",
      "\u001b[1;32m~\\AppData\\Local\\Temp\\ipykernel_21436\\1821184462.py\u001b[0m in \u001b[0;36m<module>\u001b[1;34m\u001b[0m\n\u001b[0;32m      1\u001b[0m \u001b[1;31m# Transforming the dataframe so that it reflects firm-year observations\u001b[0m\u001b[1;33m\u001b[0m\u001b[1;33m\u001b[0m\u001b[0m\n\u001b[1;32m----> 2\u001b[1;33m final_df = pd.pivot_table(full_text, values='transcript', index=['companyid','year'],\n\u001b[0m\u001b[0;32m      3\u001b[0m                           columns=['quarter'], aggfunc=lambda x: x)\n\u001b[0;32m      4\u001b[0m \u001b[0mfinal_df\u001b[0m\u001b[1;33m.\u001b[0m\u001b[0mcolumns\u001b[0m\u001b[1;33m=\u001b[0m \u001b[1;33m[\u001b[0m\u001b[1;34m'transcript_q'\u001b[0m \u001b[1;33m+\u001b[0m \u001b[0mstr\u001b[0m\u001b[1;33m(\u001b[0m\u001b[0mcol\u001b[0m\u001b[1;33m)\u001b[0m \u001b[1;32mfor\u001b[0m \u001b[0mcol\u001b[0m \u001b[1;32min\u001b[0m \u001b[0mfinal_df\u001b[0m\u001b[1;33m.\u001b[0m\u001b[0mcolumns\u001b[0m\u001b[1;33m]\u001b[0m\u001b[1;33m\u001b[0m\u001b[1;33m\u001b[0m\u001b[0m\n\u001b[0;32m      5\u001b[0m \u001b[0mfinal_df\u001b[0m \u001b[1;33m=\u001b[0m \u001b[0mfinal_df\u001b[0m\u001b[1;33m.\u001b[0m\u001b[0mreset_index\u001b[0m\u001b[1;33m(\u001b[0m\u001b[1;33m)\u001b[0m\u001b[1;33m\u001b[0m\u001b[1;33m\u001b[0m\u001b[0m\n",
      "\u001b[1;31mNameError\u001b[0m: name 'full_text' is not defined"
     ]
    }
   ],
   "source": [
    "# Transforming the dataframe so that it reflects firm-year observations\n",
    "final_df = pd.pivot_table(full_text, values='transcript', index=['companyid','year'],\n",
    "                          columns=['quarter'], aggfunc=lambda x: x)\n",
    "final_df.columns= ['transcript_q' + str(col) for col in final_df.columns]\n",
    "final_df = final_df.reset_index()"
   ]
  },
  {
   "cell_type": "code",
   "execution_count": 345,
   "id": "461c3911",
   "metadata": {},
   "outputs": [
    {
     "name": "stdout",
     "output_type": "stream",
     "text": [
      "26927\n"
     ]
    }
   ],
   "source": [
    "print(len(final_df))"
   ]
  },
  {
   "cell_type": "code",
   "execution_count": 361,
   "id": "1585ef4b",
   "metadata": {},
   "outputs": [
    {
     "name": "stdout",
     "output_type": "stream",
     "text": [
      "16624\n"
     ]
    }
   ],
   "source": [
    "# Replacing the companyid column with the cik\n",
    "cid_cik = pd.read_csv('CompanyId to CIK.csv', encoding='utf-8')\n",
    "cik_dict = dict(zip(cid_cik['companyid'], cid_cik['cik']))\n",
    "final_df['cik'] = final_df['companyid'].map(cik_dict)\n",
    "print(len(final_df))"
   ]
  },
  {
   "cell_type": "code",
   "execution_count": 363,
   "id": "c85a8da2",
   "metadata": {},
   "outputs": [],
   "source": [
    "final_df = final_df.dropna()"
   ]
  },
  {
   "cell_type": "code",
   "execution_count": 362,
   "id": "0863cc18",
   "metadata": {},
   "outputs": [
    {
     "name": "stdout",
     "output_type": "stream",
     "text": [
      "Number of company-year observations with all quarterly transcripts: 16124\n"
     ]
    }
   ],
   "source": [
    "print('Number of company-year observations with all quarterly transcripts:',(final_df.notna().all(axis=1)).sum())"
   ]
  },
  {
   "cell_type": "code",
   "execution_count": 364,
   "id": "17c624b4",
   "metadata": {},
   "outputs": [],
   "source": [
    "final_df.to_csv('proc_transcripts.csv', index=False)"
   ]
  },
  {
   "cell_type": "markdown",
   "id": "9c7f0136",
   "metadata": {},
   "source": [
    "# Cleaning the Transcripts"
   ]
  },
  {
   "cell_type": "code",
   "execution_count": 111,
   "id": "2c4f7ca8",
   "metadata": {},
   "outputs": [
    {
     "data": {
      "text/html": [
       "<div>\n",
       "<style scoped>\n",
       "    .dataframe tbody tr th:only-of-type {\n",
       "        vertical-align: middle;\n",
       "    }\n",
       "\n",
       "    .dataframe tbody tr th {\n",
       "        vertical-align: top;\n",
       "    }\n",
       "\n",
       "    .dataframe thead th {\n",
       "        text-align: right;\n",
       "    }\n",
       "</style>\n",
       "<table border=\"1\" class=\"dataframe\">\n",
       "  <thead>\n",
       "    <tr style=\"text-align: right;\">\n",
       "      <th></th>\n",
       "      <th>cik</th>\n",
       "      <th>year</th>\n",
       "      <th>variable</th>\n",
       "      <th>transcript</th>\n",
       "    </tr>\n",
       "  </thead>\n",
       "  <tbody>\n",
       "    <tr>\n",
       "      <th>0</th>\n",
       "      <td>1750.0</td>\n",
       "      <td>2010</td>\n",
       "      <td>transcript_qQ1</td>\n",
       "      <td>All of the 737s, Jon, and the older generation...</td>\n",
       "    </tr>\n",
       "    <tr>\n",
       "      <th>1</th>\n",
       "      <td>1750.0</td>\n",
       "      <td>2010</td>\n",
       "      <td>transcript_qQ2</td>\n",
       "      <td>In what aspect? Thank you, Tom, and good morni...</td>\n",
       "    </tr>\n",
       "    <tr>\n",
       "      <th>2</th>\n",
       "      <td>1750.0</td>\n",
       "      <td>2010</td>\n",
       "      <td>transcript_qQ3</td>\n",
       "      <td>Or higher. Probably higher than that. I mean, ...</td>\n",
       "    </tr>\n",
       "    <tr>\n",
       "      <th>3</th>\n",
       "      <td>1750.0</td>\n",
       "      <td>2010</td>\n",
       "      <td>transcript_qQ4</td>\n",
       "      <td>As I said, it's a new program. We've only been...</td>\n",
       "    </tr>\n",
       "    <tr>\n",
       "      <th>4</th>\n",
       "      <td>1750.0</td>\n",
       "      <td>2011</td>\n",
       "      <td>transcript_qQ1</td>\n",
       "      <td>Say it one more time, please. Yes, well, Joe, ...</td>\n",
       "    </tr>\n",
       "    <tr>\n",
       "      <th>...</th>\n",
       "      <td>...</td>\n",
       "      <td>...</td>\n",
       "      <td>...</td>\n",
       "      <td>...</td>\n",
       "    </tr>\n",
       "    <tr>\n",
       "      <th>64491</th>\n",
       "      <td>1921034.0</td>\n",
       "      <td>2011</td>\n",
       "      <td>transcript_qQ4</td>\n",
       "      <td>Good morning, ladies and gentlemen. The year o...</td>\n",
       "    </tr>\n",
       "    <tr>\n",
       "      <th>64492</th>\n",
       "      <td>1921034.0</td>\n",
       "      <td>2013</td>\n",
       "      <td>transcript_qQ1</td>\n",
       "      <td>Good morning. Before talking about the financi...</td>\n",
       "    </tr>\n",
       "    <tr>\n",
       "      <th>64493</th>\n",
       "      <td>1921034.0</td>\n",
       "      <td>2013</td>\n",
       "      <td>transcript_qQ2</td>\n",
       "      <td>Can you repeat your question. I didn't underst...</td>\n",
       "    </tr>\n",
       "    <tr>\n",
       "      <th>64494</th>\n",
       "      <td>1921034.0</td>\n",
       "      <td>2013</td>\n",
       "      <td>transcript_qQ3</td>\n",
       "      <td>Good afternoon, everybody. In Slide 12, we wil...</td>\n",
       "    </tr>\n",
       "    <tr>\n",
       "      <th>64495</th>\n",
       "      <td>1921034.0</td>\n",
       "      <td>2013</td>\n",
       "      <td>transcript_qQ4</td>\n",
       "      <td>No, we didn't. We will though. It's Elie Horn....</td>\n",
       "    </tr>\n",
       "  </tbody>\n",
       "</table>\n",
       "<p>64496 rows × 4 columns</p>\n",
       "</div>"
      ],
      "text/plain": [
       "             cik  year        variable  \\\n",
       "0         1750.0  2010  transcript_qQ1   \n",
       "1         1750.0  2010  transcript_qQ2   \n",
       "2         1750.0  2010  transcript_qQ3   \n",
       "3         1750.0  2010  transcript_qQ4   \n",
       "4         1750.0  2011  transcript_qQ1   \n",
       "...          ...   ...             ...   \n",
       "64491  1921034.0  2011  transcript_qQ4   \n",
       "64492  1921034.0  2013  transcript_qQ1   \n",
       "64493  1921034.0  2013  transcript_qQ2   \n",
       "64494  1921034.0  2013  transcript_qQ3   \n",
       "64495  1921034.0  2013  transcript_qQ4   \n",
       "\n",
       "                                              transcript  \n",
       "0      All of the 737s, Jon, and the older generation...  \n",
       "1      In what aspect? Thank you, Tom, and good morni...  \n",
       "2      Or higher. Probably higher than that. I mean, ...  \n",
       "3      As I said, it's a new program. We've only been...  \n",
       "4      Say it one more time, please. Yes, well, Joe, ...  \n",
       "...                                                  ...  \n",
       "64491  Good morning, ladies and gentlemen. The year o...  \n",
       "64492  Good morning. Before talking about the financi...  \n",
       "64493  Can you repeat your question. I didn't underst...  \n",
       "64494  Good afternoon, everybody. In Slide 12, we wil...  \n",
       "64495  No, we didn't. We will though. It's Elie Horn....  \n",
       "\n",
       "[64496 rows x 4 columns]"
      ]
     },
     "execution_count": 111,
     "metadata": {},
     "output_type": "execute_result"
    }
   ],
   "source": [
    "tran = pd.read_csv(\"proc_transcripts.csv\")\n",
    "# I decide to place all transcripts in one column again to be more efficient\n",
    "tran = tran.drop(columns=['companyid'])\n",
    "tran = tran.melt(id_vars=['cik','year'], value_name='transcript')\n",
    "tran = tran.sort_values(['cik', 'year', 'variable'])\n",
    "tran = tran.reset_index(drop=True)\n",
    "tran"
   ]
  },
  {
   "cell_type": "markdown",
   "id": "3ab6f389",
   "metadata": {},
   "source": [
    "## Filtering based on Length "
   ]
  },
  {
   "cell_type": "markdown",
   "id": "b99cffb7",
   "metadata": {},
   "source": [
    "Let's identify and examine the row with the smallest length"
   ]
  },
  {
   "cell_type": "code",
   "execution_count": 112,
   "id": "e94c6bf6",
   "metadata": {},
   "outputs": [],
   "source": [
    "lengths = tran['transcript'].str.len()\n",
    "min_index = lengths.idxmin()\n",
    "min_row = tran.loc[min_index]"
   ]
  },
  {
   "cell_type": "code",
   "execution_count": 113,
   "id": "ae43eb96",
   "metadata": {},
   "outputs": [
    {
     "data": {
      "text/plain": [
       "'Hi Jason.\\r\\n Sure.\\r\\n'"
      ]
     },
     "execution_count": 113,
     "metadata": {},
     "output_type": "execute_result"
    }
   ],
   "source": [
    "tran['transcript'][min_index]"
   ]
  },
  {
   "cell_type": "markdown",
   "id": "47b7aa70",
   "metadata": {},
   "source": [
    "This is surely not the whole transcript and something has likely gone wrong in parsing, I decide to delete all rows containing less than 100 characters and examine the smallest length once again. I repeat this proces untill I have found a smallest transcript that seems to be a full transcript with valuable information. \n",
    "The final cut-off value is set to a length of 5000. This deletes only 45 transcripts."
   ]
  },
  {
   "cell_type": "code",
   "execution_count": 114,
   "id": "7c6571b0",
   "metadata": {},
   "outputs": [],
   "source": [
    "tran = tran[tran['transcript'].str.len() >= 5000]"
   ]
  },
  {
   "cell_type": "code",
   "execution_count": 115,
   "id": "34c696ed",
   "metadata": {},
   "outputs": [],
   "source": [
    "lengths = tran['transcript'].str.len()\n",
    "min_index = lengths.idxmin()\n",
    "min_row = tran.loc[min_index]"
   ]
  },
  {
   "cell_type": "code",
   "execution_count": 116,
   "id": "c3f9b4bd",
   "metadata": {},
   "outputs": [
    {
     "data": {
      "text/plain": [
       "\"Thank you, John.  We are encouraged by our results in the first quarter.  Comp sales in our two largest categories, music and DVD, has reversed the trends we've seen over the last several years.  The initiatives we implemented for these two categories have helped us stabilize our sales and increase our market share despite operating 23% fewer stores in last year.\\r\\nWe continue to leverage our SG&A expenses which helped us reduce our EBITDA loss in the first quarter versus last year's first quarter.\\r\\nWe ended the quarter with cash of $21 million and zero borrowings on our line of credit as compared to the borrowings of $29 million last year.  We amended our credit facility extending it to April 2013 providing us with the capital to refund our business for the next three years.\\r\\nAs I mentioned earlier, we also hired Mike Honeyman as our President and COO to strengthen our management team and help drive our operating results.  We made progress in the first quarter but we still have a lot to accomplish this year.  We're moving in the right direction and look forward to the remainder of 2010.\\r\\nWith that, I would like to open up the call for any questions that anyone has.  Operator?\\r\\n Thank you.  Good morning, everyone.  I'm sorry we're starting a few minutes late.  On the call with me today is John Sullivan, our Chief Financial Officer and also with us today is Mike Honeyman, our new President and COO.\\r\\nMike brings our company extensive retail leadership with experience at Bernie's TV, Bed Bath and Beyond and Christmas Tree Shops.  We're happy to have Mike onboard and look forward to working with him to drive shareholder value.\\r\\nThank you for joining us today as we discuss our first quarter results.  We'll take questions following our comments.  Total sales in the first quarter decreased 18% to $156.5 million as we operated 23% fewer stores.  Costs for our sales decreased 3%.\\r\\nFor the quarter the company recorded a net loss of $11.4 million or $0.36 per share compared to a net loss of $13.7 million or $0.44 per share for the same period last year.  Our overall quarter one comp decline was 3% driven by a 36% decrease in the video game category which represents 6% of the business.\\r\\nThe negative comp sales in video games were due to a reduction in the number of stores carrying games.  During fiscal 2009, the company eliminated the game category in over 200 stores.  At the end of the first quarter, 139 of our stores carry games compared to 347 a year ago.\\r\\nMusic was down just 1% on a comp store basis with the top 50 up 20% for the quarter.  The music category represented 36% of our business for the quarter, the same as last year.  For the quarter, the industry was down 12%.\\r\\nVideo sales increased 1% on a comp store basis.  The comp increase was driven by the performance of Blue Ray as we were starting to see broad acceptance of this format.  Comp sales at our top 50 increased 22% during the quarter.  Video now represents 44% of our business, up from 43% last year.  For the quarter, the industry was down 5%.\\r\\nComp store sales for electronics, accessory and trend also increased 1% on the comp basis and represented 14% of our business in the quarter, up from 13% last year.\\r\\nNow John will take you through financial highlights for the quarter.  John?\\r\\n I'd like to thank everybody for their time this morning.  We look forward to talking with you when we announce our second quarter results.  So have a great day.  Thank you.  Thank you, Operator.\\r\\n Thank you, Bob.  Good morning.  As Bob mentioned, our net loss for the quarter was $11.4 million or $0.36 per share.  Last year our net loss was $13.7 million or $0.44 per share.  Our gross margin rate for the quarter decreased to 32.9% from 34.3% last year.  The reduction in gross profit as a percentage of sales was due to lower vendor allowances this year.\\r\\nSG&A expenses were $59.3 million, a reduction of 22% on the sales decline of 18% resulting in a decrease as a percentage of sales from 39.5% last year to 37.9% this year.  Included in SG&A expenses is a gain of $350,000 related to the acquisition of five value music stores offset by $150,000 in transition costs.\\r\\nEBITDA was a loss of $7.8 million in the quarter versus the loss of $9.9 million last year.  Our net interest expense was $688,000 in the quarter versus $703,000 last year.  The decrease is due to no borrowings on our credit facility.  We ended the quarter without borrowings under the line of credit compared to borrowings of $29 million last year.\\r\\nYear-over-year we have lowered our inventory by $81 million.  Our quarter-end inventory position was $251 million versus last year's $333 million.  On a square foot basis, this is $69 a foot versus $74 last year.\\r\\nDuring the quarter we closed 18 stores and acquired five new stores.  We ended the quarter with 544 stores in operation and square footage totaling 3.6 million versus last year's 704 stores and square footage totaling 4.5 million.\\r\\nNow I'll turn it back to Bob.\\r\\n\""
      ]
     },
     "execution_count": 116,
     "metadata": {},
     "output_type": "execute_result"
    }
   ],
   "source": [
    "tran['transcript'][min_index]"
   ]
  },
  {
   "cell_type": "code",
   "execution_count": 117,
   "id": "f4a67c12",
   "metadata": {},
   "outputs": [
    {
     "data": {
      "text/plain": [
       "64451"
      ]
     },
     "execution_count": 117,
     "metadata": {},
     "output_type": "execute_result"
    }
   ],
   "source": [
    "# As we can see, only 45 transcripts have been excluded\n",
    "len(tran)"
   ]
  },
  {
   "cell_type": "markdown",
   "id": "5f47dd82",
   "metadata": {},
   "source": [
    "## Adressing inaudible sections in transcripts"
   ]
  },
  {
   "cell_type": "markdown",
   "id": "d8d0c952",
   "metadata": {},
   "source": [
    "Some transcripts need to be altered due to issues (e.g., \"inaudible\")"
   ]
  },
  {
   "cell_type": "code",
   "execution_count": 118,
   "id": "84a54b37",
   "metadata": {},
   "outputs": [
    {
     "name": "stdout",
     "output_type": "stream",
     "text": [
      "10224\n"
     ]
    }
   ],
   "source": [
    "print(len(tran[tran['transcript'].str.contains('inaud', na=False)]))"
   ]
  },
  {
   "cell_type": "code",
   "execution_count": 119,
   "id": "ea10e5a8",
   "metadata": {},
   "outputs": [
    {
     "name": "stderr",
     "output_type": "stream",
     "text": [
      "C:\\Users\\smesman001\\AppData\\Local\\Temp\\ipykernel_21436\\3084243892.py:1: UserWarning: This pattern is interpreted as a regular expression, and has match groups. To actually get the groups, use str.extract.\n",
      "  print(len(tran[tran['transcript'].str.contains('(inaudible)', na=False)]))\n"
     ]
    },
    {
     "name": "stdout",
     "output_type": "stream",
     "text": [
      "10223\n"
     ]
    }
   ],
   "source": [
    "print(len(tran[tran['transcript'].str.contains('(inaudible)', na=False)]))"
   ]
  },
  {
   "cell_type": "code",
   "execution_count": 132,
   "id": "0fb9b914",
   "metadata": {},
   "outputs": [
    {
     "name": "stdout",
     "output_type": "stream",
     "text": [
      "4\n"
     ]
    }
   ],
   "source": [
    "print(len(tran[tran['transcript'].str.contains('indiscern', na=False)]))"
   ]
  },
  {
   "cell_type": "code",
   "execution_count": 121,
   "id": "89a79da8",
   "metadata": {},
   "outputs": [
    {
     "name": "stdout",
     "output_type": "stream",
     "text": [
      "4\n"
     ]
    }
   ],
   "source": [
    "print(len(tran[tran['transcript'].str.contains('indiscernable', na=False)]))"
   ]
  },
  {
   "cell_type": "code",
   "execution_count": 122,
   "id": "e00f9398",
   "metadata": {},
   "outputs": [
    {
     "data": {
      "text/plain": [
       "\"Asulam, yes. Asulam is used on sugar cane, it's not - I mentioned sugar cane before but the product we're talking about the sugar cane is another product.\\r\\n It's not going to affect anything.\\r\\n No, no, no -\\r\\n Hi, Gene.\\r\\n It's the mark - the harvest for potatoes. This is a post-harvest -\\r\\n No, not at all; completely different business.\\r\\n Next question.\\r\\n What I said was that one of the reasons that business continues to grow is because of the organic pigments. As you know we entered the organic pigment business about three years ago, we moved upstream from intermediates. Magazines - 50% of the organic pigments are used in printings for magazines because the magazines are color magazines and that business continues to go.\\r\\n No, we are moving international in colors and chemicals in Europe too, absolutely, and also in South Asia to our Singapore office.\\r\\n Not that I know of, maybe you know more than me, but there is a whole push on generic drugs. My opinion is, I don't want to be political, but I believe with the new administration there's going to be a strong push to reduce healthcare costs and that's Aceto, generic drugs, lower price intermediates, that's our core functionality, so (inaudible) the lowest price market places and executing by good quality assurance and regulatory support.\\r\\n The four companies in the business have their own sales force, but they sell primarily through distributors, to our knowledge other than in some rare cases we - they do not sell directly to veterinarians, right. We are building our own organic sales force, we have one person who is out selling the iso 4 to the veterinarians, we have a couple of distributors who we are working with and we are going to build a local sales force that works for Aceto, Aceto people.\\r\\n My guess is it's somewhere in the $100 million range.\\r\\n Thank you.\\r\\n Thank you. Good morning, and welcome to Aceto Corporation's fiscal 2009 First Quarter Conference Call and Audio Webcast.\\r\\nWith me today are Leonard Schwartz, our Chairman, President and CEO; Douglas Roth, our Chief Financial Officer; and Hank Gracin of Lehman & Eileen, our outside securities counsel.\\r\\nDuring this call, Doug will give an overview of the company's financial results for the fiscal first quarter ended September 30, 2008. Len will discuss the performance of our business segments and provide an update on our strategic initiatives for growth. Following that we will open the call for questions.\\r\\nNow I’d like to turn the call over to Doug Roth. Doug?\\r\\n Ultimately it'll be double-digits millions. How's that?\\r\\n Why - let me answer the last one first because that's an easy one. We have very little money in China.\\r\\n We don't know. It could be 10, it could be 15, it could be 20.\\r\\n Nobody is doing, which is quite surprising to me. Nobody has -\\r\\n Okay.\\r\\n Just enough to buy some Chinese -\\r\\n (inaudible), please. I'm being conservative. I don't want to be too optimistic. We consider this a huge opportunity. We built up in the U.S. We moved in this business in the U.S. with the Mercks and the Pfizers of the world, and we're doing something approaching $25 million in the U.S. We started this five years ago. We expect the same thing to happen to Japan. Japan, we expect more positive results because we have no competition. There's simply nobody doing what we're doing. 95% of the pharmaceutical industry is using Japan by Japanese pharmaceutical manufacturers are manufactured in Japan.\\r\\n You're welcome.\\r\\n Correct. And a payment - proportionally more - more payments in accounts payable, and our inventory didn't come down as much.\\r\\n Yes, but after that there is steep incline in terms of the U.S. taxes we're paying, so, what we did is we took a look at - the first $13 million that we bring in, it was tax - it's called the high taxed profits overseas. If we were to go and bring in an additional $5 million the tax consequences would leap significantly here. It would be therefore more economical for us to borrow as opposed to repatriate. So it's - that's the sort of model that you look at.\\r\\n I haven't even done that model. All I can tell you is the next million is like 10% or 12%.\\r\\n We've begun the field safety trial. We have distributed product of that variance, and we have a number that varies in three different locations. This is all a protocol, a very rigorous protocol that's been accepted by the USDA. We've begun - we've begun the field safety trial. They have to vaccinate a certain number of dogs in different locations and a certain number of veterinarians. Again, this is not efficacy. They've accepted the efficacy and in fact they felt our product is, they gave us some indications that our product may be even better than the domestically produced products, right, but this is field safety. Looking for arrhythmia, swelling, that kind of stuff, and generally these products, you have no problems with these tests at all. The efficacy test was the main test.\\r\\n Well, actually, the USDA not the FDA. Sorry.\\r\\n Let me go back. The fact that they allowed us to import the vaccine was a critical step. The U.S. government is paranoid about importing any biological products into this country. Without 100% plus certainty that the products are safe.\\r\\n This is a market opportunity I've never seen, the quality I’ve never seen before. There is four suppliers in the marketplace down from five. It's without doubt an oligopoly, the veterinarians don't even see a representative of the manufacturers, they don't even give them the right time a day, and just good selling will deliver the business now. Aceto has more strengths in good selling. We're the 25th largest company in Long Island, we're a New York company, all those people are not around there and we intend to build a brand.\\r\\n They're not holding their breath waiting, but we have every reason to believe that we will be able to sell two of the top three big box retails pharmacies. Plus two of the second tier.\\r\\n (inaudible)\\r\\n Okay.\\r\\n You're welcome. Next?\\r\\n Thank you, Ted. And good morning, everyone. We are very happy with the operating results that we have reported this morning. Quarterly sales increased 18% to $94 million compared to $80 million in the comparable 2008 quarter. Gross profit increased 30% to $19 million from $15 million in the year ago quarter.\\r\\nOperating income increased 87% to $7 million from $4 million in last year's first quarter. This resulted in our net income increasing 250% to $5 million compared to $1 million in 2008 comparable quarter. Earnings per share were $0.18 in the fiscal first quarter surpassing the $0.05 per diluted share that we reported in the first fiscal quarter of 2008.\\r\\nBefore I turn the call over to Len, I just want to take a minute to look at our cash position and to discuss our repatriation plan and the corresponding tax charge that we took in the first quarter.\\r\\nAs of September 30th we're reporting cash, cash equivalents and short-term investments of $43 million and not all that money is available to use in the U.S. because it's sitting in our foreign subs. As we discussed during our last earnings call, we expect our cash requirements to be approximately $12 million in our Crop Protection segment over the next 12 months to 18 months to pay for capital investments, namely data compensation and task force membership to support our entry into four new products.\\r\\nWe plan to repatriate $13 million from our foreign subsidiaries and we have recorded a tax charge accordingly of $250,000 in the first quarter results to cover the anticipated taxes associated with the repatriation. We anticipate actually putting everything in place and repatriating the cash in our fiscal third quarter. So that's - we hope to have it all done before March 30, 2009.\\r\\nNow I’d like to turn the call back over to Len.\\r\\n Hi, Dan.\\r\\n Have we talked about what they are? No. I don't think so. We haven't disclosed them.\\r\\n Let me look at the globe little bit on this issue of repatriation. We're repatriating this money because we need to make capital investments. If we didn't need to make capital investments here we would not repatriate the money. It's likely and maybe we'll talk more about acquisition, it's likely that if we make any further acquisitions they'll be in Europe anyway and the money's there, or outside the U.S., not only in Europe, okay?\\r\\n On a regular basis we said that the increase domestically in our domestic API business was because we had a good order pattern for existing products, but that doesn't mean we haven't launched any new products. Understand where we went. You know very well, you do personally, that we did really well in 2002, 3 and 4 and went down because we had blockbusters. The products we have, we have domestically something approaching 100 products in the pipeline, but they're not blockbusters, all small products. We're adding products on a regular basis and in Europe, too. So you can't - it's not by looking at blockbusters, and we're going to do this in two quarters and we're going to have a big jump in sales. It's continuing more, it's continuing business growth, and along with that, what that does it makes us more important to the customers because we have a much broader breadth of products for the customers.\\r\\n On a base of 100 products. We have about 100 new products we're working here. And they're all cumulative. They're not, you get it and goes away. We're not losing any products these days. Three years ago we got (inaudible) very simply because we lost two big products globally. We're not losing any products. This is like building a brick wall, on top of the other. It's not concrete blocks that are bigger than bricks, it's bricks.\\r\\n You can't say what they could mean. You could look at the Japanese market for pharmaceutical intermediates of $4 billion, and we believe that over a period of time we can build a business of tens of millions of dollars, exactly what we did in the U.S. starting about five years ago, mid-level pharmaceuticals intermediates.\\r\\n Okay? And those are the kinds of, I now understand your question. What we're looking at is these are all key intermediates for Japanese pharmaceutical manufacturers. They would not be interested in a product spending two minutes doing any research, quality control and qualifying a new source if their products were less than $100,000.\\r\\n Double-digit starts with 10.\\r\\n Thanks, Doug. Good morning, everyone. In the first quarter - looking at our business segments, in the first quarter sales in the Health Sciences segment were 21% largely the result of increased sales from our foreign operation, particularly our European operations and increasing sales in our nutritional products and an increase in sales in our domestic generic products group. The increase in sales in our domestic generic products can be attributed to increased volume of business for existing products.\\r\\nChemicals and Colorants sales grew 19% compared to the 2008 comparable quarter primarily due to increased domestic sales of pigment, dye and miscellaneous intermediates as well as an increase in sales from our foreign operations.\\r\\nUnfortunately, sales in our Crop Protection segment decreased 23% from the 2008 comp quarter largely the result of decreased sales of our sprout inhibitor products, which are used on potato crops. These are post-harvest sprout inhibitors, not pre-harvest.\\r\\nI'd now like to provide you with an update of our current and strategic initiatives. As you know we have three initiatives. The first one is to provide vaccines for companion animals. It's moving forward. During the first quarter we are very pleased to have received a letter from the USDA stating they have accepted the results of our challenge study and that our vaccine was at least as good as other currently available products.\\r\\nIn addition, the USDA approved the protocol for the field safety test and issued Aceto a permit to import the necessary quantities of the vaccine to begin the testing. This vaccine has been imported, distributed to veterinarians who will be administering the vaccine.\\r\\nWe believe that this is the final major step in the approval process, however, please do not forget that this is a regulatory deal and while we are doing everything we can to expedite the process there can be no assurance given as to when the approval process will be 100% competed.\\r\\nI’d like to add that the United States government, the FDA, the USA and Law agencies are extremely cautious about the import of biological products into the United States, and we believe that just receiving a permit to import even the trial quantities is a very, very significant step forward.\\r\\nAs it relates to the Japanese market, we have received our third order from a pharmaceutical intermediate for a Japanese pharmaceutical manufacturer. We're encouraged by our success. We continue to enhance our resources there and it's going to take awhile, but there is a large number of business opportunities which is recognized by the large number of sample requests that we're receiving.\\r\\nWith respect to our initiative to distribute finished dosage form generic drugs under the Aceto brand, we are getting very close to having our Medicare, Medicaid and private insurance reimbursement issues resolved, and we are continuing our efforts in this area to enhance our pipeline of products with finished dosage forms, finished dosage forms generic drug.\\r\\nOne of our peoples in India now along with our Indian people continuing to look for new products to sell and we believe will be successful. It's taken a long time, but it's that the nature of the business. (inaudible) creating a new pharmaceutical company, which is in effect setting up the finished dosage for a company is not an easy task.\\r\\nWe ended the first quarter of '09 with working capital of $131 million, no long-term bank debt and shareholders equity of $141 million. We are in excellent financial condition with our no long-term bank debt. I don't know if we have any bank debt at the moment, even short term, and we intend to leverage our financial position to enhance our business, short, medium, and long term.\\r\\nWe believe this level of working capital provides us with the financial strength to continue to move our strategic initiatives forward as well as to take market opportunities\\r\\nto enhance our business to grow our business, particularly, giving us the ability to take purchase positions at advantageous prices in the highly volatile markets of our two principle supply markets, principally, China and India.\\r\\nThese markets are very volatile. We have the cash to take positions. The suppliers that know we have the cash in dealing with us that will be paid, and in fact, some of our small competitors both in the U.S. and Europe just can't even buy goods now because they can't get credit to do so. Our financial position is being used to enhance our business.\\r\\nObviously, we remain very optimistic about the company's long term prospects. Our core businesses are doing well, at least two or three of them, although the Crop Protection business we have four products in the pipeline. And again we're not forgetting the need to continue to focus on strong cost controls as well as maintain our very, very strong cash position.\\r\\nLadies and gentlemen, that's my written presentation and I'll be happy to take your questions now.\\r\\n Yes. When the balance sheet comes out, Gene, you'll see that we had - our cash did decreased, but that has a lot to do with the fall of the euro compared to the U.S. dollar from June, right? At June, the balance sheet - and don't quote me, but the balance sheet closing rate at June was somewhere in the neighborhood of 158, and at September 30, it's like 147 or something. So just by the very fact that the U.S. dollar vis-à-vis the euro got stronger, the cash went down. You'll also see that in our equity section when we convert our European operations to the U.S. dollar. But when you take a look at the balance sheet, you'll see that our inventory is just a few million dollars less than it was in June, but our payables came down significantly, so we believe the cash position even though we have a headwind now with the euro, okay? Because right now, as you know, the euro is a little bit short of 130, alright? So that's going to hurt us a little bit, but we should pick up some cash from our reduction in inventory.\\r\\n It's the market for potatoes.\\r\\n Because less potatoes were harvested, or maybe they went to market sooner, or maybe when you export potatoes or they go long distance they lose more product; just product mix, just the way the product was used.\\r\\n No, I didn't say 23% less potatoes, but maybe the potatoes were used quicker. Maybe it was a less harvest. Maybe - it depends upon how long they have to store the potatoes, how far they have to ship them. It's more than just the potato market.\\r\\n No, because this is normal. It's up 20%, down 20%. This is the normal for this business.\\r\\n Hi, John.\\r\\n Asulam is an insecticide - it's a herbicide.\\r\\n It's a niche product used on sugar cane since the beginning of time. It's a small market in the United States, Russia is a good market, but I can't imagine, I just can't imagine.\\r\\n We are so far removed from that, I mean it's just, our organic pigment business is just moving on at a steady pace - steady slow growth, that's where we are.\\r\\n The source, but not the only source. That was the strength.\\r\\n No, we are doing that ourselves.\\r\\n Because we don't have the capacity to sell nationally, we don't want to compete with the big guys nationally because we can't. These people have the capability to create severe market disruptions. We are looking for a significant share of the New York metropolitan area which is defined as a 50 mile radius from where you're sitting right now.\\r\\n We are looking to sell, but understand that we are going to be a very small player, we are talking about Merck, Pfizer, Schering-Plough, and DSM-Wyatt, alright, Wyatt, Merck, Pfizer, Schering-Plough. We cannot go head-to-head with these people. Aceto's never been able to go head-to-head with Dow, DuPont, Union Cabot [ph]. We have to fit in our place, and if we try to achieve significant market share in the New York market as our first approach that'll be fine.\\r\\n Well, thank you very much. You can be sure on behalf of the board, management, and all our people at Aceto we will not give up, and we'll continue on irrespective of what happens in the world. Thank you very much.\\r\\n Let me tell you that I can't really comment on that. We just don't know. All I can tell you is that the company is in severe, the company, not the company, God forbid. The country, the world is in a severe economic crisis, okay? So we don't know where the world is going, but what we're trying to do is structure Aceto to make sure that we know where Aceto is going, and even if we are not happy to go back under any circumstances irrespective of what happened at the rest of the world, and I made some notes about Aceto's plans in this economic climate, so please, got to digress. Some of this I've written already, so I understand you can tell the difference when I'm reading or talking at lip.\\r\\nWhat we've done is we've done some research about companies during the Great Depression, successful companies during the Great Depression, 1929 to 1939 of course, right? These companies had positive and strong cash flows, they had none or limited debt, they maintained strong brands, Kellogg, Proctor & Gamble, Chevrolet, Camels. They supported these brands by advertising, and yet through all this they provided best value to the customers at the lowest price. They consistently look for innovative ways to promote business.\\r\\nFor example, McCormick Spices, which is now a very successful large company, was not such a large company in the 1940s. They were a very small company. What they did was they figured out, they realized of course that people would use cheaper foods. They developed spices and flavors so people could get good taste out of the cheaper food. That propelled them to greatness. And lastly, they were not afraid to make capital investments if the business warranted. I'm not talking about McCormick, I'm talking about companies that knew what they were doing during the Depression. P&G developed soap operas and soap opera is a name coined by P&G during the Depression.\\r\\nThe research that we've done is continuing so, to carry on, we developed what we call Aceto strategic plan for operating in a highly recessionary economic environment. Whether you call a depression or a recession, it doesn't matter. It's highly recessionary. Our strategy is to maintain strong cash flow by controlling purchasing, strengthening inventory management which I think you'll see coming up, we're working on that very aggressively, credit policies and carefully balanced SG&A expenditures so expenditures so as to not inhibit long-term growth. We're not cutting SG&A just to cut SG&A to make short-term numbers look better. We're going to be careful about this but we have to maintain long-term growth. We're going to continue our careful enhancement of our sourcing and regulatory capabilities so as to continually provide our customers with most competitive pricing combined with quality assurance and regulatory support.\\r\\nAs I said before, we are already utilizing our cash position to take advantage of price volatility in China and India, our major sourcing markets. We will continue to provide the highest level of customer service, that's mothered in apple pie, of course, we will always do that, but we're really pressing that harder because we believe our competitors won't be able to do that. We will increase our activity to find investment opportunities. We believe opportunities will come along.\\r\\nAnd the major new thing that we're going to do is we're going to create and manage a global Aceto brand. We're working on that now and our brand will be an industrial brand, principally industrial brand, other than pet vaccines and some finished dosage forms, but we intend to create an Aceto brand so that both our customers and suppliers know that they have a high level of reliability and confidence in dealing with Aceto. And that's how we intend to continue our growth irrespective of the economic situation in the world. Sorry for all that, gentlemen.\\r\\n Thank you.\\r\\n The definition of short-term in Japan is five years. It takes time. It takes time.\\r\\n It's a dream. It's a dream. I mean in no cases we have price edge are anywhere from 30% to 40% lower than the Japanese manufacturers.\\r\\n I believe this is normal in our business. This is sort of roundabout but a normal way.\\r\\n Okay. Let me talk about it. We have six products in our pipeline, in our Crop Protection pipeline. Two of them we filed for - I'll come back to that - two of them we intend to file for. The EPA under Fifth Rule regulates agricultural chemicals, economic poison, whether it's ant killer or it's a crop protection product, or a post-harvest product like our CIPC, it's regulated. To get an EPA label, which is a license to sell, you have to supply data that the EPA requires. On products that are existing you have an option of not supplying the data but citing CIT ING somebody else's data. That's how it's done. You cite somebody else's data and when you put your application in for the label which is the license you either say you're going to submit the data by a certain time or cite somebody else's data. You check the box. When you check the box you then have to pay compensation to the people that have the existing label. It's called a cite all; you're citing all their data. Now a lot of the data on some of the products we're working on is all the data, there's a 15-year exclusionary rule just like a patent. If the data is more than 15 years, you don't have to pay. So the money that we intend to expend will be compensation for the data. Now this compensation is generally negotiating between you and the player or players in the marketplace.\\r\\nFor example, if there are five players in existing, or five registrants, if you will, and you will be number six, you may have to pay one-sixth. If there is two, you may have to pay 50%. But the way this works is you cite the data and then a year later you start negotiating and if you are in part of the component of the negotiation is that if you only achieve a 20% market share which is Aceto is not going to be the predominant player in any of these markets, you pay less than half. So that money is based on data compensation. Okay now, is that clear?\\r\\nAnd also task force, there's also task forces for other issues relating to it, for example, contact with human beings and spray applications and things like that. If you have a product that's part of task force you got to pay to the task force some money, but generally their task force are very broad, cover a task force what's called, one is called the spray drift pass, I'm sorry - spray drift, how the spray drifts, how it affects humans, there's like lots of products so that's not the biggest portion of the money. The big portion of the money is paying compensation to the label holders, if you will. Is that clear? Hello?\\r\\n Okay, let me answer. Can I come back to again Rizzo's questions, please. Dan? Okay, Dan's not there. Dan, you asked about the four products. The four products, two of which we filed and two of which we intend to file within the next couple months I would assume. Product A marketplace is four-fold, rice, corn, vegetables and sugar cane. Product two is cotton. Product three is potatoes. Product four is vegetables and nuts. Plus we have two more products we're working on, which are more of a longer term; they're going to be filed in the 12-month to 18-month time frame. Okay. Next question?\\r\\n Okay.\\r\\n This test we believe we have to do all - it's based on the number of dogs that are available. Some of the testing - puppy gets three injections. So some of the dogs will require one, some will require - because they use puppies, mid-age dogs and older dogs, because every dog gets vaccinated every year, or should be vaccinated every year. But we believe that the requisite number of vaccines administered will be within six months. Then we have to compile, analyze the data and submit to the USDA for their review.\\r\\n You don't have to apologize. Big shareholders don't have to apologize. Anyway, but this is not nearly as complicated data as the efficacy data. The efficacy study took three months to four months of analytical and statistical. This is the veterinarians have to simply report whether (inaudible) reactions. Very simple. So we don't believe it's going to be nearly as long, but it's gotten, again, we don't know when it's going to happen. It's going to take some time, but we believe the pot of gold is there at the end of the rainbow, and we're getting there.\\r\\n No, but we're actually doing a leading. You recall the isoflurane, which is the inhalable anesthetic used for humans and veterinary. We're focused on the veterinary. We've actually entered that market and what we call big scale. We bought a whole bunch of products from our supplier and we're actually going out to veterinarians now selling isoflurane and also to few distributors. That's our strategy, is to get Aceto known by the veterinarians so when we have the vaccine we will be able to come in and walk in the door. And this is all in a New York metropolitan area, if you will, where there's lots of dogs around here.\\r\\n We have every reason to believe that we will have the final approval on February 1st. Again, this is not a regulatory approval; this is still in that documentation. We're already there but they only allow submissions for approvals four times a year, November, February, May and I guess September or whatever. At which point we believe we'll be able to enter the business and start selling directly.\\r\\n You're welcome.\\r\\n Thanks, John.\\r\\n Well, really - how can we answer this, later, can we call - can we make a release about this later? I don't want to mislead anybody. Okay. Can we come back to that? There are so many different market segments that we're in. I don't want to mislead you, so we're going to - Ted is going to talk to our Mike Feinman who runs that Crop Protection business and we'll come back to it later, is that okay?\\r\\n That's - Dan it's just time deposits that are over 90 days, otherwise we were taking advantage of the LIBOR market in Germany and in Netherlands, it was almost 4.9% or 5% once it got to 120 days, that's all it is. The cash equivalent is 90 days or less, investments is just time deposits with a longer term than 90 days.\\r\\n 50 products is too much, but there is a potential in two years, two years, three years to be doing well in excess of $10 million a year business, exactly what we did in the United States.\\r\\n Hard to quantify, but we are getting - the most important thing is that we are getting acceptance. That's the critical issue.\\r\\n Well, actually not. It's - the driver of the Chemicals and Colorants business is largely, it has been the introducing - introduction of new products. It's all China, it's virtually all China. It's been added to our capabilities because a lot of the Chinese manufacturers are not in good shape and they are concerned about who they are selling to, they know Aceto very well, they are very comfortable selling to Aceto, and basically that's it. Even though overall consumption maybe down, it certainly down everywhere, certainly in automotive, housing, appliance and what not. If we have a small percentage of the market we can grab more market share for the existing products and we can introduce new products because very candidly there is nobody else other than Aceto introducing new specialty chemical products from China right now, and it's been this way for a couple of years, so even though the markets maybe down we are achieving more market share for our existing products and have the capability to launch new products on a more regular basis now.\\r\\n Okay. Somewhere - if you take a look at our cash and cash equivalents and that is let's say $43 million, approximately $24 million of it is offshore.\\r\\n Probably not.\\r\\n Okay. So therefore as I said it's more economic to borrow the money as opposed to repatriate it. And we don't need it here in the U.S. per se because this $13 million will satisfy the “capital requirements” that we need to enter into the Ag markets so there is no real need, why, why take the tax charge of - and I'm earning more money overseas because the LIBOR over there is right now much better than over here so we look at it three dimensionally.\\r\\n So we do what we have to when we have to do it. We're in good shape in every case.\\r\\n My guess is my understanding is we're probably getting two or three new products per quarter now.\\r\\n We believe Japan is a very slow, steady market. The economic situation in the world at the present time is making the Japanese more cost conscious which plays into our hands. Even though they won't sacrifice quality, they'll consider a lower cost supplier. The three orders we got in Japan were all initial orders, also could be called trial orders from Japanese pharmaceutical manufacturers. They were all under $50,000, two of them were well under $50,000.\\r\\n One, okay. One product, one product I know could be something on the order of a $0.5 million a year.\\r\\n\""
      ]
     },
     "execution_count": 122,
     "metadata": {},
     "output_type": "execute_result"
    }
   ],
   "source": [
    "tran['transcript'][36]"
   ]
  },
  {
   "cell_type": "markdown",
   "id": "8f596dad",
   "metadata": {},
   "source": [
    "After inspecting multiple cases that contain ('inaudible') it seems that only a small part of the transcript is inaudible. I therefore decide to delete only these part (e.g. ('inaudible')) instead of the entire transcript"
   ]
  },
  {
   "cell_type": "code",
   "execution_count": 123,
   "id": "f864dfaa",
   "metadata": {},
   "outputs": [
    {
     "name": "stderr",
     "output_type": "stream",
     "text": [
      "C:\\Users\\smesman001\\AppData\\Local\\Temp\\ipykernel_21436\\4043752616.py:2: FutureWarning: The default value of regex will change from True to False in a future version.\n",
      "  tran['transcript'] = tran['transcript'].str.replace('(inaudible)', '')\n",
      "C:\\Users\\smesman001\\AppData\\Local\\Temp\\ipykernel_21436\\4043752616.py:2: SettingWithCopyWarning: \n",
      "A value is trying to be set on a copy of a slice from a DataFrame.\n",
      "Try using .loc[row_indexer,col_indexer] = value instead\n",
      "\n",
      "See the caveats in the documentation: https://pandas.pydata.org/pandas-docs/stable/user_guide/indexing.html#returning-a-view-versus-a-copy\n",
      "  tran['transcript'] = tran['transcript'].str.replace('(inaudible)', '')\n"
     ]
    }
   ],
   "source": [
    "# Deleting these parts of the transcripts\n",
    "tran['transcript'] = tran['transcript'].str.replace('(inaudible)', '')"
   ]
  },
  {
   "cell_type": "code",
   "execution_count": 124,
   "id": "820bdfb7",
   "metadata": {},
   "outputs": [
    {
     "name": "stdout",
     "output_type": "stream",
     "text": [
      "3\n"
     ]
    }
   ],
   "source": [
    "print(len(tran[tran['transcript'].str.contains('inaud', na=False)]))"
   ]
  },
  {
   "cell_type": "code",
   "execution_count": 125,
   "id": "e597b251",
   "metadata": {},
   "outputs": [
    {
     "data": {
      "text/html": [
       "<div>\n",
       "<style scoped>\n",
       "    .dataframe tbody tr th:only-of-type {\n",
       "        vertical-align: middle;\n",
       "    }\n",
       "\n",
       "    .dataframe tbody tr th {\n",
       "        vertical-align: top;\n",
       "    }\n",
       "\n",
       "    .dataframe thead th {\n",
       "        text-align: right;\n",
       "    }\n",
       "</style>\n",
       "<table border=\"1\" class=\"dataframe\">\n",
       "  <thead>\n",
       "    <tr style=\"text-align: right;\">\n",
       "      <th></th>\n",
       "      <th>cik</th>\n",
       "      <th>year</th>\n",
       "      <th>variable</th>\n",
       "      <th>transcript</th>\n",
       "    </tr>\n",
       "  </thead>\n",
       "  <tbody>\n",
       "    <tr>\n",
       "      <th>26373</th>\n",
       "      <td>911109.0</td>\n",
       "      <td>2011</td>\n",
       "      <td>transcript_qQ2</td>\n",
       "      <td>Yes, we’ve been doing price increase. We’re vi...</td>\n",
       "    </tr>\n",
       "    <tr>\n",
       "      <th>47866</th>\n",
       "      <td>1253986.0</td>\n",
       "      <td>2010</td>\n",
       "      <td>transcript_qQ3</td>\n",
       "      <td>Yes, I mean - we have from time to time - what...</td>\n",
       "    </tr>\n",
       "    <tr>\n",
       "      <th>58029</th>\n",
       "      <td>1414932.0</td>\n",
       "      <td>2012</td>\n",
       "      <td>transcript_qQ2</td>\n",
       "      <td>That’s right.\\r\\n Sure, I mean number ones are...</td>\n",
       "    </tr>\n",
       "  </tbody>\n",
       "</table>\n",
       "</div>"
      ],
      "text/plain": [
       "             cik  year        variable  \\\n",
       "26373   911109.0  2011  transcript_qQ2   \n",
       "47866  1253986.0  2010  transcript_qQ3   \n",
       "58029  1414932.0  2012  transcript_qQ2   \n",
       "\n",
       "                                              transcript  \n",
       "26373  Yes, we’ve been doing price increase. We’re vi...  \n",
       "47866  Yes, I mean - we have from time to time - what...  \n",
       "58029  That’s right.\\r\\n Sure, I mean number ones are...  "
      ]
     },
     "execution_count": 125,
     "metadata": {},
     "output_type": "execute_result"
    }
   ],
   "source": [
    "tran[tran['transcript'].str.contains('inaud', na=False)]"
   ]
  },
  {
   "cell_type": "code",
   "execution_count": 126,
   "id": "455d83b9",
   "metadata": {},
   "outputs": [
    {
     "name": "stderr",
     "output_type": "stream",
     "text": [
      "C:\\Users\\smesman001\\AppData\\Local\\Temp\\ipykernel_21436\\244526896.py:9: FutureWarning: The default value of regex will change from True to False in a future version.\n",
      "  tran['transcript'] = tran['transcript'].str.replace('(inaudbile)', '')\n",
      "C:\\Users\\smesman001\\AppData\\Local\\Temp\\ipykernel_21436\\244526896.py:9: SettingWithCopyWarning: \n",
      "A value is trying to be set on a copy of a slice from a DataFrame.\n",
      "Try using .loc[row_indexer,col_indexer] = value instead\n",
      "\n",
      "See the caveats in the documentation: https://pandas.pydata.org/pandas-docs/stable/user_guide/indexing.html#returning-a-view-versus-a-copy\n",
      "  tran['transcript'] = tran['transcript'].str.replace('(inaudbile)', '')\n",
      "C:\\Users\\smesman001\\AppData\\Local\\Temp\\ipykernel_21436\\244526896.py:10: FutureWarning: The default value of regex will change from True to False in a future version.\n",
      "  tran['transcript'] = tran['transcript'].str.replace('(inauduible)', '')\n",
      "C:\\Users\\smesman001\\AppData\\Local\\Temp\\ipykernel_21436\\244526896.py:10: SettingWithCopyWarning: \n",
      "A value is trying to be set on a copy of a slice from a DataFrame.\n",
      "Try using .loc[row_indexer,col_indexer] = value instead\n",
      "\n",
      "See the caveats in the documentation: https://pandas.pydata.org/pandas-docs/stable/user_guide/indexing.html#returning-a-view-versus-a-copy\n",
      "  tran['transcript'] = tran['transcript'].str.replace('(inauduible)', '')\n",
      "C:\\Users\\smesman001\\AppData\\Local\\Temp\\ipykernel_21436\\244526896.py:11: FutureWarning: The default value of regex will change from True to False in a future version.\n",
      "  tran['transcript'] = tran['transcript'].str.replace('(inaudibe)', '')\n",
      "C:\\Users\\smesman001\\AppData\\Local\\Temp\\ipykernel_21436\\244526896.py:11: SettingWithCopyWarning: \n",
      "A value is trying to be set on a copy of a slice from a DataFrame.\n",
      "Try using .loc[row_indexer,col_indexer] = value instead\n",
      "\n",
      "See the caveats in the documentation: https://pandas.pydata.org/pandas-docs/stable/user_guide/indexing.html#returning-a-view-versus-a-copy\n",
      "  tran['transcript'] = tran['transcript'].str.replace('(inaudibe)', '')\n"
     ]
    }
   ],
   "source": [
    "tran['transcript'][26373]\n",
    "# this transcript contains: ('inaudbile')\n",
    "tran['transcript'][47866]\n",
    "# this transcript contains: ('inauduible')\n",
    "tran['transcript'][58029]\n",
    "# this transcript contains: ('inaudibe')\n",
    "\n",
    "# Deleting these parts of the transcripts\n",
    "tran['transcript'] = tran['transcript'].str.replace('(inaudbile)', '')\n",
    "tran['transcript'] = tran['transcript'].str.replace('(inauduible)', '')\n",
    "tran['transcript'] = tran['transcript'].str.replace('(inaudibe)', '')"
   ]
  },
  {
   "cell_type": "code",
   "execution_count": 127,
   "id": "bec51341",
   "metadata": {},
   "outputs": [
    {
     "name": "stdout",
     "output_type": "stream",
     "text": [
      "0\n"
     ]
    }
   ],
   "source": [
    "print(len(tran[tran['transcript'].str.contains('inaud', na=False)]))"
   ]
  },
  {
   "cell_type": "code",
   "execution_count": 97,
   "id": "d45b7ce3",
   "metadata": {},
   "outputs": [
    {
     "data": {
      "text/html": [
       "<div>\n",
       "<style scoped>\n",
       "    .dataframe tbody tr th:only-of-type {\n",
       "        vertical-align: middle;\n",
       "    }\n",
       "\n",
       "    .dataframe tbody tr th {\n",
       "        vertical-align: top;\n",
       "    }\n",
       "\n",
       "    .dataframe thead th {\n",
       "        text-align: right;\n",
       "    }\n",
       "</style>\n",
       "<table border=\"1\" class=\"dataframe\">\n",
       "  <thead>\n",
       "    <tr style=\"text-align: right;\">\n",
       "      <th></th>\n",
       "      <th>cik</th>\n",
       "      <th>year</th>\n",
       "      <th>variable</th>\n",
       "      <th>transcript</th>\n",
       "    </tr>\n",
       "  </thead>\n",
       "  <tbody>\n",
       "    <tr>\n",
       "      <th>9592</th>\n",
       "      <td>110536.0</td>\n",
       "      <td>2011</td>\n",
       "      <td>transcript_qQ1</td>\n",
       "      <td>Good morning, Jill, and thank you. And thank y...</td>\n",
       "    </tr>\n",
       "    <tr>\n",
       "      <th>19893</th>\n",
       "      <td>849869.0</td>\n",
       "      <td>2010</td>\n",
       "      <td>transcript_qQ2</td>\n",
       "      <td>Thank you Malcolm. Welcome, everyone, to our S...</td>\n",
       "    </tr>\n",
       "    <tr>\n",
       "      <th>24926</th>\n",
       "      <td>896159.0</td>\n",
       "      <td>2011</td>\n",
       "      <td>transcript_qQ3</td>\n",
       "      <td>['No. No, big moves from any particular catast...</td>\n",
       "    </tr>\n",
       "    <tr>\n",
       "      <th>52272</th>\n",
       "      <td>1328650.0</td>\n",
       "      <td>2009</td>\n",
       "      <td>transcript_qQ1</td>\n",
       "      <td>Yes. We had part of it was our, on average our...</td>\n",
       "    </tr>\n",
       "  </tbody>\n",
       "</table>\n",
       "</div>"
      ],
      "text/plain": [
       "             cik  year        variable  \\\n",
       "9592    110536.0  2011  transcript_qQ1   \n",
       "19893   849869.0  2010  transcript_qQ2   \n",
       "24926   896159.0  2011  transcript_qQ3   \n",
       "52272  1328650.0  2009  transcript_qQ1   \n",
       "\n",
       "                                              transcript  \n",
       "9592   Good morning, Jill, and thank you. And thank y...  \n",
       "19893  Thank you Malcolm. Welcome, everyone, to our S...  \n",
       "24926  ['No. No, big moves from any particular catast...  \n",
       "52272  Yes. We had part of it was our, on average our...  "
      ]
     },
     "execution_count": 97,
     "metadata": {},
     "output_type": "execute_result"
    }
   ],
   "source": [
    "tran[tran['transcript'].str.contains('indiscernable', na=False)]"
   ]
  },
  {
   "cell_type": "code",
   "execution_count": 101,
   "id": "1084818c",
   "metadata": {},
   "outputs": [
    {
     "data": {
      "text/plain": [
       "'Yes. We had part of it was our, on average our borrowings, our balance was higher and then we had some interest forgiveness in Q4 related to some sales and tax issues that actually made it a little lower for Q4. So I think in fact, Marshall I think asked a question on interest expense that I never got to, but I think that the balance, where it is right now, is probably not likely to change much going forward. And our credit facility is LIBOR plus 400. So, if that\\'s helpful. We had two terminate during the quarter. That had the effect of, as I mentioned in the prepared remarks, about $1300 a day on our revenue per day and our margins per day. It\\'s a little over 3 million in gross proceeds. In terms of our contract situation going forward, it\\'s explicit in our monthly operational releases for the remainder of \\'09, I think we\\'ve got about 1760 roughly days on the term contracts. And so, that\\'s where we sit in terms of term contracts for the rest of this year. Marshall, I think that\\'s a possibility. Mexico, obviously, is close and now that we have some infrastructure there, we hope that we will be able to move some more rigs there. That would be the plan. Thank you. [indiscernable] quarter. As is the norm for our calls, I\\'ll begin again this morning with sequential comparisons and follow it up with our year-over-year results. For the quarter ended March 31, 2009, our average operating rigs increased by two rigs to 45 compared to 43 for the previous quarter. Revenue for the quarter was 50.6 million, compared to 76 million for the previous quarter. Utilization for our land rig fleet was 58% compared to 83% for the fourth quarter. Our revenue days for the first quarter of 2009 were 2362, compared to 3300 in the previous quarter. Our daily cash margins decreased 16% to 7613 compared to 9087 in Q4 and revenue per day decreased 4% to 20,251 compared to 21,135 for the previous quarter. Approximately 1300 above margin and revenue per day is due to contract termination revenue in Q1. Our daily operating expense increased 5% to 12,637 for this quarter compared to 12,049 for the previous quarter.  Revenue per hour on our Workover segment was down from the previous quarter to 347, that compares to 373 in Q4. Expense per hour was also down to 289 from 313 for the previous quarter. Our average market and workover fleet for Q1 was 52 rigs and utilization rates was 24%, which compares to 53 rigs and a utilization rate of 49% for the fourth quarter. The company generates 13.1 million in EBITDA in Q1, this compares to 20.5 million for the previous quarter before impairments. And reported net income from the first quarter was a loss of 1.7 million. In the release morning, we discussed our effective tax rate for the quarter, the company\\'s effective income tax rate is higher than what would be expected as the federal statutory rate was applied to income before income taxes, primarily because of certain stock compensation expenses recorded for financial reporting purposes that are not deductible for tax purposes. The company records stock compensation on it\\'s books based on a grant date fair value of the stock while the deduction received for tax purposes is based on the vesting date per value of the stock. Anyway this resulted in reducing the company\\'s tax benefit in the first quarter by 683,000. Moving on to year-over-year, revenue in Q1 2009 decreased 11.7 million from 62.3 million in Q1 of \\'08. Average daily cash margins for Q1 \\'09 represented an increase of 4% from 7333 in the first quarter of last year. Utilization for the first quarter of last year was 69%, our average operating land rig fleet was 45 rigs. The company generated 25.9 million in EBITDA and 8.1 million in net income in the first quarter of last year. Looking at the balance sheet at quarter end, we had net debt of approximately 73 million with working capital of 76 million and stockholder\\'s equity of 393 million. The 73 million in net debt represents about an $18 million improvement in our position since year end. For the second quarter, the company expects depreciation and amortization expense to be approximately 12.2 million, G&A to be approximately 5.1 million with roughly 850,000 of that being non-cash stock comps expense and a fully-diluted share account for Q2 of 26.7 million shares. With that I\\'ll turn the call back to Frank. Sure, yes. I don\\'t know about the rest of the year. Typically we just give a few items a quarter ahead. But what I mentioned on SG&A would be down, our estimate for Q2 is about 5.1 million. D&A we estimate it for about 12.2 million for the next quarter. We\\'ve had some of the assets become fully depreciated. You saw that in Q1 if it was down a little bit, same thing with Q2. In terms of CapEx, we said on our Q4 call, I think we gave a range of 25 to 30 million, we think that\\'s going to be down partly because activity is a little less. Partly because we bring that in a little more quickly than we had anticipated. So, I think now we\\'re looking at more towards the 15 to 20 million for the year for CapEx. Joe, I think if people feel like there\\'s some real stability around that upper 50s range, that people will, you know some activity will pick up there, Everybody we\\'ve talked to in terms of operators, around $60 is the number that they think everyone makes money at 60 bucks. So with the strip currently just a hair above that, we\\'re hopeful that things will pick up in the Bakken. Yes. I think, Matt, pricing there is under pressure as well. In the near term, I think what our goal would be is to sort of try and hold margins flat. Frank sort of alluded to that in his prepared comments that our goal is, as pricing comes down to try and make the appropriate cuts to get costs down in terms of, you know, on a equal basis. So in the near term that\\'s our goal, is to try and maintain a margin that we had for this quarter. I think you have a confluence of events because, as Frank said, Libya is not necessarily immune to sort of international slowdown. While we think this facility, if it closes, would help. You kind of have the market or the environment working against you at that point. So, we don\\'t know that there will be a full ramp in activity or Challenger reaching its peak potential in terms of putting all of its assets to work, and that sort of thing, until market conditions improve No. We have not. I think the, I thinks it\\'s both. But I would lean more toward the private operators. Some of the smaller companies who want to keep crews together, they have a small number of individuals. They are able to work at less, at a minimal cost on the labor side. So they continue to bid jobs that would, we would have to when we do our math or do their math, frankly look to be pretty close to a breakeven. Most of the tenders from Pemex are integrated projects which is sort of from the beginning to the end and on the well side. But what we found is, although there\\'s oftentimes workover work can be included in those integrated projects, what seems to be more normal or more the case in Mexico, is in using small drilling rigs to complete rigs and that sort of thing. So, in certain situations there is opportunity for workover rigs on the some of the tenders while in others, there\\'s not. Again, I think we are in that, I think what goes through having been on the E&P side, what goes through their mind, your customer\\'s mind, our customer\\'s mind, is should I work on this well? Is it time to complete the well? Well, let\\'s wait and see what\\'s going to happen if these commodity prices are for real. So I\\'m guessing that\\'s probably going to take a good part of this next quarter to get that sorted out and to build some confidence. And when that happens, there will be a lot of work, because I\\'ve heard the number thrown around, I don\\'t have any verification for this. So, it\\'s just an opinion. But there are probably at least a couple of thousand wells out there that haven\\'t been completed, that people have been waiting on the costs to come down. So, the E&P companies are sitting and talking, I\\'m sure they\\'re saying to themselves, \"Have costs come down as far as they\\'re going to? And is this the time?\" And even if they believe that, then they\\'re going to have to convince themselves, which they will, they will, it\\'s just a process, that this run up in oil is for real. And at that point, I think you\\'re going to see the workover rigs come back as far as oil is concerned. Until then, if a well goes down, I think it\\'s going to sit. Thank you, Zach. As anticipated, fundamentals continue to deteriorate during the quarter and we believe the rig count has still yet to bottom. The current downturn has drawn comparisons to several that have preceded it, but is likely the most dramatic in several decades. Rigs continue to stack out industry-wide as they roll-off contract and operators are electing to pay their way out of future contracts, even when the cost is substantial to them. The current storage surplus and demand erosion caused by the economic downturn, do not bode well for the near term. But we still believe that the oversupply situation is just not sustainable at the current level of drilling activity. It may likely require the coordinated response of improvement in economic conditions, the loosening of credit and a meaningful supply reduction to lift commodity prices enough to incentivize the E&P companies to get back to drilling.  A positive move in equities in our sector over the last 60 days is hopefully indicative of an anticipated end to the slide in the rig count.Because of these uncertainties, we continue to position the company to be able to withstand a prolonged downturn. As Zach mentioned, our balance sheet has continued to improve over the last few months, we have substantial cash on hand and remaining availability on our revolver. We do not have any near-term debt maturities either. Our marketed fleet today is 45 rigs with 15 of those operating. Three of those rigs are in Mexico on a direct contract with Pemex. We have one rig headed to the Marcellus and hope it will be an area where we could deploy more rigs going forward. The majority of our current work is pursuant to term contracts and we believe this is a norm for the industry. In essence, term contracts have established a floor in the rig camp. Any incremental work or work not performed pursuant to term contracts will be at substantially lower rates than what we\\'ve experienced in the last several years.  The spot market is virtually non-existent and contractors, both private and public, are bidding jobs so what we could only assume are close to, if not, break-even prices. We were able to hold margins flat in our Well Servicing segment this quarter on the strength of cost reductions. But obviously, continued to lose ground in terms of both pricing and utilization. And as we said before, we felt the ill effects of the slow down in this business earlier and so our job has been to try and get costs down, commensurate with the reduction in price.Stability around the $50 price of oil could lead to some pickup in the workover activity. Similar to the drilling side, it has become increasingly difficult to win new work at a profit. And fundamentally, we refuse to bid jobs at a  price we know will likely result in loss. Regarding our investment in Challenger Limited, we\\'ve been informed that Challenger\\'s very close to closing its debt facility. As you all know, all the national oil companies around the world are slowing down and we don\\'t expect Libya to be any different. So we could expect some reduction in activity at Challenger. In closing, I would again mention that we continue to be vigilant in scrutinizing our costs, knowing in the current environment that it is the only side of the ledger that we can control. It is difficult in this this sort of an abrupt and dramatic slowdown for costs to decline at the pace revenue is contracting. But we believe, that will even out over the next few quarters. Our equipment is in good shape, our balance sheet remains strong and as we mentioned on our Q4 call, we continue to be confident in our ability to weather the days ahead and look forward to them. I want to thank you again for listening today and now let\\'s open up the line for questions which we welcome. Yes. Correct. Yes. Yes. Miscellaneous drilling revenues? I think, Matt and I\\'ll let Frank answer as well, I think what we\\'ve tried to do is not set a number of crew as much as trying to identify individuals that no matter how the stress in the environment was, we\\'re not going to part with. And so, what we\\'ve done, which we\\'ve mentioned on our previous call was, we basically have overqualified people working certain positions on the rigs. You have a superintendent who is now a rig manager, a rig manager who is now a tool pusher and right on down the line. And so, that\\'s what we\\'ve tried to do is try and maintain a core of people that we think are best fit to help the company in the event of a turnaround. But it\\'s going to help. Obviously, it\\'s going to help this recent run up in oil. But you just, it\\'s hard to predict what the national companies are going to do. So we\\'re, we want to be conservative in what we say about that because we actually just don\\'t know. Thank you, Josh. Good morning and welcome to everyone. Joining me as usual on this call is Zach Graves, the Chief Financial Officer of Bronco Drilling and Frank Harrison, the Chief Executive Officer and Chairman of the Board of Bronco Drilling.I do want to remind everyone that during this conference call representatives of the company may make certain forward-looking statements relating to the company\\'s financial conditions, results of operation, plans, objectives, future performance and business. These statements generally can be identified by the fact that they do not relate strictly to historical or current facts. These statements may also include words such as anticipate, estimate, expect, project, intend, plan, believe and other words and terms of similar meaning in connection with any discussion of the timing or nature of future operating or financial performance or other events. We caution you that the actual results could differ materially from those that are indicated in our forward-looking statements due to a variety of factors. Information concerning these factors can be found in the company\\'s filings with the SEC. With that, I will turn the call over to Frank Harrison. Frank? Yes. I think we would agree that what little spot market work there is, which it is very, very little, is at very skinny margins. We had to bid anything that we think would result in a margin as low as a thousand. But no, that\\'s definitely common place right now. No. Did you say interest expense for the quarter? Andrew, this is what we would say on that, we\\'re obviously in compliance with Q1. We\\'re keenly aware of the covenants. We have consistent communication with the banks and our syndicate. We, at this time, wouldn\\'t speculate if at some point in the future we might trip those covenants and speculate as to what the bank\\'s response would be. We see everyday, people amending and restating their agreements and seeming to be able to work these issues out. I don\\'t know that we would expect our experience to be a whole lot different. Did you say when? Mark? Thank you, all very much for joining us today. And we look forward to the next quarter and we\\'ll talk to you then, if not before. Thank you. No. Other than, sometimes you have a little carry over when you lay people off. I couldn\\'t add anything to that. I think you answered it. Matt, I want to be clear on one thing. It\\'s really not, it would be Challenger that\\'s closing that agreement. We\\'re not involved with it, only that we are a shareholder in the company. And would you repeat the question again? Thank you, Bob and good morning. Thank you all for joining us to review Bronco Drilling\\'s financial and operating results for the first quarter of 2009. As always, we appreciate your interest in Bronco Drilling. In a moment, I\\'ll turn the call over to Zach to review our financial results. I  will then make a few brief remarks regarding the quarter as a well as give an update regarding the recent events and our view of current market conditions. After that, we\\'ll open up the line for questions, which we welcome. Zach? Joe what I would say about that is, in terms of margin, again just kind of maybe looking at Q2 and not making giving too much commentary on the rest of the year, yes 15 of the rigs we\\'ve got running right now. 11 of them are on term contracts and we\\'ve got four of them that are basically on well-to-well or on a multi-well contract. Right now, we think margins are going to come down, probably not dramatically, because as we said these are term contracts. But down from Q1, we think our cost will be down a little bit from Q1. But we also think the day rates will be down 500 to 1000 a day for Q2. Right. Yes. I think it\\'s going to be similar to day-rate deterioration. Although I said, I think we can get cost down a little bit in Q2. Yes, I think it\\'s going to be similar. We\\'ve heard some noise. But Joe, to me it kind of goes like this and we were talking about it yesterday we talk about it everyday, we\\'ve got $50+ oil, that\\'s great. But we\\'ve also got the situation where it\\'s sort of nobody believes it yet because they have seen what can happen. So people haven\\'t come to the conclusion yet that this is for real and so it\\'s going to take some time for that to happen before people are going to really change their budgets. They have to really believe this is for real. Once you go through a downturn like we have and I think that\\'s the stage we\\'re in. We\\'re in, let\\'s check it out and see if it\\'s for real for a while. So you\\'re getting people asking for bids, people talking but they are more ticking tires and trying to convince themselves that everything is okay. Yes. I think, I don\\'t have it in front of me Rob, and I could be in error, but I think they\\'re actually down from around 81 at the end of Q4. It\\'s around 73 or 74 for Q1. But I could have that wrong. But we, if you recall in the end of Q4, we bumped our allowance significantly just to be conservative so we hope that that\\'ll be sufficient and will cover us there. Like I said, we haven\\'t seen any deterioration and maybe even a little improvement in terms of our days outstanding. So it\\'s inevitable if this persists for a long period of time that we could some further issue in receivables. But we feel good about where we are right now. No. I think the Permian, I think what you have there is you have a lot of smaller rig companies that have drilled over the years there. And no offense to them, but in a lot of cases you\\'re going to have rig companies drilling because they\\'re not sure of what their costs are. And they\\'re going to be drilling at such a reduced rate they\\'re not going to make any money for a while. And that will help the Permian a lot. And before when we see them, we\\'ve gone through this, the stages that I remember in this is that, when you start to see a bottom you have this period of time when you\\'re going to come out of it. Before you come out of this, you have people that start bidding jobs at ridiculously low prices and either they don\\'t know what your expenses are, which is possible and difficult in the drilling business to pin down, or they just want to work no matter what. And that goes on for a while and it works its way out in a quarter or so. And I think that\\'s the stage we\\'re starting into right now. That people are working at really reduced costs. And so, I think there will be some drilling in the Permian. Permian is a great place to get that done. I think those numbers are going to come down as well. That\\'s primarily sort of mobilization and those types of things. And just like day rates are under pressure, all those revenues are probably under equal pressure. We really don\\'t have any imminent plans to do that. We\\'re certainly open to it. And we\\'ve sure, we\\'ve looked at it in several different cases. You\\'re not perfectly efficient when a rig first goes down. But we\\'ve been at 15, I think, for a couple of weeks. So yes, we can say unequivocably we\\'ve got crews for 15 rigs.'"
      ]
     },
     "execution_count": 101,
     "metadata": {},
     "output_type": "execute_result"
    }
   ],
   "source": [
    "tran['transcript'][52272]"
   ]
  },
  {
   "cell_type": "code",
   "execution_count": 129,
   "id": "87e2481c",
   "metadata": {},
   "outputs": [
    {
     "name": "stderr",
     "output_type": "stream",
     "text": [
      "C:\\Users\\smesman001\\AppData\\Local\\Temp\\ipykernel_21436\\2721573232.py:3: SettingWithCopyWarning: \n",
      "A value is trying to be set on a copy of a slice from a DataFrame.\n",
      "Try using .loc[row_indexer,col_indexer] = value instead\n",
      "\n",
      "See the caveats in the documentation: https://pandas.pydata.org/pandas-docs/stable/user_guide/indexing.html#returning-a-view-versus-a-copy\n",
      "  tran['transcript'] = tran['transcript'].str.replace('indiscernible', '')\n",
      "C:\\Users\\smesman001\\AppData\\Local\\Temp\\ipykernel_21436\\2721573232.py:4: SettingWithCopyWarning: \n",
      "A value is trying to be set on a copy of a slice from a DataFrame.\n",
      "Try using .loc[row_indexer,col_indexer] = value instead\n",
      "\n",
      "See the caveats in the documentation: https://pandas.pydata.org/pandas-docs/stable/user_guide/indexing.html#returning-a-view-versus-a-copy\n",
      "  tran['transcript'] = tran['transcript'].str.replace('indiscernable', '')\n"
     ]
    }
   ],
   "source": [
    "# [indiscernible], [indiscernable] \n",
    "# Deleting these parts of the transcripts\n",
    "tran['transcript'] = tran['transcript'].str.replace('indiscernible', '')\n",
    "tran['transcript'] = tran['transcript'].str.replace('indiscernable', '')"
   ]
  },
  {
   "cell_type": "code",
   "execution_count": 130,
   "id": "919562bb",
   "metadata": {},
   "outputs": [
    {
     "name": "stdout",
     "output_type": "stream",
     "text": [
      "4\n"
     ]
    }
   ],
   "source": [
    "print(len(tran[tran['transcript'].str.contains('indiscern', na=False)]))"
   ]
  },
  {
   "cell_type": "code",
   "execution_count": 134,
   "id": "c98db239",
   "metadata": {},
   "outputs": [
    {
     "data": {
      "text/html": [
       "<div>\n",
       "<style scoped>\n",
       "    .dataframe tbody tr th:only-of-type {\n",
       "        vertical-align: middle;\n",
       "    }\n",
       "\n",
       "    .dataframe tbody tr th {\n",
       "        vertical-align: top;\n",
       "    }\n",
       "\n",
       "    .dataframe thead th {\n",
       "        text-align: right;\n",
       "    }\n",
       "</style>\n",
       "<table border=\"1\" class=\"dataframe\">\n",
       "  <thead>\n",
       "    <tr style=\"text-align: right;\">\n",
       "      <th></th>\n",
       "      <th>cik</th>\n",
       "      <th>year</th>\n",
       "      <th>variable</th>\n",
       "      <th>transcript</th>\n",
       "    </tr>\n",
       "  </thead>\n",
       "  <tbody>\n",
       "    <tr>\n",
       "      <th>6890</th>\n",
       "      <td>77281.0</td>\n",
       "      <td>2011</td>\n",
       "      <td>transcript_qQ3</td>\n",
       "      <td>[\"Yeah. Obviously not as high. It's unusual to...</td>\n",
       "    </tr>\n",
       "    <tr>\n",
       "      <th>20292</th>\n",
       "      <td>855654.0</td>\n",
       "      <td>2012</td>\n",
       "      <td>transcript_qQ1</td>\n",
       "      <td>[\"It is the basis - well, ALL can be a very ag...</td>\n",
       "    </tr>\n",
       "    <tr>\n",
       "      <th>60442</th>\n",
       "      <td>1487326.0</td>\n",
       "      <td>2012</td>\n",
       "      <td>transcript_qQ3</td>\n",
       "      <td>Thanks, Mick. Looking at Page 27, our revenue ...</td>\n",
       "    </tr>\n",
       "    <tr>\n",
       "      <th>63689</th>\n",
       "      <td>1725526.0</td>\n",
       "      <td>2012</td>\n",
       "      <td>transcript_qQ2</td>\n",
       "      <td>Well, again, if I alluded to -- we have not fi...</td>\n",
       "    </tr>\n",
       "  </tbody>\n",
       "</table>\n",
       "</div>"
      ],
      "text/plain": [
       "             cik  year        variable  \\\n",
       "6890     77281.0  2011  transcript_qQ3   \n",
       "20292   855654.0  2012  transcript_qQ1   \n",
       "60442  1487326.0  2012  transcript_qQ3   \n",
       "63689  1725526.0  2012  transcript_qQ2   \n",
       "\n",
       "                                              transcript  \n",
       "6890   [\"Yeah. Obviously not as high. It's unusual to...  \n",
       "20292  [\"It is the basis - well, ALL can be a very ag...  \n",
       "60442  Thanks, Mick. Looking at Page 27, our revenue ...  \n",
       "63689  Well, again, if I alluded to -- we have not fi...  "
      ]
     },
     "execution_count": 134,
     "metadata": {},
     "output_type": "execute_result"
    }
   ],
   "source": [
    "tran[tran['transcript'].str.contains('indiscern', na=False)]"
   ]
  },
  {
   "cell_type": "code",
   "execution_count": 139,
   "id": "4ae2db3d",
   "metadata": {},
   "outputs": [
    {
     "name": "stderr",
     "output_type": "stream",
     "text": [
      "C:\\Users\\smesman001\\AppData\\Local\\Temp\\ipykernel_21436\\1949228898.py:11: FutureWarning: The default value of regex will change from True to False in a future version.\n",
      "  tran['transcript'] = tran['transcript'].str.replace('(indiscernbile)', '')\n",
      "C:\\Users\\smesman001\\AppData\\Local\\Temp\\ipykernel_21436\\1949228898.py:11: SettingWithCopyWarning: \n",
      "A value is trying to be set on a copy of a slice from a DataFrame.\n",
      "Try using .loc[row_indexer,col_indexer] = value instead\n",
      "\n",
      "See the caveats in the documentation: https://pandas.pydata.org/pandas-docs/stable/user_guide/indexing.html#returning-a-view-versus-a-copy\n",
      "  tran['transcript'] = tran['transcript'].str.replace('(indiscernbile)', '')\n",
      "C:\\Users\\smesman001\\AppData\\Local\\Temp\\ipykernel_21436\\1949228898.py:12: FutureWarning: The default value of regex will change from True to False in a future version.\n",
      "  tran['transcript'] = tran['transcript'].str.replace('(indiscerniable)', '')\n",
      "C:\\Users\\smesman001\\AppData\\Local\\Temp\\ipykernel_21436\\1949228898.py:12: SettingWithCopyWarning: \n",
      "A value is trying to be set on a copy of a slice from a DataFrame.\n",
      "Try using .loc[row_indexer,col_indexer] = value instead\n",
      "\n",
      "See the caveats in the documentation: https://pandas.pydata.org/pandas-docs/stable/user_guide/indexing.html#returning-a-view-versus-a-copy\n",
      "  tran['transcript'] = tran['transcript'].str.replace('(indiscerniable)', '')\n",
      "C:\\Users\\smesman001\\AppData\\Local\\Temp\\ipykernel_21436\\1949228898.py:13: FutureWarning: The default value of regex will change from True to False in a future version.\n",
      "  tran['transcript'] = tran['transcript'].str.replace('(indiscernbible)', '')\n",
      "C:\\Users\\smesman001\\AppData\\Local\\Temp\\ipykernel_21436\\1949228898.py:13: SettingWithCopyWarning: \n",
      "A value is trying to be set on a copy of a slice from a DataFrame.\n",
      "Try using .loc[row_indexer,col_indexer] = value instead\n",
      "\n",
      "See the caveats in the documentation: https://pandas.pydata.org/pandas-docs/stable/user_guide/indexing.html#returning-a-view-versus-a-copy\n",
      "  tran['transcript'] = tran['transcript'].str.replace('(indiscernbible)', '')\n",
      "C:\\Users\\smesman001\\AppData\\Local\\Temp\\ipykernel_21436\\1949228898.py:14: FutureWarning: The default value of regex will change from True to False in a future version.\n",
      "  tran['transcript'] = tran['transcript'].str.replace('(indiscernibly)', '')\n",
      "C:\\Users\\smesman001\\AppData\\Local\\Temp\\ipykernel_21436\\1949228898.py:14: SettingWithCopyWarning: \n",
      "A value is trying to be set on a copy of a slice from a DataFrame.\n",
      "Try using .loc[row_indexer,col_indexer] = value instead\n",
      "\n",
      "See the caveats in the documentation: https://pandas.pydata.org/pandas-docs/stable/user_guide/indexing.html#returning-a-view-versus-a-copy\n",
      "  tran['transcript'] = tran['transcript'].str.replace('(indiscernibly)', '')\n"
     ]
    }
   ],
   "source": [
    "tran['transcript'][6890]\n",
    "# this transcript contains: ('indiscernbile')\n",
    "tran['transcript'][20292]\n",
    "# this transcript contains: ('indiscerniable')\n",
    "tran['transcript'][60442]\n",
    "# this transcript contains: ('indiscernbible')\n",
    "tran['transcript'][63689]\n",
    "# this transcript contains: ('indiscernibly')\n",
    "\n",
    "# Deleting these parts of the transcripts\n",
    "tran['transcript'] = tran['transcript'].str.replace('(indiscernbile)', '')\n",
    "tran['transcript'] = tran['transcript'].str.replace('(indiscerniable)', '')\n",
    "tran['transcript'] = tran['transcript'].str.replace('(indiscernbible)', '')\n",
    "tran['transcript'] = tran['transcript'].str.replace('(indiscernibly)', '')"
   ]
  },
  {
   "cell_type": "markdown",
   "id": "11ba661e",
   "metadata": {},
   "source": [
    "The content of the transcripts seem alright for us to continue to the next phase."
   ]
  },
  {
   "cell_type": "markdown",
   "id": "338b28cd",
   "metadata": {},
   "source": [
    "## Length, FOG Index, and Topic Clustering (?) data"
   ]
  },
  {
   "cell_type": "markdown",
   "id": "6fd9dfea",
   "metadata": {},
   "source": [
    "As the length and the FOG Index can, or must, be calculated usting the pre-lemmatized data (must be able to detect sentences) I use less pre processing on the data for these features."
   ]
  },
  {
   "cell_type": "markdown",
   "id": "3ffedabb",
   "metadata": {},
   "source": [
    "I will however delete or replace the following signs in order to create written sentences:\n",
    "1. \"\n",
    "2. --\n",
    "3. \\\n",
    "4. '\n",
    "5. [\n",
    "6. ]\n",
    "7. \\r\n",
    "8. \\n"
   ]
  },
  {
   "cell_type": "code",
   "execution_count": 156,
   "id": "e0df7d7e",
   "metadata": {},
   "outputs": [
    {
     "name": "stderr",
     "output_type": "stream",
     "text": [
      "C:\\Users\\smesman001\\AppData\\Local\\Temp\\ipykernel_21436\\2030719336.py:1: SettingWithCopyWarning: \n",
      "A value is trying to be set on a copy of a slice from a DataFrame.\n",
      "Try using .loc[row_indexer,col_indexer] = value instead\n",
      "\n",
      "See the caveats in the documentation: https://pandas.pydata.org/pandas-docs/stable/user_guide/indexing.html#returning-a-view-versus-a-copy\n",
      "  tran['transcript'] = tran['transcript'].str.replace('\\n', '')\n",
      "C:\\Users\\smesman001\\AppData\\Local\\Temp\\ipykernel_21436\\2030719336.py:2: SettingWithCopyWarning: \n",
      "A value is trying to be set on a copy of a slice from a DataFrame.\n",
      "Try using .loc[row_indexer,col_indexer] = value instead\n",
      "\n",
      "See the caveats in the documentation: https://pandas.pydata.org/pandas-docs/stable/user_guide/indexing.html#returning-a-view-versus-a-copy\n",
      "  tran['transcript'] = tran['transcript'].str.replace('\\r', '')\n",
      "C:\\Users\\smesman001\\AppData\\Local\\Temp\\ipykernel_21436\\2030719336.py:3: FutureWarning: The default value of regex will change from True to False in a future version. In addition, single character regular expressions will *not* be treated as literal strings when regex=True.\n",
      "  tran['transcript'] = tran['transcript'].str.replace('[', '')\n",
      "C:\\Users\\smesman001\\AppData\\Local\\Temp\\ipykernel_21436\\2030719336.py:3: SettingWithCopyWarning: \n",
      "A value is trying to be set on a copy of a slice from a DataFrame.\n",
      "Try using .loc[row_indexer,col_indexer] = value instead\n",
      "\n",
      "See the caveats in the documentation: https://pandas.pydata.org/pandas-docs/stable/user_guide/indexing.html#returning-a-view-versus-a-copy\n",
      "  tran['transcript'] = tran['transcript'].str.replace('[', '')\n",
      "C:\\Users\\smesman001\\AppData\\Local\\Temp\\ipykernel_21436\\2030719336.py:4: FutureWarning: The default value of regex will change from True to False in a future version. In addition, single character regular expressions will *not* be treated as literal strings when regex=True.\n",
      "  tran['transcript'] = tran['transcript'].str.replace(']', '')\n",
      "C:\\Users\\smesman001\\AppData\\Local\\Temp\\ipykernel_21436\\2030719336.py:4: SettingWithCopyWarning: \n",
      "A value is trying to be set on a copy of a slice from a DataFrame.\n",
      "Try using .loc[row_indexer,col_indexer] = value instead\n",
      "\n",
      "See the caveats in the documentation: https://pandas.pydata.org/pandas-docs/stable/user_guide/indexing.html#returning-a-view-versus-a-copy\n",
      "  tran['transcript'] = tran['transcript'].str.replace(']', '')\n",
      "C:\\Users\\smesman001\\AppData\\Local\\Temp\\ipykernel_21436\\2030719336.py:5: SettingWithCopyWarning: \n",
      "A value is trying to be set on a copy of a slice from a DataFrame.\n",
      "Try using .loc[row_indexer,col_indexer] = value instead\n",
      "\n",
      "See the caveats in the documentation: https://pandas.pydata.org/pandas-docs/stable/user_guide/indexing.html#returning-a-view-versus-a-copy\n",
      "  tran['transcript'] = tran['transcript'].str.replace(\"''\", '')\n",
      "C:\\Users\\smesman001\\AppData\\Local\\Temp\\ipykernel_21436\\2030719336.py:6: SettingWithCopyWarning: \n",
      "A value is trying to be set on a copy of a slice from a DataFrame.\n",
      "Try using .loc[row_indexer,col_indexer] = value instead\n",
      "\n",
      "See the caveats in the documentation: https://pandas.pydata.org/pandas-docs/stable/user_guide/indexing.html#returning-a-view-versus-a-copy\n",
      "  tran['transcript'] = tran['transcript'].str.replace('\"', '')\n",
      "C:\\Users\\smesman001\\AppData\\Local\\Temp\\ipykernel_21436\\2030719336.py:7: SettingWithCopyWarning: \n",
      "A value is trying to be set on a copy of a slice from a DataFrame.\n",
      "Try using .loc[row_indexer,col_indexer] = value instead\n",
      "\n",
      "See the caveats in the documentation: https://pandas.pydata.org/pandas-docs/stable/user_guide/indexing.html#returning-a-view-versus-a-copy\n",
      "  tran['transcript'] = tran['transcript'].str.replace('--', '')\n",
      "C:\\Users\\smesman001\\AppData\\Local\\Temp\\ipykernel_21436\\2030719336.py:8: FutureWarning: The default value of regex will change from True to False in a future version. In addition, single character regular expressions will *not* be treated as literal strings when regex=True.\n",
      "  tran['transcript'] = tran['transcript'].str.replace(\"\\\\\", '')\n",
      "C:\\Users\\smesman001\\AppData\\Local\\Temp\\ipykernel_21436\\2030719336.py:8: SettingWithCopyWarning: \n",
      "A value is trying to be set on a copy of a slice from a DataFrame.\n",
      "Try using .loc[row_indexer,col_indexer] = value instead\n",
      "\n",
      "See the caveats in the documentation: https://pandas.pydata.org/pandas-docs/stable/user_guide/indexing.html#returning-a-view-versus-a-copy\n",
      "  tran['transcript'] = tran['transcript'].str.replace(\"\\\\\", '')\n"
     ]
    }
   ],
   "source": [
    "tran['transcript'] = tran['transcript'].str.replace('\\n', '')\n",
    "tran['transcript'] = tran['transcript'].str.replace('\\r', '')\n",
    "tran['transcript'] = tran['transcript'].str.replace('[', '')\n",
    "tran['transcript'] = tran['transcript'].str.replace(']', '')\n",
    "tran['transcript'] = tran['transcript'].str.replace(\"''\", '')\n",
    "tran['transcript'] = tran['transcript'].str.replace('\"', '')\n",
    "tran['transcript'] = tran['transcript'].str.replace('--', '')\n",
    "tran['transcript'] = tran['transcript'].str.replace(\"\\\\\", '')"
   ]
  },
  {
   "cell_type": "markdown",
   "id": "cf6d4ba7",
   "metadata": {},
   "source": [
    "Now transform and export the data again"
   ]
  },
  {
   "cell_type": "code",
   "execution_count": 158,
   "id": "62e31fa7",
   "metadata": {},
   "outputs": [],
   "source": [
    "# Transforming the dataframe so that it reflects firm-year observations\n",
    "read_df = pd.pivot_table(tran, values='transcript', index=['cik','year'],\n",
    "                          columns=['variable'], aggfunc=lambda x: x)\n",
    "read_df = read_df.reset_index()"
   ]
  },
  {
   "cell_type": "code",
   "execution_count": 180,
   "id": "f4331f17",
   "metadata": {},
   "outputs": [],
   "source": [
    "read_df.to_csv('tran_read_data.csv', index='False')"
   ]
  },
  {
   "cell_type": "markdown",
   "id": "dce67256",
   "metadata": {},
   "source": [
    "## Sentiment and Topic Clustering(?)"
   ]
  },
  {
   "cell_type": "markdown",
   "id": "59099af9",
   "metadata": {},
   "source": [
    "To calculate the sentiment scores and cluster the topics, I will remove stopwords and signs and lemmatize the words of the transcripts (I use lemmatizing as it holds more information on the context when it is compared to stemming)."
   ]
  },
  {
   "cell_type": "code",
   "execution_count": 166,
   "id": "46e51e94",
   "metadata": {},
   "outputs": [
    {
     "name": "stderr",
     "output_type": "stream",
     "text": [
      "C:\\Users\\smesman001\\AppData\\Local\\Temp\\ipykernel_21436\\2729098290.py:5: FutureWarning: The default value of regex will change from True to False in a future version.\n",
      "  tran['transcript'] = tran['transcript'].str.lower()\\\n",
      "C:\\Users\\smesman001\\AppData\\Local\\Temp\\ipykernel_21436\\2729098290.py:5: SettingWithCopyWarning: \n",
      "A value is trying to be set on a copy of a slice from a DataFrame.\n",
      "Try using .loc[row_indexer,col_indexer] = value instead\n",
      "\n",
      "See the caveats in the documentation: https://pandas.pydata.org/pandas-docs/stable/user_guide/indexing.html#returning-a-view-versus-a-copy\n",
      "  tran['transcript'] = tran['transcript'].str.lower()\\\n"
     ]
    }
   ],
   "source": [
    "# import the module and create a list of stopwords\n",
    "swords = stopwords.words('english')\n",
    "\n",
    "# Replace all signs and stopwords in transcripts and tokenize transcripts\n",
    "tran['transcript'] = tran['transcript'].str.lower()\\\n",
    "          .str.replace('(@[a-z0-9]+)\\w+',' ')\\\n",
    "          .str.replace('(http\\S+)', ' ')\\\n",
    "          .str.replace('([^0-9a-z \\t])',' ')\\\n",
    "          .str.replace(' +',' ')\\\n",
    "          .apply(lambda x: [i for i in x.split() if not i in swords])"
   ]
  },
  {
   "cell_type": "code",
   "execution_count": 173,
   "id": "db1b0d53",
   "metadata": {},
   "outputs": [
    {
     "name": "stderr",
     "output_type": "stream",
     "text": [
      "C:\\Users\\smesman001\\AppData\\Local\\Temp\\ipykernel_21436\\2845388901.py:3: SettingWithCopyWarning: \n",
      "A value is trying to be set on a copy of a slice from a DataFrame.\n",
      "Try using .loc[row_indexer,col_indexer] = value instead\n",
      "\n",
      "See the caveats in the documentation: https://pandas.pydata.org/pandas-docs/stable/user_guide/indexing.html#returning-a-view-versus-a-copy\n",
      "  tran['transcript'] = tran['transcript'].apply(lambda x: [ltzr.lemmatize(i) for i in x if i != ''])\n"
     ]
    }
   ],
   "source": [
    "# Lemmatizing\n",
    "ltzr = WordNetLemmatizer()\n",
    "tran['transcript'] = tran['transcript'].apply(lambda x: [ltzr.lemmatize(i) for i in x if i != ''])"
   ]
  },
  {
   "cell_type": "code",
   "execution_count": 176,
   "id": "41ca1ddf",
   "metadata": {},
   "outputs": [],
   "source": [
    "# Transforming the dataframe so that it reflects firm-year observations\n",
    "sent_df = pd.pivot_table(tran, values='transcript', index=['cik','year'],\n",
    "                          columns=['variable'], aggfunc=lambda x: x)\n",
    "sent_df = sent_df.reset_index()"
   ]
  },
  {
   "cell_type": "code",
   "execution_count": 177,
   "id": "34f272ee",
   "metadata": {},
   "outputs": [],
   "source": [
    "sent_df.to_csv('tran_sent_data.csv', index='False')"
   ]
  },
  {
   "cell_type": "markdown",
   "id": "6ab4de9c",
   "metadata": {},
   "source": [
    "## Extracting the unique combinations of year-firm observations"
   ]
  },
  {
   "cell_type": "code",
   "execution_count": 181,
   "id": "8cf34bde",
   "metadata": {},
   "outputs": [],
   "source": [
    "year_cik = read_df[['cik','year']]\n",
    "year_cik = year_cik.drop_duplicates()"
   ]
  },
  {
   "cell_type": "code",
   "execution_count": 182,
   "id": "0435584e",
   "metadata": {},
   "outputs": [],
   "source": [
    "year_cik.to_csv('year_cik_transcripts.csv')"
   ]
  }
 ],
 "metadata": {
  "kernelspec": {
   "display_name": "Python 3 (ipykernel)",
   "language": "python",
   "name": "python3"
  },
  "language_info": {
   "codemirror_mode": {
    "name": "ipython",
    "version": 3
   },
   "file_extension": ".py",
   "mimetype": "text/x-python",
   "name": "python",
   "nbconvert_exporter": "python",
   "pygments_lexer": "ipython3",
   "version": "3.9.13"
  }
 },
 "nbformat": 4,
 "nbformat_minor": 5
}
