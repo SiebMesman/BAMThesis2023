{
 "cells": [
  {
   "cell_type": "code",
   "execution_count": 100,
   "id": "ee802998",
   "metadata": {},
   "outputs": [],
   "source": [
    "import pandas as pd\n",
    "import numpy as np"
   ]
  },
  {
   "cell_type": "markdown",
   "id": "b234c361",
   "metadata": {},
   "source": [
    "## Importing the Data obtained from Compustat"
   ]
  },
  {
   "cell_type": "code",
   "execution_count": 149,
   "id": "b402a430",
   "metadata": {},
   "outputs": [],
   "source": [
    "df = pd.read_csv(\"FF_data.csv\")"
   ]
  },
  {
   "cell_type": "code",
   "execution_count": 150,
   "id": "e3effd76",
   "metadata": {},
   "outputs": [],
   "source": [
    "# Finding and extracting all unique industry codes\n",
    "sics = df['sic'].unique()\n",
    "np.savetxt('sic.txt',sics,newline='\\n', fmt='%d')"
   ]
  },
  {
   "cell_type": "markdown",
   "id": "b850bb46",
   "metadata": {},
   "source": [
    "## Importing the Industry Data and Creating Industry Variables"
   ]
  },
  {
   "cell_type": "code",
   "execution_count": 151,
   "id": "79a3c731",
   "metadata": {},
   "outputs": [
    {
     "name": "stdout",
     "output_type": "stream",
     "text": [
      "376 374\n",
      "[100 700]\n",
      "33255\n"
     ]
    }
   ],
   "source": [
    "# Importing data for the industry variables\n",
    "df_ind = pd.read_csv(\"FF_industry_data.csv\")\n",
    "sics_i = df_ind['sic'].unique()\n",
    "# Checking for missing sics\n",
    "print(len(sics),len(sics_i))\n",
    "mv = np.setdiff1d(sics,sics_i)\n",
    "print(mv)\n",
    "print(len(df))"
   ]
  },
  {
   "cell_type": "code",
   "execution_count": 152,
   "id": "aafe8f3b",
   "metadata": {},
   "outputs": [],
   "source": [
    "# Adding the industry total to the original data\n",
    "grouped = df_ind.groupby(['sic', 'fyear']).agg({'emp': 'sum', 'sale': 'sum', 'xopr': 'sum', 'ni': 'sum',\n",
    "                                               'at': 'sum', 'ceq': 'sum', 'invt': 'sum', 'ap': 'sum',\n",
    "                                               'lt': 'sum', 'xint': 'sum'})\n",
    "grouped = grouped.rename(columns={'emp': 'sum_emp', 'sale': 'sum_sale', 'xopr': 'sum_xopr', 'ni': 'sum_ni',\n",
    "                                 'at': 'sum_at', 'ceq': 'sum_ceq', 'invt': 'sum_invt', 'ap': 'sum_ap',\n",
    "                                 'lt': 'sum_lt', 'xint': 'sum_xint'})\n",
    "df = df.merge(grouped, on=['sic','fyear'])"
   ]
  },
  {
   "cell_type": "markdown",
   "id": "95c1648d",
   "metadata": {},
   "source": [
    "## Creation of Lagged Variables"
   ]
  },
  {
   "cell_type": "code",
   "execution_count": 153,
   "id": "37616e7e",
   "metadata": {},
   "outputs": [],
   "source": [
    "# Sort dataframe by cik and year\n",
    "df = df.sort_values(by=['cik','fyear'])\n",
    "\n",
    "# Specifying number of lags\n",
    "one_lag = 1\n",
    "two_lag = 2\n",
    "three_lag = 3\n",
    "four_lag = 4\n",
    "\n",
    "# Creating lagged columns to facilitate later calculations starting with one year lag\n",
    "for var in ['prcc_f', 'oancf', 'ni', 'emp', 'ib', 'csho', 'cogs', 'ob', 'mrc1', 'mrc2', 'mrc3', 'mrc4', 'mrc5',\n",
    "            'txp', 'xopr', 'ceq', 'ap', 'xint', 'sum_at', 'sum_xopr', 'sum_ni', 'sum_ceq', 'sum_invt',\n",
    "            'sum_ap', 'sum_lt', 'sum_xint', 'sum_sale', 'sum_emp']:\n",
    "    for lag in range(1, one_lag+1):\n",
    "        df[f'{var}_lag{lag}'] = df.groupby('cik')[var].shift(lag)\n",
    "        \n",
    "# Two year lag\n",
    "for var in ['rect', 'invt']:\n",
    "    for lag in range(1, two_lag+1):\n",
    "        df[f'{var}_lag{lag}'] = df.groupby('cik')[var].shift(lag)\n",
    "        \n",
    "# Three year lag\n",
    "for var in ['capx', 'sale', 'au']:\n",
    "    for lag in range(1, three_lag+1):\n",
    "        df[f'{var}_lag{lag}'] = df.groupby('cik')[var].shift(lag)\n",
    "        \n",
    "# Four year lag\n",
    "for var in ['act', 'che', 'lct', 'dlc', 'at', 'ivao', 'lt', 'dltt', 'ivst', 'pstk']:\n",
    "    for lag in range(1, four_lag+1):\n",
    "        df[f'{var}_lag{lag}'] = df.groupby('cik')[var].shift(lag)"
   ]
  },
  {
   "cell_type": "code",
   "execution_count": 154,
   "id": "0b872c9b",
   "metadata": {},
   "outputs": [
    {
     "data": {
      "text/plain": [
       "(33179, 151)"
      ]
     },
     "execution_count": 154,
     "metadata": {},
     "output_type": "execute_result"
    }
   ],
   "source": [
    "df.shape"
   ]
  },
  {
   "cell_type": "markdown",
   "id": "801f07ce",
   "metadata": {},
   "source": [
    "## Feature Engineering"
   ]
  },
  {
   "cell_type": "code",
   "execution_count": 155,
   "id": "442fc943",
   "metadata": {},
   "outputs": [],
   "source": [
    "# Creating dataframe for the financial fundamentals\n",
    "FF = pd.DataFrame()\n",
    "# CIK\n",
    "FF['cik'] = df['cik']\n",
    "# Year\n",
    "FF['year'] = df['fyear']\n",
    "# SIC\n",
    "FF['SIC'] = df['sic']"
   ]
  },
  {
   "cell_type": "markdown",
   "id": "0b6eca9d",
   "metadata": {},
   "source": [
    "### Perols 2011"
   ]
  },
  {
   "cell_type": "code",
   "execution_count": 156,
   "id": "87084bc2",
   "metadata": {},
   "outputs": [],
   "source": [
    "# AR to Sales (ARtS)\n",
    "FF[\"ARtS\"] = df['rect'] / df['sale']\n",
    "# AR to Total Assets (ARtTA)\n",
    "FF[\"ARtTA\"] = df['rect'] / df['at']\n",
    "# Allowance of doubtfoul Accounts (AFDA)\n",
    "FF['AFDA'] = df['recd']\n",
    "# AFDA to AR\n",
    "FF['AFDAtAR'] = df['recd'] / df['rect']\n",
    "# AFDA to Net Sales \n",
    "FF['AFDAtNS'] = df['recd'] / df['sale']\n",
    "# Altman Z-score\n",
    "FF['Zscore'] = (3.3 * (df['ib'] + df['xint'] + df['txt']) / df['at'] + 0.999 * (df['sale'] / df['at']) +\n",
    "                0.6 * df['csho'] * (df['prcc_f'] / df['lt']) + 1.2 * (df['wcap']/df['at']) + 1.4 * (df['re']/df['at']))\n",
    "# Big 4 auditor\n",
    "FF['Big4'] = df['au'].isin([1, 2, 3, 4, 5, 6, 7, 8]).astype(int)\n",
    "# Current minus Prior Year Inventory to Sales\n",
    "FF['cItS'] = df['invt']/df['sale'] - df['invt_lag1']/df['sale_lag1']\n",
    "# Days in Receivables Index\n",
    "FF['DiRI'] = df['rect']/df['sale'] - df['rect_lag1']/df['sale_lag1']\n",
    "# Debt to Equity\n",
    "FF['DtE'] = df['lt']/df['ceq']\n",
    "# Demand for Financing (ex ante)\n",
    "FF['DfF'] = np.where((df['oancf']-(df['capx_lag3']+df['capx_lag2']+df['capx_lag1'])/3)/df['act'] < -0.5, 1, 0)\n",
    "# Declining Cash Sales Dummy\n",
    "FF['DCS'] = np.where((df['sale']-(df['rect']-df['rect_lag1'])) < (df['sale_lag1']-(df['rect_lag1']-df['rect_lag2'])), 1, 0) \n",
    "# Fixed Assets to Total Assets\n",
    "FF['FAtTT'] =  df['ppegt'] / df['at']\n",
    "# Four-Year Geometric Sales Growth Rate\n",
    "FF['4GSGR'] = (((df['sale']/df['sale_lag3'])**(1/4))-1)\n",
    "# Gross Margin\n",
    "FF['GM'] = (df['sale']-df['cogs']) / df['sale']\n",
    "# Holding Period Return in the Violation Period\n",
    "FF['HPRiVP'] = (df['prcc_f']-df['prcc_f_lag1']) / df['prcc_f']\n",
    "# Industry ROE minus Firm ROE\n",
    "FF['cROE'] = (df['sum_ni'] / df['sum_ceq']) - (df['ni'] / df['ceq'])\n",
    "# Inventory to Sales\n",
    "FF['ItS'] = df['invt'] / df['sale']\n",
    "# Positive Accruals dummy\n",
    "FF['PA'] = np.where((df['ib']-df['oancf'] > 0) & (df['ib_lag1']-df['oancf_lag1'] > 0), 1, 0)\n",
    "# Prior Year ROA to Total Assets Current Year\n",
    "FF['ROAtTA'] = (df['ni_lag1'] / df['at_lag1']) / df['at']\n",
    "# Property Plant and Equipment to Total Assets\n",
    "FF['PPEtTA'] = df['ppent'] / df['at']\n",
    "# Sales to Total Assets\n",
    "FF['StTA'] = df['sale'] / df['at']\n",
    "# The Number of Auditor Turnovers\n",
    "FF['ATO'] = np.where(df['au'] != df['au_lag1'], 1, 0) + \\\n",
    "            np.where(df['au_lag1'] != df['au_lag2'], 1, 0) + \\\n",
    "            np.where(df['au_lag2'] != df['au_lag3'], 1, 0)\n",
    "# Times Interest Earned\n",
    "FF['TIE'] = (df['ib'] + df['xint'] + df['txt']) / df['xint']\n",
    "# Total Accruals to Total Assets\n",
    "FF['TACtTA'] = (df['ib'] - df['oancf']) / df['at']\n",
    "# Total Debt to total Assets\n",
    "FF['TDtTA'] = df['lt'] / df['at']\n",
    "# Total Discretionary Accrual\n",
    "FF['TDA'] = (((((df['act_lag1'] - df['che_lag1']) - (df['lct_lag1'] - df['dlc_lag1'])) - \n",
    "                ((df['act_lag2'] - df['che_lag2']) - (df['lct_lag2'] - df['dlc_lag2']))) +\n",
    "              (((df['at_lag1'] - df['act_lag1'] - df['ivao_lag1']) - (df['lt_lag1'] - df['lct_lag1'] - df['dltt_lag1'])) - \n",
    "               ((df['at_lag2'] - df['act_lag2'] - df['ivao_lag2']) - (df['lt_lag2'] - df['lct_lag2'] - df['dltt_lag2']))) +\n",
    "              (((df['ivst_lag1'] + df['ivao_lag1']) - (df['dltt_lag1'] + df['dlc_lag1'] + df['pstk_lag1'])) - \n",
    "               ((df['ivst_lag2'] + df['ivao_lag2']) - (df['dltt_lag2'] + df['dlc_lag2'] + df['pstk_lag2'])))) +\n",
    "            ((((df['act_lag2'] - df['che_lag2']) - (df['lct_lag2'] - df['dlc_lag2'])) - \n",
    "                ((df['act_lag3'] - df['che_lag3']) - (df['lct_lag3'] - df['dlc_lag3']))) +\n",
    "              (((df['at_lag2'] - df['act_lag2'] - df['ivao_lag2']) - (df['lt_lag2'] - df['lct_lag2'] - df['dltt_lag2'])) - \n",
    "               ((df['at_lag3'] - df['act_lag3'] - df['ivao_lag3']) - (df['lt_lag3'] - df['lct_lag3'] - df['dltt_lag3']))) +\n",
    "              (((df['ivst_lag2'] + df['ivao_lag2']) - (df['dltt_lag2'] + df['dlc_lag2'] + df['pstk_lag2'])) - \n",
    "               ((df['ivst_lag3'] + df['ivao_lag3']) - (df['dltt_lag3'] + df['dlc_lag3'] + df['pstk_lag3'])))) +\n",
    "            ((((df['act_lag3'] - df['che_lag3']) - (df['lct_lag3'] - df['dlc_lag3'])) - \n",
    "                ((df['act_lag4'] - df['che_lag4']) - (df['lct_lag4'] - df['dlc_lag4']))) +\n",
    "              (((df['at_lag3'] - df['act_lag3'] - df['ivao_lag3']) - (df['lt_lag3'] - df['lct_lag3'] - df['dltt_lag3'])) - \n",
    "               ((df['at_lag4'] - df['act_lag4'] - df['ivao_lag4']) - (df['lt_lag4'] - df['lct_lag4'] - df['dltt_lag4']))) +\n",
    "              (((df['ivst_lag3'] + df['ivao_lag3']) - (df['dltt_lag3'] + df['dlc_lag3'] + df['pstk_lag3'])) - \n",
    "               ((df['ivst_lag4'] + df['ivao_lag4']) - (df['dltt_lag4'] + df['dlc_lag4'] + df['pstk_lag4'])))))\n",
    "# Unexpected Employee Productivity\n",
    "FF['UEP'] = (((df['sale']/df['emp'] - df['sale_lag1']/df['emp_lag1'])/df['sale_lag1']/df['emp_lag1']) -\n",
    "            ((df['sum_sale']/df['sum_emp'] - df['sum_sale_lag1']/df['sum_emp_lag1'])/df['sum_sale_lag1']/df['sum_emp_lag1']))\n",
    "# Value of Issued Securities to Market Value\n",
    "FF['IStMV'] = np.where(df['cshi'] > 0, df['cshi'] * df['prcc_f'] / (df['csho'] * df['prcc_f']), \n",
    "                np.where(df['csho'] - df['csho_lag1'] > 0, ((df['csho'] - df['csho_lag1']) * df['prcc_f']) / \n",
    "                (df['csho'] * df['prcc_f']), 0))\n",
    "# Whether Accounts Receivable > 1.1 of Last Year's\n",
    "FF['IoAR'] = np.where((df['rect'] - df['rect_lag1']) > 1.1, 1,0)\n",
    "# Whether Gross Margin Percent > 1.1 of Last Year's\n",
    "FF['IoGMP'] = np.where(((df['sale'] - df['cogs']) / df['sale']) / ((df['sale_lag1']- df['cogs_lag1']) / df['sale_lag1']) \n",
    "                       > 1.1, 1, 0)\n",
    "# Whether New Securities were Issued\n",
    "FF['NewS'] = np.where((df['csho'] - df['csho_lag1'] > 0) | (df['cshi'] > 0), 1, 0)\n",
    "# Whether SIC Code Larger (Smaller) than 2999 (4000)\n",
    "FF['dSIC'] = np.where((df['sic'] > 2999) & (df['sic'] < 4000),1,0)\n",
    "# Whether firm was listed on AMEX\n",
    "FF['AMEX'] = np.where((df['exchg'] == 5) | (df['exchg'] == 15) | (df['exchg'] == 16) |\n",
    "                      (df['exchg'] == 17) | (df['exchg'] == 18), 1, 0)"
   ]
  },
  {
   "cell_type": "markdown",
   "id": "574bf4f9",
   "metadata": {},
   "source": [
    "### Dechow et al. 2011"
   ]
  },
  {
   "cell_type": "code",
   "execution_count": 157,
   "id": "1b821083",
   "metadata": {},
   "outputs": [],
   "source": [
    "# Abnormal Change in Order Backlog\n",
    "FF['ACiOB'] = ((df['ob']-df['ob_lag1']/df['ob_lag1']) - ((df['sale']-df['sale_lag1'])/df['sale_lag1']))\n",
    "# Actual Issuance\n",
    "FF['AI'] = np.where((df['sstk'] > 0) | (df['dltis'] > 0), 1, 0)\n",
    "# Book-to-Market\n",
    "FF['BtM'] = df['ceq'] / (df['csho'] * df['prcc_f'])\n",
    "# RSST Accruals\n",
    "FF['RSST'] = (((((df['act'] - df['che']) - (df['lct'] - df['dlc'])) - \n",
    "                ((df['act_lag1'] - df['che_lag1']) - (df['lct_lag1'] - df['dlc_lag1']))) +\n",
    "              (((df['at'] - df['act'] - df['ivao']) - (df['lt'] - df['lct'] - df['dltt'])) - \n",
    "               ((df['at_lag1'] - df['act_lag1'] - df['ivao_lag1']) - (df['lt_lag1'] - df['lct_lag1'] - df['dltt_lag1']))) +\n",
    "              (((df['ivst'] + df['ivao']) - (df['dltt'] + df['dlc'] + df['pstk'])) - \n",
    "               ((df['ivst_lag1'] + df['ivao_lag1']) - (df['dltt_lag1'] + df['dlc_lag1'] + df['pstk_lag1'])))) / \n",
    "              ((df['at']+df['at_lag1'])/2))\n",
    "# Change in Free Cash Flows\n",
    "FF['CiFCF'] = (((df['ib'] - ((((df['act'] - df['che']) - (df['lct'] - df['dlc'])) - \n",
    "                ((df['act_lag1'] - df['che_lag1']) - (df['lct_lag1'] - df['dlc_lag1']))) +\n",
    "              (((df['at'] - df['act'] - df['ivao']) - (df['lt'] - df['lct'] - df['dltt'])) - \n",
    "               ((df['at_lag1'] - df['act_lag1'] - df['ivao_lag1']) - (df['lt_lag1'] - df['lct_lag1'] - df['dltt_lag1']))) +\n",
    "              (((df['ivst'] + df['ivao']) - (df['dltt'] + df['dlc'] + df['pstk'])) - \n",
    "               ((df['ivst_lag1'] + df['ivao_lag1']) - (df['dltt_lag1'] + df['dlc_lag1'] + df['pstk_lag1']))))) / \n",
    "               ((df['at'] + df['at_lag1'])/2)) -\n",
    "              ((df['ib_lag1'] - ((((df['act_lag1'] - df['che_lag1']) - (df['lct_lag1'] - df['dlc_lag1'])) - \n",
    "                ((df['act_lag2'] - df['che_lag2']) - (df['lct_lag2'] - df['dlc_lag2']))) +\n",
    "              (((df['at_lag1'] - df['act_lag1'] - df['ivao_lag1']) - (df['lt_lag1'] - df['lct_lag1'] - df['dltt_lag1'])) - \n",
    "               ((df['at_lag2'] - df['act_lag2'] - df['ivao_lag2']) - (df['lt_lag2'] - df['lct_lag2'] - df['dltt_lag2']))) +\n",
    "              (((df['ivst_lag1'] + df['ivao_lag1']) - (df['dltt_lag1'] + df['dlc_lag1'] + df['pstk_lag1'])) - \n",
    "               ((df['ivst_lag2'] + df['ivao_lag2']) - (df['dltt_lag2'] + df['dlc_lag2'] + df['pstk_lag2']))))) /\n",
    "              ((df['at_lag1']+df['at_lag2'])/2)))\n",
    "# Change in Inventory\n",
    "FF['CiI'] = (df['invt'] - df['invt_lag1'] / ((df['at']+df['at_lag1'])/2))\n",
    "# Change in Operating Lease Activity\n",
    "FF['CiOLA'] = ((df['mrc1']/1.1 + df['mrc2']/(1.1**2) + df['mrc3']/(1.1**3) + df['mrc4']/(1.1**4) + df['mrc5']/(1.1**5)) -\n",
    "               (df['mrc1_lag1']/1.1 + df['mrc2_lag1']/(1.1**2) + df['mrc3_lag1']/(1.1**3) + \n",
    "                df['mrc4_lag1']/(1.1**4) + df['mrc5_lag1']/(1.1**5))) / ((df['at']+df['at_lag1'])/2)\n",
    "# Change in Receivables\n",
    "FF['CiR'] = (df['rect'] - df['rect_lag1']) / ((df['at']+df['at_lag1'])/2)\n",
    "# Deferred Tax Expense\n",
    "FF['DTaxE'] = df['txdi'] / df['at_lag1']\n",
    "# Earnings to Price\n",
    "FF['EtP'] = df['ib'] / (df['csho'] * df['prcc_f'])\n",
    "# Existence of Operating Leases\n",
    "FF['EoOL'] = np.where((df['mrc1'] > 0) | (df['mrc2'] > 0) | (df['mrc3'] > 0) | \n",
    "                      (df['mrc4'] > 0) | (df['mrc5'] > 0), 1, 0)\n",
    "# Level of Finance Raised\n",
    "FF['LoFR'] = df['fincf'] / ((df['at']+df['at_lag1'])/2)\n",
    "# Leverage\n",
    "FF['Lev'] = df['dltt'] / df['at']\n",
    "# Percentage of Change in Cash Margin\n",
    "FF['PCiCM'] = (((1 - (df['cogs'] + (df['invt'] - df['invt_lag1'])) / (df['sale'] - (df['rect'] - df['rect_lag1']))) -\n",
    "                (1 - (df['cogs_lag1'] + (df['invt_lag1'] - df['invt_lag2'])) / (df['sale_lag1'] - (df['rect_lag1'] - df['rect_lag2'])))) / (1 - (df['cogs_lag1'] + (df['invt_lag1'] - df['invt_lag2'])) / (df['sale_lag1'] - (df['rect_lag1'] - df['rect_lag2'])))) \n",
    "# Percentage Change in Cash Sales\n",
    "FF['PCiCS'] = (((df['sale'] - (df['rect'] - df['rect_lag1'])) - (df['sale_lag1'] - (df['rect_lag1'] - df['rect_lag2']))) / (df['sale_lag1'] - (df['rect_lag1'] - df['rect_lag2'])))\n",
    "# Soft Assets\n",
    "FF['SA'] = (df['at'] - df['ppent'] - df['che']) / ((df['at']+df['at_lag1'])/2)\n",
    "# Working Capital Accruals\n",
    "FF['WCA'] = ((((df['act'] - df['act_lag1']) - (df['che'] - df['che_lag1'])) - ((df['lct'] - df['lct_lag1']) - (df['dlc'] - df['dlc_lag1']) - (df['txp'] - df['txp_lag1'])) - df['dp']) / ((df['at']+df['at_lag1'])/2))"
   ]
  },
  {
   "cell_type": "markdown",
   "id": "13e65636",
   "metadata": {},
   "source": [
    "### Cecchini et al. 2010"
   ]
  },
  {
   "cell_type": "code",
   "execution_count": 158,
   "id": "dc07e838",
   "metadata": {},
   "outputs": [],
   "source": [
    "# Sales\n",
    "FF['Sales'] =  df['sale']\n",
    "# Change in Sales\n",
    "FF['CiS'] = df['sale'] - df['sale_lag1']\n",
    "# % Change in Sales\n",
    "FF['PCiS'] = (df['sale'] - df['sale_lag1']) / df['sale_lag1']\n",
    "# Abnormal % Change in Sales\n",
    "FF['APCiS'] = (((df['sale'] - df['sale_lag1']) / df['sale_lag1']) - (df['sum_sale'] - df['sum_sale_lag1']) / df['sum_sale_lag1'])\n",
    "# Sales to Assets\n",
    "FF['StA'] = (df['sale'] / df['at'])\n",
    "# Change in Sales to Assets\n",
    "FF['CiStA'] = (df['sale'] / df['at']) - (df['sale_lag1'] / df['at_lag1'])\n",
    "# % Change in Sales to Assets\n",
    "FF['PCiStA'] = ((df['sale'] / df['at']) - (df['sale_lag1'] / df['at_lag1']) / (df['sale_lag1'] / df['at_lag1']))\n",
    "# Abnormal % Change in Sales to Assets\n",
    "FF['APCiStA'] = ((((df['sale'] / df['at']) - (df['sale_lag1'] / df['at_lag1'])) / (df['sale_lag1'] / df['at_lag1'])) - ((df['sum_sale'] / df['sum_at']) - (df['sum_sale_lag1'] / df['sum_at_lag1'])) / (df['sum_sale_lag1'] / \n",
    "                                                                                                  df['sum_at_lag1']))\n",
    "# Sales to Employees\n",
    "FF['StE'] = df['sale'] / df['emp']\n",
    "# Change in Sales to Employees\n",
    "FF['CiSte'] = (df['sale'] / df['emp']) - (df['sale_lag1'] / df['emp_lag1'])\n",
    "# % Change in Sales to Employees\n",
    "FF['PCiStE'] = ((df['sale'] / df['emp']) - (df['sale_lag1'] / df['emp_lag1']) / (df['sale_lag1'] / df['emp_lag1']))\n",
    "# Sales to Operating Expenses\n",
    "FF['StOE'] = df['sale'] / df['xopr']\n",
    "# Change in Sales to Operating Expenses\n",
    "FF['CiStOE'] = (df['sale'] / df['xopr']) - (df['sale_lag1'] / df['xopr_lag1'])\n",
    "# % Change in Sales to Operating Expenses\n",
    "FF['PCiStOE'] = ((df['sale'] / df['xopr']) - (df['sale_lag1'] / df['xopr_lag1']) / (df['sale_lag1'] / df['xopr_lag1']))\n",
    "# Abnormal % Change in Sales to Operating Expenses\n",
    "FF['APCiStOE'] = ((((df['sale'] / df['xopr']) - (df['sale_lag1'] / df['xopr_lag1'])) / (df['sale_lag1'] / df['xopr_lag1'])) - (((df['sum_sale'] / df['sum_xopr']) - (df['sum_sale_lag1'] / df['sum_xopr_lag1'])) / (df['sum_sale_lag1'] /\n",
    "                                                                                                       df['sum_xopr_lag1'])))\n",
    "# Return on Assets\n",
    "FF['ROA'] = df['ni'] / df['at']\n",
    "# Change in Return on Assets\n",
    "FF['CiROA'] = (df['ni'] / df['at']) - (df['ni_lag1'] / df['at_lag1'])\n",
    "# % Change in Return on Assets\n",
    "FF['PCiROA'] = ((df['ni'] / df['at']) - (df['ni_lag1'] / df['at_lag1']) / (df['ni_lag1'] / df['at_lag1']))\n",
    "# Abnormal % Change in Return on Assets\n",
    "FF['APCiROA'] = ((((df['ni'] / df['at']) - (df['ni_lag1'] / df['at_lag1'])) / (df['ni_lag1'] / df['at_lag1'])) - (((df['sum_ni'] / df['sum_at']) - (df['sum_ni_lag1'] / df['sum_at_lag1'])) / (df['sum_ni_lag1'] /\n",
    "                                                                                                       df['sum_at_lag1'])))\n",
    "# Return on Equity\n",
    "FF['ROE'] = df['ni'] / df['ceq']\n",
    "# Change in Return on Equity\n",
    "FF['CiROE'] = (df['ni'] / df['ceq']) - (df['ni_lag1'] / df['ceq_lag1'])\n",
    "# % Change in Return on Equity\n",
    "FF['PCiROE'] = ((df['ni'] / df['ceq']) - (df['ni_lag1'] / df['ceq_lag1']) / (df['ni_lag1'] / df['ceq_lag1']))\n",
    "# Abnormal % Change in Return on Equity\n",
    "FF['APCiROE'] = ((((df['ni'] / df['ceq']) - (df['ni_lag1'] / df['ceq_lag1'])) / (df['ni_lag1'] / df['ceq_lag1'])) - (((df['sum_ni'] / df['sum_ceq']) - (df['sum_ni_lag1'] / df['sum_ceq_lag1'])) / (df['sum_ni_lag1'] /\n",
    "                                                                                                       df['sum_ceq_lag1'])))\n",
    "# Return on Sales\n",
    "FF['ROS'] = df['ni'] / df['sale']\n",
    "# Change in Return on Sales\n",
    "FF['CiROS'] = (df['ni'] / df['sale']) - (df['ni_lag1'] / df['sale_lag1'])\n",
    "# % Change in Return on Sales\n",
    "FF['PCiROS'] = ((df['ni'] / df['sale']) - (df['ni_lag1'] / df['sale_lag1']) / (df['ni_lag1'] / df['sale_lag1']))\n",
    "# Abnormal % Change in Return on Sales\n",
    "FF['APCiROS'] = ((((df['ni'] / df['sale']) - (df['ni_lag1'] / df['sale_lag1'])) / (df['ni_lag1'] / df['sale_lag1'])) - (((df['sum_ni'] / df['sum_sale']) - (df['sum_ni_lag1'] / df['sum_sale_lag1'])) / (df['sum_ni_lag1'] /\n",
    "                                                                                                       df['sum_sale_lag1'])))\n",
    "# Accounts Payable to Inventory\n",
    "FF['APtI'] = df['ap'] / df['invt']\n",
    "# Change in Accounts Payable to Inventory\n",
    "FF['CiAPtI'] = (df['ap'] / df['invt']) - (df['ap_lag1'] / df['invt_lag1'])\n",
    "# % Change in Accounts Payable to Inventory\n",
    "FF['PCiAPtI'] = ((df['ap'] / df['invt']) - (df['ap_lag1'] / df['invt_lag1']) / (df['ap_lag1'] / df['invt_lag1']))\n",
    "# Abnormal % Change in Accounts Payable to Inventory\n",
    "FF['APCiAPtI'] = ((((df['ap'] / df['invt']) - (df['ap_lag1'] / df['invt_lag1'])) / (df['ap_lag1'] / df['invt_lag1'])) - (((df['sum_ap'] / df['sum_invt']) - (df['sum_ap_lag1'] / df['sum_invt_lag1'])) / (df['sum_ap_lag1'] /\n",
    "                                                                                                       df['sum_invt_lag1'])))\n",
    "# Assets\n",
    "FF['Assets'] = df['at']\n",
    "# Change in Assets\n",
    "FF['CiA'] = df['at'] - df['at_lag1']\n",
    "# % Change in Assets\n",
    "FF['PCiA'] = (df['at'] - df['at_lag1']) / df['at_lag1']\n",
    "# Abnormal % Change in Assets\n",
    "FF['APCiA'] = (((df['at'] - df['at_lag1']) / df['at_lag1']) - (df['sum_at'] - df['sum_at_lag1']) / df['sum_at_lag1'])\n",
    "# Assets to Liabilities\n",
    "FF['AtL'] = df['at'] / df['lt']\n",
    "# Change in Assets to Liabilities\n",
    "FF['CiAtL'] = (df['at'] / df['lt']) - (df['at_lag1'] / df['lt_lag1'])\n",
    "# % Change in Assets to Liabilities\n",
    "FF['PCiAtL'] = ((df['at'] / df['lt']) - (df['at_lag1'] / df['lt_lag1']) / (df['at_lag1'] / df['lt_lag1']))\n",
    "# Abnormal % Change in Assets to Liabilities\n",
    "FF['APCiAtL'] = ((((df['at'] / df['lt']) - (df['at_lag1'] / df['lt_lag1'])) / (df['at_lag1'] / df['lt_lag1'])) - (((df['sum_at'] / df['sum_lt']) - (df['sum_at_lag1'] / df['sum_lt_lag1'])) / (df['sum_at_lag1'] /\n",
    "                                                                                                       df['sum_lt_lag1'])))\n",
    "# Expenses\n",
    "FF['Exp'] = df['xopr']\n",
    "# Change in Expenses\n",
    "FF['CiE'] = df['xopr'] - df['xopr_lag1']\n",
    "# % Change in Expenses\n",
    "FF['PCiE'] = (df['xopr'] - df['xopr_lag1']) / df['xopr_lag1']\n",
    "# Abnormal % Change in Expenses\n",
    "FF['APCiE'] = (((df['xopr'] - df['xopr_lag1']) / df['xopr_lag1']) - (df['sum_xopr'] - df['sum_xopr_lag1']) / df['sum_xopr_lag1'])\n",
    "# Liabilities\n",
    "FF['Liab'] = df['lt']"
   ]
  },
  {
   "cell_type": "code",
   "execution_count": 160,
   "id": "8040bbc9",
   "metadata": {},
   "outputs": [],
   "source": [
    "# Change in Liabilities\n",
    "FF['CiL'] = df['lt'] - df['lt_lag1']\n",
    "# % Change in Liabilities\n",
    "FF['PCiL'] = (df['lt'] - df['lt_lag1']) / df['lt_lag1']\n",
    "# Abnormal % Change in Liabilities\n",
    "FF['APCiL'] = (((df['lt'] - df['lt_lag1']) / df['lt_lag1']) - (df['sum_lt'] - df['sum_lt_lag1']) / df['sum_lt_lag1'])\n",
    "# Liabilities to Interest Expenses\n",
    "FF['LtIE'] = df['lt'] / df['xint']\n",
    "# Change in Liabilities to Interest Expenses\n",
    "FF['CiLtIE'] = (df['lt'] / df['xint']) - (df['lt_lag1'] / df['xint_lag1'])\n",
    "# % Change in Liabilities to Interest Expenses\n",
    "FF['PCiLtIE'] = ((df['lt'] / df['xint']) - (df['lt_lag1'] / df['xint_lag1']) / (df['lt_lag1'] / df['xint_lag1']))\n",
    "# Abnormal % Change in Liabilities to Interest Expenses\n",
    "FF['APCiLtIE'] = ((((df['lt'] / df['xint']) - (df['lt_lag1'] / df['xint_lag1'])) / (df['lt_lag1'] / df['xint_lag1'])) - (((df['sum_lt'] / df['sum_xint']) - (df['sum_lt_lag1'] / df['sum_xint_lag1'])) / (df['sum_lt_lag1'] /\n",
    "                                                                                                       df['sum_xint_lag1'])))"
   ]
  },
  {
   "cell_type": "markdown",
   "id": "8cdbfac0",
   "metadata": {},
   "source": [
    "## Examing the Features"
   ]
  },
  {
   "cell_type": "code",
   "execution_count": 161,
   "id": "f19ae94e",
   "metadata": {},
   "outputs": [
    {
     "data": {
      "text/html": [
       "<div>\n",
       "<style scoped>\n",
       "    .dataframe tbody tr th:only-of-type {\n",
       "        vertical-align: middle;\n",
       "    }\n",
       "\n",
       "    .dataframe tbody tr th {\n",
       "        vertical-align: top;\n",
       "    }\n",
       "\n",
       "    .dataframe thead th {\n",
       "        text-align: right;\n",
       "    }\n",
       "</style>\n",
       "<table border=\"1\" class=\"dataframe\">\n",
       "  <thead>\n",
       "    <tr style=\"text-align: right;\">\n",
       "      <th></th>\n",
       "      <th>cik</th>\n",
       "      <th>year</th>\n",
       "      <th>SIC</th>\n",
       "      <th>ARtS</th>\n",
       "      <th>ARtTA</th>\n",
       "      <th>AFDA</th>\n",
       "      <th>AFDAtAR</th>\n",
       "      <th>AFDAtNS</th>\n",
       "      <th>Zscore</th>\n",
       "      <th>Big4</th>\n",
       "      <th>...</th>\n",
       "      <th>PCiE</th>\n",
       "      <th>APCiE</th>\n",
       "      <th>Liab</th>\n",
       "      <th>CiL</th>\n",
       "      <th>PCiL</th>\n",
       "      <th>APCiL</th>\n",
       "      <th>LtIE</th>\n",
       "      <th>CiLtIE</th>\n",
       "      <th>PCiLtIE</th>\n",
       "      <th>APCiLtIE</th>\n",
       "    </tr>\n",
       "  </thead>\n",
       "  <tbody>\n",
       "    <tr>\n",
       "      <th>0</th>\n",
       "      <td>1750</td>\n",
       "      <td>2003.0</td>\n",
       "      <td>5080</td>\n",
       "      <td>0.160533</td>\n",
       "      <td>0.147557</td>\n",
       "      <td>6.310</td>\n",
       "      <td>0.060290</td>\n",
       "      <td>0.009679</td>\n",
       "      <td>2.237914</td>\n",
       "      <td>1</td>\n",
       "      <td>...</td>\n",
       "      <td>NaN</td>\n",
       "      <td>NaN</td>\n",
       "      <td>407.608</td>\n",
       "      <td>NaN</td>\n",
       "      <td>NaN</td>\n",
       "      <td>NaN</td>\n",
       "      <td>21.659387</td>\n",
       "      <td>NaN</td>\n",
       "      <td>NaN</td>\n",
       "      <td>NaN</td>\n",
       "    </tr>\n",
       "    <tr>\n",
       "      <th>1</th>\n",
       "      <td>1750</td>\n",
       "      <td>2004.0</td>\n",
       "      <td>5080</td>\n",
       "      <td>0.169982</td>\n",
       "      <td>0.173608</td>\n",
       "      <td>5.863</td>\n",
       "      <td>0.046121</td>\n",
       "      <td>0.007840</td>\n",
       "      <td>2.730799</td>\n",
       "      <td>1</td>\n",
       "      <td>...</td>\n",
       "      <td>0.135007</td>\n",
       "      <td>-4.375779</td>\n",
       "      <td>417.486</td>\n",
       "      <td>9.878</td>\n",
       "      <td>0.024234</td>\n",
       "      <td>-1.772162</td>\n",
       "      <td>25.430103</td>\n",
       "      <td>3.770716</td>\n",
       "      <td>24.430103</td>\n",
       "      <td>-0.011345</td>\n",
       "    </tr>\n",
       "    <tr>\n",
       "      <th>4</th>\n",
       "      <td>1750</td>\n",
       "      <td>2005.0</td>\n",
       "      <td>5080</td>\n",
       "      <td>0.151872</td>\n",
       "      <td>0.139221</td>\n",
       "      <td>6.466</td>\n",
       "      <td>0.047449</td>\n",
       "      <td>0.007206</td>\n",
       "      <td>2.880039</td>\n",
       "      <td>1</td>\n",
       "      <td>...</td>\n",
       "      <td>0.173936</td>\n",
       "      <td>0.075357</td>\n",
       "      <td>556.102</td>\n",
       "      <td>138.616</td>\n",
       "      <td>0.332026</td>\n",
       "      <td>0.112553</td>\n",
       "      <td>30.887692</td>\n",
       "      <td>5.457589</td>\n",
       "      <td>29.887692</td>\n",
       "      <td>0.071530</td>\n",
       "    </tr>\n",
       "    <tr>\n",
       "      <th>7</th>\n",
       "      <td>1750</td>\n",
       "      <td>2006.0</td>\n",
       "      <td>5080</td>\n",
       "      <td>0.171218</td>\n",
       "      <td>0.170181</td>\n",
       "      <td>3.885</td>\n",
       "      <td>0.021382</td>\n",
       "      <td>0.003661</td>\n",
       "      <td>3.355914</td>\n",
       "      <td>1</td>\n",
       "      <td>...</td>\n",
       "      <td>0.169920</td>\n",
       "      <td>0.311159</td>\n",
       "      <td>573.390</td>\n",
       "      <td>17.288</td>\n",
       "      <td>0.031088</td>\n",
       "      <td>0.256937</td>\n",
       "      <td>32.435230</td>\n",
       "      <td>1.547539</td>\n",
       "      <td>31.435230</td>\n",
       "      <td>-0.196537</td>\n",
       "    </tr>\n",
       "    <tr>\n",
       "      <th>10</th>\n",
       "      <td>1750</td>\n",
       "      <td>2007.0</td>\n",
       "      <td>5080</td>\n",
       "      <td>0.146198</td>\n",
       "      <td>0.148657</td>\n",
       "      <td>5.977</td>\n",
       "      <td>0.029520</td>\n",
       "      <td>0.004316</td>\n",
       "      <td>2.752482</td>\n",
       "      <td>1</td>\n",
       "      <td>...</td>\n",
       "      <td>0.290933</td>\n",
       "      <td>0.183145</td>\n",
       "      <td>776.755</td>\n",
       "      <td>203.365</td>\n",
       "      <td>0.354671</td>\n",
       "      <td>0.171251</td>\n",
       "      <td>35.387472</td>\n",
       "      <td>2.952241</td>\n",
       "      <td>34.387472</td>\n",
       "      <td>0.106896</td>\n",
       "    </tr>\n",
       "    <tr>\n",
       "      <th>...</th>\n",
       "      <td>...</td>\n",
       "      <td>...</td>\n",
       "      <td>...</td>\n",
       "      <td>...</td>\n",
       "      <td>...</td>\n",
       "      <td>...</td>\n",
       "      <td>...</td>\n",
       "      <td>...</td>\n",
       "      <td>...</td>\n",
       "      <td>...</td>\n",
       "      <td>...</td>\n",
       "      <td>...</td>\n",
       "      <td>...</td>\n",
       "      <td>...</td>\n",
       "      <td>...</td>\n",
       "      <td>...</td>\n",
       "      <td>...</td>\n",
       "      <td>...</td>\n",
       "      <td>...</td>\n",
       "      <td>...</td>\n",
       "      <td>...</td>\n",
       "    </tr>\n",
       "    <tr>\n",
       "      <th>9264</th>\n",
       "      <td>1915657</td>\n",
       "      <td>2009.0</td>\n",
       "      <td>2911</td>\n",
       "      <td>0.165594</td>\n",
       "      <td>0.254464</td>\n",
       "      <td>NaN</td>\n",
       "      <td>NaN</td>\n",
       "      <td>NaN</td>\n",
       "      <td>2.617373</td>\n",
       "      <td>1</td>\n",
       "      <td>...</td>\n",
       "      <td>-0.169239</td>\n",
       "      <td>0.120475</td>\n",
       "      <td>1938.158</td>\n",
       "      <td>1000.265</td>\n",
       "      <td>1.066502</td>\n",
       "      <td>0.928741</td>\n",
       "      <td>44.508290</td>\n",
       "      <td>6.924920</td>\n",
       "      <td>43.508290</td>\n",
       "      <td>0.128355</td>\n",
       "    </tr>\n",
       "    <tr>\n",
       "      <th>9285</th>\n",
       "      <td>1915657</td>\n",
       "      <td>2010.0</td>\n",
       "      <td>2911</td>\n",
       "      <td>0.125455</td>\n",
       "      <td>0.282090</td>\n",
       "      <td>2.100</td>\n",
       "      <td>0.002011</td>\n",
       "      <td>0.000252</td>\n",
       "      <td>3.552323</td>\n",
       "      <td>1</td>\n",
       "      <td>...</td>\n",
       "      <td>0.706133</td>\n",
       "      <td>0.382693</td>\n",
       "      <td>2413.336</td>\n",
       "      <td>475.178</td>\n",
       "      <td>0.245170</td>\n",
       "      <td>0.091385</td>\n",
       "      <td>29.649319</td>\n",
       "      <td>-14.858971</td>\n",
       "      <td>28.649319</td>\n",
       "      <td>-0.410280</td>\n",
       "    </tr>\n",
       "    <tr>\n",
       "      <th>9309</th>\n",
       "      <td>1915657</td>\n",
       "      <td>2011.0</td>\n",
       "      <td>2911</td>\n",
       "      <td>0.099389</td>\n",
       "      <td>0.148771</td>\n",
       "      <td>3.500</td>\n",
       "      <td>0.002281</td>\n",
       "      <td>0.000227</td>\n",
       "      <td>3.207572</td>\n",
       "      <td>1</td>\n",
       "      <td>...</td>\n",
       "      <td>0.701848</td>\n",
       "      <td>0.421793</td>\n",
       "      <td>4478.721</td>\n",
       "      <td>2065.385</td>\n",
       "      <td>0.855822</td>\n",
       "      <td>0.751890</td>\n",
       "      <td>49.476056</td>\n",
       "      <td>19.826736</td>\n",
       "      <td>48.476056</td>\n",
       "      <td>0.748608</td>\n",
       "    </tr>\n",
       "    <tr>\n",
       "      <th>9332</th>\n",
       "      <td>1915657</td>\n",
       "      <td>2012.0</td>\n",
       "      <td>2911</td>\n",
       "      <td>0.035299</td>\n",
       "      <td>0.068660</td>\n",
       "      <td>2.500</td>\n",
       "      <td>0.003525</td>\n",
       "      <td>0.000124</td>\n",
       "      <td>5.141839</td>\n",
       "      <td>1</td>\n",
       "      <td>...</td>\n",
       "      <td>0.255013</td>\n",
       "      <td>0.218815</td>\n",
       "      <td>3686.339</td>\n",
       "      <td>-792.382</td>\n",
       "      <td>-0.176921</td>\n",
       "      <td>-0.215623</td>\n",
       "      <td>32.540111</td>\n",
       "      <td>-16.935945</td>\n",
       "      <td>31.540111</td>\n",
       "      <td>-0.289827</td>\n",
       "    </tr>\n",
       "    <tr>\n",
       "      <th>9354</th>\n",
       "      <td>1915657</td>\n",
       "      <td>2013.0</td>\n",
       "      <td>2911</td>\n",
       "      <td>0.040583</td>\n",
       "      <td>0.081356</td>\n",
       "      <td>2.400</td>\n",
       "      <td>0.002933</td>\n",
       "      <td>0.000119</td>\n",
       "      <td>4.821476</td>\n",
       "      <td>1</td>\n",
       "      <td>...</td>\n",
       "      <td>0.095034</td>\n",
       "      <td>0.095341</td>\n",
       "      <td>3447.341</td>\n",
       "      <td>-238.998</td>\n",
       "      <td>-0.064833</td>\n",
       "      <td>-0.119589</td>\n",
       "      <td>43.011117</td>\n",
       "      <td>10.471006</td>\n",
       "      <td>42.011117</td>\n",
       "      <td>0.132476</td>\n",
       "    </tr>\n",
       "  </tbody>\n",
       "</table>\n",
       "<p>33179 rows × 105 columns</p>\n",
       "</div>"
      ],
      "text/plain": [
       "          cik    year   SIC      ARtS     ARtTA   AFDA   AFDAtAR   AFDAtNS  \\\n",
       "0        1750  2003.0  5080  0.160533  0.147557  6.310  0.060290  0.009679   \n",
       "1        1750  2004.0  5080  0.169982  0.173608  5.863  0.046121  0.007840   \n",
       "4        1750  2005.0  5080  0.151872  0.139221  6.466  0.047449  0.007206   \n",
       "7        1750  2006.0  5080  0.171218  0.170181  3.885  0.021382  0.003661   \n",
       "10       1750  2007.0  5080  0.146198  0.148657  5.977  0.029520  0.004316   \n",
       "...       ...     ...   ...       ...       ...    ...       ...       ...   \n",
       "9264  1915657  2009.0  2911  0.165594  0.254464    NaN       NaN       NaN   \n",
       "9285  1915657  2010.0  2911  0.125455  0.282090  2.100  0.002011  0.000252   \n",
       "9309  1915657  2011.0  2911  0.099389  0.148771  3.500  0.002281  0.000227   \n",
       "9332  1915657  2012.0  2911  0.035299  0.068660  2.500  0.003525  0.000124   \n",
       "9354  1915657  2013.0  2911  0.040583  0.081356  2.400  0.002933  0.000119   \n",
       "\n",
       "        Zscore  Big4  ...      PCiE     APCiE      Liab       CiL      PCiL  \\\n",
       "0     2.237914     1  ...       NaN       NaN   407.608       NaN       NaN   \n",
       "1     2.730799     1  ...  0.135007 -4.375779   417.486     9.878  0.024234   \n",
       "4     2.880039     1  ...  0.173936  0.075357   556.102   138.616  0.332026   \n",
       "7     3.355914     1  ...  0.169920  0.311159   573.390    17.288  0.031088   \n",
       "10    2.752482     1  ...  0.290933  0.183145   776.755   203.365  0.354671   \n",
       "...        ...   ...  ...       ...       ...       ...       ...       ...   \n",
       "9264  2.617373     1  ... -0.169239  0.120475  1938.158  1000.265  1.066502   \n",
       "9285  3.552323     1  ...  0.706133  0.382693  2413.336   475.178  0.245170   \n",
       "9309  3.207572     1  ...  0.701848  0.421793  4478.721  2065.385  0.855822   \n",
       "9332  5.141839     1  ...  0.255013  0.218815  3686.339  -792.382 -0.176921   \n",
       "9354  4.821476     1  ...  0.095034  0.095341  3447.341  -238.998 -0.064833   \n",
       "\n",
       "         APCiL       LtIE     CiLtIE    PCiLtIE  APCiLtIE  \n",
       "0          NaN  21.659387        NaN        NaN       NaN  \n",
       "1    -1.772162  25.430103   3.770716  24.430103 -0.011345  \n",
       "4     0.112553  30.887692   5.457589  29.887692  0.071530  \n",
       "7     0.256937  32.435230   1.547539  31.435230 -0.196537  \n",
       "10    0.171251  35.387472   2.952241  34.387472  0.106896  \n",
       "...        ...        ...        ...        ...       ...  \n",
       "9264  0.928741  44.508290   6.924920  43.508290  0.128355  \n",
       "9285  0.091385  29.649319 -14.858971  28.649319 -0.410280  \n",
       "9309  0.751890  49.476056  19.826736  48.476056  0.748608  \n",
       "9332 -0.215623  32.540111 -16.935945  31.540111 -0.289827  \n",
       "9354 -0.119589  43.011117  10.471006  42.011117  0.132476  \n",
       "\n",
       "[33179 rows x 105 columns]"
      ]
     },
     "execution_count": 161,
     "metadata": {},
     "output_type": "execute_result"
    }
   ],
   "source": [
    "# Printing the dataset\n",
    "FF"
   ]
  },
  {
   "cell_type": "code",
   "execution_count": 114,
   "id": "b84d9910",
   "metadata": {},
   "outputs": [
    {
     "data": {
      "text/html": [
       "<div>\n",
       "<style scoped>\n",
       "    .dataframe tbody tr th:only-of-type {\n",
       "        vertical-align: middle;\n",
       "    }\n",
       "\n",
       "    .dataframe tbody tr th {\n",
       "        vertical-align: top;\n",
       "    }\n",
       "\n",
       "    .dataframe thead th {\n",
       "        text-align: right;\n",
       "    }\n",
       "</style>\n",
       "<table border=\"1\" class=\"dataframe\">\n",
       "  <thead>\n",
       "    <tr style=\"text-align: right;\">\n",
       "      <th></th>\n",
       "      <th>cik</th>\n",
       "      <th>year</th>\n",
       "      <th>SIC</th>\n",
       "      <th>ARtS</th>\n",
       "      <th>ARtTA</th>\n",
       "      <th>AFDA</th>\n",
       "      <th>AFDAtAR</th>\n",
       "      <th>AFDAtNS</th>\n",
       "      <th>Zscore</th>\n",
       "      <th>Big4</th>\n",
       "      <th>...</th>\n",
       "      <th>PCiE</th>\n",
       "      <th>APCiE</th>\n",
       "      <th>Liab</th>\n",
       "      <th>CiL</th>\n",
       "      <th>PCiL</th>\n",
       "      <th>APCiL</th>\n",
       "      <th>LtIE</th>\n",
       "      <th>CiLtIE</th>\n",
       "      <th>PCiLtIE</th>\n",
       "      <th>APCiLtIE</th>\n",
       "    </tr>\n",
       "  </thead>\n",
       "  <tbody>\n",
       "    <tr>\n",
       "      <th>count</th>\n",
       "      <td>3.317900e+04</td>\n",
       "      <td>33179.000000</td>\n",
       "      <td>33179.000000</td>\n",
       "      <td>3.174200e+04</td>\n",
       "      <td>31994.000000</td>\n",
       "      <td>24595.000000</td>\n",
       "      <td>2.360800e+04</td>\n",
       "      <td>2.399400e+04</td>\n",
       "      <td>2.746500e+04</td>\n",
       "      <td>33179.000000</td>\n",
       "      <td>...</td>\n",
       "      <td>2.781900e+04</td>\n",
       "      <td>2.781900e+04</td>\n",
       "      <td>32641.000000</td>\n",
       "      <td>28913.000000</td>\n",
       "      <td>2.891100e+04</td>\n",
       "      <td>2.891100e+04</td>\n",
       "      <td>3.034400e+04</td>\n",
       "      <td>2.467700e+04</td>\n",
       "      <td>2.431900e+04</td>\n",
       "      <td>2.431800e+04</td>\n",
       "    </tr>\n",
       "    <tr>\n",
       "      <th>mean</th>\n",
       "      <td>9.315030e+05</td>\n",
       "      <td>2008.365442</td>\n",
       "      <td>4545.445884</td>\n",
       "      <td>inf</td>\n",
       "      <td>0.135021</td>\n",
       "      <td>17.883162</td>\n",
       "      <td>inf</td>\n",
       "      <td>inf</td>\n",
       "      <td>inf</td>\n",
       "      <td>0.775460</td>\n",
       "      <td>...</td>\n",
       "      <td>inf</td>\n",
       "      <td>inf</td>\n",
       "      <td>2597.651411</td>\n",
       "      <td>159.064931</td>\n",
       "      <td>inf</td>\n",
       "      <td>inf</td>\n",
       "      <td>inf</td>\n",
       "      <td>NaN</td>\n",
       "      <td>inf</td>\n",
       "      <td>inf</td>\n",
       "    </tr>\n",
       "    <tr>\n",
       "      <th>std</th>\n",
       "      <td>4.336661e+05</td>\n",
       "      <td>2.828214</td>\n",
       "      <td>2035.206072</td>\n",
       "      <td>NaN</td>\n",
       "      <td>0.112959</td>\n",
       "      <td>134.902378</td>\n",
       "      <td>NaN</td>\n",
       "      <td>NaN</td>\n",
       "      <td>NaN</td>\n",
       "      <td>0.417285</td>\n",
       "      <td>...</td>\n",
       "      <td>NaN</td>\n",
       "      <td>NaN</td>\n",
       "      <td>9854.483133</td>\n",
       "      <td>2265.180039</td>\n",
       "      <td>NaN</td>\n",
       "      <td>NaN</td>\n",
       "      <td>NaN</td>\n",
       "      <td>NaN</td>\n",
       "      <td>NaN</td>\n",
       "      <td>NaN</td>\n",
       "    </tr>\n",
       "    <tr>\n",
       "      <th>min</th>\n",
       "      <td>1.750000e+03</td>\n",
       "      <td>2003.000000</td>\n",
       "      <td>1000.000000</td>\n",
       "      <td>-2.286370e+00</td>\n",
       "      <td>0.000000</td>\n",
       "      <td>-0.484000</td>\n",
       "      <td>-7.464873e-03</td>\n",
       "      <td>-1.265816e-03</td>\n",
       "      <td>-1.067789e+04</td>\n",
       "      <td>0.000000</td>\n",
       "      <td>...</td>\n",
       "      <td>-1.000000e+00</td>\n",
       "      <td>-5.328990e+03</td>\n",
       "      <td>0.000000</td>\n",
       "      <td>-269999.000000</td>\n",
       "      <td>-9.981510e-01</td>\n",
       "      <td>-2.085744e+03</td>\n",
       "      <td>-1.700433e+03</td>\n",
       "      <td>-inf</td>\n",
       "      <td>-1.701433e+03</td>\n",
       "      <td>-1.401792e+02</td>\n",
       "    </tr>\n",
       "    <tr>\n",
       "      <th>25%</th>\n",
       "      <td>8.043280e+05</td>\n",
       "      <td>2006.000000</td>\n",
       "      <td>2911.000000</td>\n",
       "      <td>9.227037e-02</td>\n",
       "      <td>0.050357</td>\n",
       "      <td>0.216000</td>\n",
       "      <td>9.467169e-03</td>\n",
       "      <td>1.067403e-03</td>\n",
       "      <td>1.387595e+00</td>\n",
       "      <td>1.000000</td>\n",
       "      <td>...</td>\n",
       "      <td>-1.552170e-02</td>\n",
       "      <td>-6.956824e-02</td>\n",
       "      <td>44.088000</td>\n",
       "      <td>-9.238000</td>\n",
       "      <td>-6.405604e-02</td>\n",
       "      <td>-1.411990e-01</td>\n",
       "      <td>2.488719e+01</td>\n",
       "      <td>-7.389723e+00</td>\n",
       "      <td>2.280456e+01</td>\n",
       "      <td>-1.981000e-01</td>\n",
       "    </tr>\n",
       "    <tr>\n",
       "      <th>50%</th>\n",
       "      <td>1.018003e+06</td>\n",
       "      <td>2008.000000</td>\n",
       "      <td>3841.000000</td>\n",
       "      <td>1.463162e-01</td>\n",
       "      <td>0.111160</td>\n",
       "      <td>1.299000</td>\n",
       "      <td>2.211778e-02</td>\n",
       "      <td>3.063168e-03</td>\n",
       "      <td>2.901081e+00</td>\n",
       "      <td>1.000000</td>\n",
       "      <td>...</td>\n",
       "      <td>8.120038e-02</td>\n",
       "      <td>3.000028e-02</td>\n",
       "      <td>262.686000</td>\n",
       "      <td>3.831000</td>\n",
       "      <td>4.338786e-02</td>\n",
       "      <td>0.000000e+00</td>\n",
       "      <td>4.325883e+01</td>\n",
       "      <td>4.389777e-01</td>\n",
       "      <td>3.839643e+01</td>\n",
       "      <td>0.000000e+00</td>\n",
       "    </tr>\n",
       "    <tr>\n",
       "      <th>75%</th>\n",
       "      <td>1.224133e+06</td>\n",
       "      <td>2011.000000</td>\n",
       "      <td>6163.000000</td>\n",
       "      <td>2.028368e-01</td>\n",
       "      <td>0.188173</td>\n",
       "      <td>6.000000</td>\n",
       "      <td>4.680522e-02</td>\n",
       "      <td>6.671134e-03</td>\n",
       "      <td>5.006540e+00</td>\n",
       "      <td>1.000000</td>\n",
       "      <td>...</td>\n",
       "      <td>2.138416e-01</td>\n",
       "      <td>1.761161e-01</td>\n",
       "      <td>1314.588000</td>\n",
       "      <td>67.942000</td>\n",
       "      <td>2.449408e-01</td>\n",
       "      <td>1.984170e-01</td>\n",
       "      <td>1.258292e+02</td>\n",
       "      <td>9.879715e+00</td>\n",
       "      <td>8.242904e+01</td>\n",
       "      <td>2.740319e-01</td>\n",
       "    </tr>\n",
       "    <tr>\n",
       "      <th>max</th>\n",
       "      <td>1.915657e+06</td>\n",
       "      <td>2013.000000</td>\n",
       "      <td>9997.000000</td>\n",
       "      <td>inf</td>\n",
       "      <td>0.887772</td>\n",
       "      <td>5488.000000</td>\n",
       "      <td>inf</td>\n",
       "      <td>inf</td>\n",
       "      <td>inf</td>\n",
       "      <td>1.000000</td>\n",
       "      <td>...</td>\n",
       "      <td>inf</td>\n",
       "      <td>inf</td>\n",
       "      <td>460442.000000</td>\n",
       "      <td>69095.000000</td>\n",
       "      <td>inf</td>\n",
       "      <td>inf</td>\n",
       "      <td>inf</td>\n",
       "      <td>inf</td>\n",
       "      <td>inf</td>\n",
       "      <td>inf</td>\n",
       "    </tr>\n",
       "  </tbody>\n",
       "</table>\n",
       "<p>8 rows × 105 columns</p>\n",
       "</div>"
      ],
      "text/plain": [
       "                cik          year           SIC          ARtS         ARtTA  \\\n",
       "count  3.317900e+04  33179.000000  33179.000000  3.174200e+04  31994.000000   \n",
       "mean   9.315030e+05   2008.365442   4545.445884           inf      0.135021   \n",
       "std    4.336661e+05      2.828214   2035.206072           NaN      0.112959   \n",
       "min    1.750000e+03   2003.000000   1000.000000 -2.286370e+00      0.000000   \n",
       "25%    8.043280e+05   2006.000000   2911.000000  9.227037e-02      0.050357   \n",
       "50%    1.018003e+06   2008.000000   3841.000000  1.463162e-01      0.111160   \n",
       "75%    1.224133e+06   2011.000000   6163.000000  2.028368e-01      0.188173   \n",
       "max    1.915657e+06   2013.000000   9997.000000           inf      0.887772   \n",
       "\n",
       "               AFDA       AFDAtAR       AFDAtNS        Zscore          Big4  \\\n",
       "count  24595.000000  2.360800e+04  2.399400e+04  2.746500e+04  33179.000000   \n",
       "mean      17.883162           inf           inf           inf      0.775460   \n",
       "std      134.902378           NaN           NaN           NaN      0.417285   \n",
       "min       -0.484000 -7.464873e-03 -1.265816e-03 -1.067789e+04      0.000000   \n",
       "25%        0.216000  9.467169e-03  1.067403e-03  1.387595e+00      1.000000   \n",
       "50%        1.299000  2.211778e-02  3.063168e-03  2.901081e+00      1.000000   \n",
       "75%        6.000000  4.680522e-02  6.671134e-03  5.006540e+00      1.000000   \n",
       "max     5488.000000           inf           inf           inf      1.000000   \n",
       "\n",
       "       ...          PCiE         APCiE           Liab            CiL  \\\n",
       "count  ...  2.781900e+04  2.781900e+04   32641.000000   28913.000000   \n",
       "mean   ...           inf           inf    2597.651411     159.064931   \n",
       "std    ...           NaN           NaN    9854.483133    2265.180039   \n",
       "min    ... -1.000000e+00 -5.328990e+03       0.000000 -269999.000000   \n",
       "25%    ... -1.552170e-02 -6.956824e-02      44.088000      -9.238000   \n",
       "50%    ...  8.120038e-02  3.000028e-02     262.686000       3.831000   \n",
       "75%    ...  2.138416e-01  1.761161e-01    1314.588000      67.942000   \n",
       "max    ...           inf           inf  460442.000000   69095.000000   \n",
       "\n",
       "               PCiL         APCiL          LtIE        CiLtIE       PCiLtIE  \\\n",
       "count  2.891100e+04  2.891100e+04  3.034400e+04  2.467700e+04  2.431900e+04   \n",
       "mean            inf           inf           inf           NaN           inf   \n",
       "std             NaN           NaN           NaN           NaN           NaN   \n",
       "min   -9.981510e-01 -2.085744e+03 -1.700433e+03          -inf -1.701433e+03   \n",
       "25%   -6.405604e-02 -1.411990e-01  2.488719e+01 -7.389723e+00  2.280456e+01   \n",
       "50%    4.338786e-02  0.000000e+00  4.325883e+01  4.389777e-01  3.839643e+01   \n",
       "75%    2.449408e-01  1.984170e-01  1.258292e+02  9.879715e+00  8.242904e+01   \n",
       "max             inf           inf           inf           inf           inf   \n",
       "\n",
       "           APCiLtIE  \n",
       "count  2.431800e+04  \n",
       "mean            inf  \n",
       "std             NaN  \n",
       "min   -1.401792e+02  \n",
       "25%   -1.981000e-01  \n",
       "50%    0.000000e+00  \n",
       "75%    2.740319e-01  \n",
       "max             inf  \n",
       "\n",
       "[8 rows x 105 columns]"
      ]
     },
     "execution_count": 114,
     "metadata": {},
     "output_type": "execute_result"
    }
   ],
   "source": [
    "FF.describe()"
   ]
  },
  {
   "cell_type": "markdown",
   "id": "3ce92eb7",
   "metadata": {},
   "source": [
    "## Keeping only one combination per CIK-Year"
   ]
  },
  {
   "cell_type": "code",
   "execution_count": 164,
   "id": "35eb299c",
   "metadata": {},
   "outputs": [
    {
     "name": "stdout",
     "output_type": "stream",
     "text": [
      "There are 618 duplicates of firm-year observations.\n"
     ]
    }
   ],
   "source": [
    "print('There are',FF[['cik','year']].duplicated().sum(),'duplicates of firm-year observations.')"
   ]
  },
  {
   "cell_type": "code",
   "execution_count": 165,
   "id": "1d3619c2",
   "metadata": {},
   "outputs": [
    {
     "name": "stdout",
     "output_type": "stream",
     "text": [
      "Length of original dataset: 33179\n",
      "Length of updated dataset 32561\n"
     ]
    }
   ],
   "source": [
    "print('Length of original dataset:',len(FF))\n",
    "FF = FF.drop_duplicates(subset=['cik','year'])\n",
    "print('Length of updated dataset',len(FF))"
   ]
  },
  {
   "cell_type": "code",
   "execution_count": 167,
   "id": "6b32004e",
   "metadata": {},
   "outputs": [
    {
     "data": {
      "text/plain": [
       "32561"
      ]
     },
     "execution_count": 167,
     "metadata": {},
     "output_type": "execute_result"
    }
   ],
   "source": [
    "(FF['year'].astype(str) + '_' + FF['cik'].astype(str)).nunique()"
   ]
  },
  {
   "cell_type": "code",
   "execution_count": 180,
   "id": "bcb3cfc2",
   "metadata": {},
   "outputs": [
    {
     "name": "stdout",
     "output_type": "stream",
     "text": [
      "5788\n",
      "5788\n"
     ]
    }
   ],
   "source": [
    "# Only considering the complete sample\n",
    "year_cik_read = pd.read_csv('read_features.csv')\n",
    "year_cik_read = year_cik_read[['cik','year']]\n",
    "print(len(year_cik_read))\n",
    "complete = pd.merge(year_cik_read, FF, on=['year','cik'], how='left')\n",
    "print(len(complete))"
   ]
  },
  {
   "cell_type": "code",
   "execution_count": 181,
   "id": "11c1db7d",
   "metadata": {},
   "outputs": [
    {
     "name": "stdout",
     "output_type": "stream",
     "text": [
      "There are 5 duplicates of firm-year observations.\n"
     ]
    }
   ],
   "source": [
    "print('There are',complete[['cik','year']].duplicated().sum(),'duplicates of firm-year observations.')"
   ]
  },
  {
   "cell_type": "code",
   "execution_count": 182,
   "id": "dea531ac",
   "metadata": {},
   "outputs": [
    {
     "name": "stdout",
     "output_type": "stream",
     "text": [
      "Length of original dataset: 5788\n",
      "Length of updated dataset 5783\n"
     ]
    }
   ],
   "source": [
    "print('Length of original dataset:',len(complete))\n",
    "complete = complete.drop_duplicates(subset=['cik','year'])\n",
    "print('Length of updated dataset',len(complete))"
   ]
  },
  {
   "cell_type": "code",
   "execution_count": 183,
   "id": "03674359",
   "metadata": {},
   "outputs": [
    {
     "data": {
      "text/plain": [
       "5783"
      ]
     },
     "execution_count": 183,
     "metadata": {},
     "output_type": "execute_result"
    }
   ],
   "source": [
    "(complete['year'].astype(str) + '_' + complete['cik'].astype(str)).nunique()"
   ]
  },
  {
   "cell_type": "markdown",
   "id": "524fc7de",
   "metadata": {},
   "source": [
    "## Taking care of Infinites"
   ]
  },
  {
   "cell_type": "code",
   "execution_count": 184,
   "id": "fd58674b",
   "metadata": {},
   "outputs": [
    {
     "data": {
      "text/plain": [
       "ARtS          19\n",
       "cItS           6\n",
       "DiRI          14\n",
       "DtE            1\n",
       "4GSGR         41\n",
       "GM            10\n",
       "cROE           1\n",
       "ItS            7\n",
       "TIE          431\n",
       "UEP           19\n",
       "PCiCM          1\n",
       "PCiCS          9\n",
       "PCiS          17\n",
       "APCiS         17\n",
       "APCiStA       17\n",
       "StE           57\n",
       "CiSte          3\n",
       "APCiStOE      17\n",
       "ROE            1\n",
       "CiROE          2\n",
       "PCiROE         1\n",
       "APCiROE        1\n",
       "ROS           38\n",
       "CiROS         33\n",
       "PCiROS        11\n",
       "APCiROS       11\n",
       "APtI        1472\n",
       "CiAPtI        78\n",
       "PCiAPtI       21\n",
       "APCiAPtI      20\n",
       "LtIE         431\n",
       "CiLtIE       114\n",
       "PCiLtIE       58\n",
       "APCiLtIE      58\n",
       "dtype: int64"
      ]
     },
     "execution_count": 184,
     "metadata": {},
     "output_type": "execute_result"
    }
   ],
   "source": [
    "# Counting the amount of infintes per column\n",
    "inf_cols = complete.columns[complete.isin([np.inf, -np.inf]).any()]\n",
    "inf_count = complete[inf_cols].isin([np.inf, -np.inf]).sum()\n",
    "inf_count"
   ]
  },
  {
   "cell_type": "markdown",
   "id": "7e9c8b24",
   "metadata": {},
   "source": [
    "The following columns contain infinite values:\n",
    "1. Times Interest Earned (Interest and Related Expense - Total = 0)\n",
    "2. Change in ROE\n",
    "3. Accounts Payable to Inventory  (Inventory = 0)\n",
    "4. Liabilities to Interest Expense (Interest and Related Expense - Total = 0)\n",
    "5. Changes in APtI and LtIE "
   ]
  },
  {
   "cell_type": "markdown",
   "id": "65fffefb",
   "metadata": {},
   "source": [
    "As the CiROE has only 1 infinite value I decide to set this to 0.\n",
    "As there are 1249 observations with no inventory, there is no accounts payable to inventory ratio, I decide to set these to 0.\n",
    "As there are 530 observations with no xint, there is no TIE and no LtIE, I decide to set these to 0.\n",
    "\n",
    "The changes are also set to 0 as they are likely influences by the infinity values of APtI and LtIE "
   ]
  },
  {
   "cell_type": "code",
   "execution_count": 185,
   "id": "64c8dd54",
   "metadata": {},
   "outputs": [
    {
     "data": {
      "text/plain": [
       "Series([], dtype: float64)"
      ]
     },
     "execution_count": 185,
     "metadata": {},
     "output_type": "execute_result"
    }
   ],
   "source": [
    "# Replacing infinites with 0's \n",
    "complete.replace([np.inf, -np.inf], 0, inplace=True)\n",
    "\n",
    "# Counting the amount of infintes per column\n",
    "inf_cols = complete.columns[complete.isin([np.inf, -np.inf]).any()]\n",
    "inf_count = complete[inf_cols].isin([np.inf, -np.inf]).sum()\n",
    "inf_count"
   ]
  },
  {
   "cell_type": "markdown",
   "id": "f9bea723",
   "metadata": {},
   "source": [
    "## Taking care of missing values"
   ]
  },
  {
   "cell_type": "code",
   "execution_count": 186,
   "id": "0677d89c",
   "metadata": {},
   "outputs": [
    {
     "name": "stdout",
     "output_type": "stream",
     "text": [
      "SIC           22\n",
      "ARtS          54\n",
      "ARtTA         35\n",
      "AFDA        1184\n",
      "AFDAtAR     1247\n",
      "            ... \n",
      "APCiL         40\n",
      "LtIE         409\n",
      "CiLtIE       839\n",
      "PCiLtIE      895\n",
      "APCiLtIE     895\n",
      "Length: 103, dtype: int64\n"
     ]
    }
   ],
   "source": [
    "# Counting the amount of missing values per column\n",
    "na_cols_count = complete.isna().sum()\n",
    "na_cols = complete.loc[:, na_cols_count > 0]\n",
    "na_cols_count = na_cols.isna().sum()\n",
    "print(na_cols_count)"
   ]
  },
  {
   "cell_type": "code",
   "execution_count": 187,
   "id": "15fb9200",
   "metadata": {},
   "outputs": [
    {
     "data": {
      "text/plain": [
       "103"
      ]
     },
     "execution_count": 187,
     "metadata": {},
     "output_type": "execute_result"
    }
   ],
   "source": [
    "na_per_row = complete.isna().sum(axis=1)\n",
    "most_na_per_row = na_per_row.idxmax()\n",
    "complete.iloc[most_na_per_row].isna().sum()"
   ]
  },
  {
   "cell_type": "markdown",
   "id": "b0fbc2ef",
   "metadata": {},
   "source": [
    "There seems to be an observation with 103 missing values, I decide to exclude this observation from the final sample. Next there is an observation with 10 missing values. I decide to continue"
   ]
  },
  {
   "cell_type": "code",
   "execution_count": 188,
   "id": "b760a468",
   "metadata": {},
   "outputs": [
    {
     "name": "stdout",
     "output_type": "stream",
     "text": [
      "5783\n",
      "5782\n"
     ]
    }
   ],
   "source": [
    "print(len(complete))\n",
    "complete = complete.drop([complete.index[most_na_per_row]])\n",
    "print(len(complete))"
   ]
  },
  {
   "cell_type": "code",
   "execution_count": 189,
   "id": "f0f11a31",
   "metadata": {},
   "outputs": [
    {
     "name": "stdout",
     "output_type": "stream",
     "text": [
      "SIC           21\n",
      "ARtS          53\n",
      "ARtTA         34\n",
      "AFDA        1183\n",
      "AFDAtAR     1246\n",
      "            ... \n",
      "APCiL         39\n",
      "LtIE         408\n",
      "CiLtIE       838\n",
      "PCiLtIE      894\n",
      "APCiLtIE     894\n",
      "Length: 103, dtype: int64\n"
     ]
    }
   ],
   "source": [
    "# Counting the amount of missing values per column\n",
    "na_cols_count = complete.isna().sum()\n",
    "na_cols = complete.loc[:, na_cols_count > 0]\n",
    "na_cols_count = na_cols.isna().sum()\n",
    "print(na_cols_count)"
   ]
  },
  {
   "cell_type": "markdown",
   "id": "04878787",
   "metadata": {},
   "source": [
    "There seem to be 24 columns with missing values. Some of these columns have less than 1% of total observations as a missing value (1% = 68 observations). Most of them are changes or percentage changes. For these cases I do not consider the missing values to have a significant impact and decide to set them to 0."
   ]
  },
  {
   "cell_type": "code",
   "execution_count": 190,
   "id": "415a47ad",
   "metadata": {},
   "outputs": [],
   "source": [
    "nan_counts = complete.isna().sum()\n",
    "cols_to_fill = nan_counts[nan_counts < 68].index.tolist()\n",
    "complete[cols_to_fill] = complete[cols_to_fill].fillna(0)"
   ]
  },
  {
   "cell_type": "code",
   "execution_count": 191,
   "id": "bee663bf",
   "metadata": {},
   "outputs": [
    {
     "name": "stdout",
     "output_type": "stream",
     "text": [
      "AFDA        1183\n",
      "AFDAtAR     1246\n",
      "AFDAtNS     1211\n",
      "Zscore       549\n",
      "cItS         227\n",
      "DiRI         193\n",
      "4GSGR        230\n",
      "HPRiVP        69\n",
      "ItS           88\n",
      "ROAtTA       150\n",
      "TIE          401\n",
      "TDA         1001\n",
      "UEP          285\n",
      "ACiOB       4657\n",
      "RSST         589\n",
      "CiFCF        688\n",
      "CiI          118\n",
      "CiOLA        817\n",
      "CiR          152\n",
      "DTaxE        174\n",
      "PCiCM        223\n",
      "PCiCS        174\n",
      "WCA          357\n",
      "CiS          150\n",
      "PCiS         177\n",
      "APCiS        177\n",
      "CiStA        150\n",
      "PCiStA       194\n",
      "APCiStA      177\n",
      "StE           75\n",
      "CiSte        260\n",
      "PCiStE       304\n",
      "CiStOE       152\n",
      "PCiStOE      194\n",
      "APCiStOE     177\n",
      "CiROA        150\n",
      "PCiROA       150\n",
      "APCiROA      150\n",
      "CiROE        152\n",
      "PCiROE       153\n",
      "APCiROE      153\n",
      "CiROS        172\n",
      "PCiROS       194\n",
      "APCiROS      194\n",
      "CiAPtI      1517\n",
      "PCiAPtI     1578\n",
      "APCiAPtI    1579\n",
      "CiE          150\n",
      "PCiE         152\n",
      "APCiE        152\n",
      "LtIE         408\n",
      "CiLtIE       838\n",
      "PCiLtIE      894\n",
      "APCiLtIE     894\n",
      "dtype: int64\n"
     ]
    }
   ],
   "source": [
    "# Counting the amount of missing values per column\n",
    "na_cols_count = complete.isna().sum()\n",
    "na_cols = complete.loc[:, na_cols_count > 0]\n",
    "na_cols_count = na_cols.isna().sum()\n",
    "print(na_cols_count)"
   ]
  },
  {
   "cell_type": "markdown",
   "id": "ba80e5a7",
   "metadata": {},
   "source": [
    "I decide to exclude the variable 'ACiOB' is it has missing values for more than 75% of the observations.\n",
    "\n",
    "I decide to set the values for TDA RSST and WCA equal to the mean of the dataset as I believe setting these accrual related variables to 0 can negatively impact the data more than setting them to their mean.\n",
    "\n",
    "I decide to approach the changes in APtI, FCF, and OLA and LtIE in the same way as I did with infinite values and decide to set these to 0. I also decide to set Deferred tax expense to 0 as it contains less than 2% of the observations.\n"
   ]
  },
  {
   "cell_type": "code",
   "execution_count": 192,
   "id": "633d6ae3",
   "metadata": {},
   "outputs": [],
   "source": [
    "complete = complete.drop(columns=['ACiOB'])\n",
    "\n",
    "TDA_mean = complete['TDA'].mean()\n",
    "RSST_mean = complete['RSST'].mean()\n",
    "WCA_mean = complete['WCA'].mean()\n",
    "\n",
    "complete['TDA'] = complete['TDA'].fillna(TDA_mean)\n",
    "complete['RSST'] = complete['RSST'].fillna(RSST_mean)\n",
    "complete['WCA'] = complete['WCA'].fillna(WCA_mean)\n",
    "\n",
    "nan_counts = complete.isna().sum()\n",
    "miss_cols = complete.loc[:, nan_counts > 0]\n",
    "complete[miss_cols.columns] = complete[miss_cols.columns].fillna(0)"
   ]
  },
  {
   "cell_type": "code",
   "execution_count": 193,
   "id": "0de1903b",
   "metadata": {},
   "outputs": [
    {
     "name": "stdout",
     "output_type": "stream",
     "text": [
      "Series([], dtype: float64)\n"
     ]
    }
   ],
   "source": [
    "# Counting the amount of missing values per column\n",
    "na_cols_count = complete.isna().sum()\n",
    "na_cols = complete.loc[:, na_cols_count > 0]\n",
    "na_cols_count = na_cols.isna().sum()\n",
    "print(na_cols_count)"
   ]
  },
  {
   "cell_type": "markdown",
   "id": "5c54573e",
   "metadata": {},
   "source": [
    "## Checking Types and Winsorizing"
   ]
  },
  {
   "cell_type": "code",
   "execution_count": 196,
   "id": "2ba2e446",
   "metadata": {},
   "outputs": [
    {
     "data": {
      "text/plain": [
       "year    int64\n",
       "dtype: object"
      ]
     },
     "execution_count": 196,
     "metadata": {},
     "output_type": "execute_result"
    }
   ],
   "source": [
    "complete.dtypes[complete.dtypes != 'float']"
   ]
  },
  {
   "cell_type": "code",
   "execution_count": 199,
   "id": "9bb59132",
   "metadata": {},
   "outputs": [],
   "source": [
    "complete['cik'] = complete['cik'].astype('int')\n",
    "complete['SIC'] = complete['SIC'].astype('int')\n",
    "complete['ATO'] = complete['ATO'].astype('int')\n",
    "complete['AI'] = complete['AI'].astype('int')\n",
    "complete['Big4'] = complete['Big4'].astype('int')\n",
    "complete['DCS'] = complete['DCS'].astype('int')\n",
    "complete['DfF'] = complete['DfF'].astype('int')\n",
    "complete['EoOL'] = complete['EoOL'].astype('int')\n",
    "complete['PA'] = complete['PA'].astype('int')\n",
    "complete['IoAR'] = complete['IoAR'].astype('int')\n",
    "complete['IoGMP'] = complete['IoGMP'].astype('int')\n",
    "complete['NewS'] = complete['NewS'].astype('int')\n",
    "complete['dSIC'] = complete['dSIC'].astype('int')\n",
    "complete['AMEX'] = complete['AMEX'].astype('int')"
   ]
  },
  {
   "cell_type": "code",
   "execution_count": 200,
   "id": "6a79b8e4",
   "metadata": {},
   "outputs": [],
   "source": [
    "# Obtaining the numerical columns\n",
    "num_cols = list(complete.select_dtypes(include=['float']).columns)\n",
    "\n",
    "# Winsorizing variables\n",
    "import numpy as np\n",
    "from scipy.stats.mstats import winsorize\n",
    "\n",
    "# 1% and 99%\n",
    "limits = [0.01, 0.01]\n",
    "winsorized = complete[num_cols].apply(lambda x: winsorize(x, limits=limits))\n",
    "\n",
    "# Replacing the original with the winsorized\n",
    "complete[num_cols] = winsorized"
   ]
  },
  {
   "cell_type": "markdown",
   "id": "b6306974",
   "metadata": {},
   "source": [
    "## Exporting the Features"
   ]
  },
  {
   "cell_type": "code",
   "execution_count": 201,
   "id": "a7351e9b",
   "metadata": {},
   "outputs": [
    {
     "name": "stdout",
     "output_type": "stream",
     "text": [
      "There are 5782 complete observations based on the financial fundamentals.\n"
     ]
    }
   ],
   "source": [
    "# Counting the complete observations\n",
    "complete_obs = complete.notna().all(axis=1).sum()\n",
    "print('There are',complete_obs,'complete observations based on the financial fundamentals.')"
   ]
  },
  {
   "cell_type": "code",
   "execution_count": 202,
   "id": "f468cf6d",
   "metadata": {},
   "outputs": [],
   "source": [
    "# Exporting the data set\n",
    "complete.to_csv('FF_features.csv', index=False)"
   ]
  }
 ],
 "metadata": {
  "kernelspec": {
   "display_name": "Python 3 (ipykernel)",
   "language": "python",
   "name": "python3"
  },
  "language_info": {
   "codemirror_mode": {
    "name": "ipython",
    "version": 3
   },
   "file_extension": ".py",
   "mimetype": "text/x-python",
   "name": "python",
   "nbconvert_exporter": "python",
   "pygments_lexer": "ipython3",
   "version": "3.9.13"
  }
 },
 "nbformat": 4,
 "nbformat_minor": 5
}
