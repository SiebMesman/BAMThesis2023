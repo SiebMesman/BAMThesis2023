{
 "cells": [
  {
   "cell_type": "code",
   "execution_count": 1,
   "id": "e85f257a",
   "metadata": {},
   "outputs": [],
   "source": [
    "import os\n",
    "import re\n",
    "import pandas as pd"
   ]
  },
  {
   "cell_type": "markdown",
   "id": "a6818cb6",
   "metadata": {},
   "source": [
    "## Creation of a Pandas DataFrame"
   ]
  },
  {
   "cell_type": "markdown",
   "id": "451ec2fb",
   "metadata": {},
   "source": [
    "In this notebook a Pandas DataFrame will be created from the previously created .txt files (See the jupyter notebook: 'MD&A Scraper'). The datafrane exists of 5 columns:\n",
    "1. 'cik': The company's unique CIK.\n",
    "2. 'year': The year of the report period end date.\n",
    "3. 'month': The month of the report period end date.\n",
    "4. 'day': The day of the report period end date.\n",
    "5. 'mda': The (not yet cleaned) MD&A section of the respective 10-K report.\n",
    "\n",
    "The mda column contains the whole MD&A section and contains a header and forward-looking disclosures."
   ]
  },
  {
   "cell_type": "code",
   "execution_count": 33,
   "id": "6e4f6bed",
   "metadata": {},
   "outputs": [
    {
     "name": "stdout",
     "output_type": "stream",
     "text": [
      "           cik  year month day  \\\n",
      "0         1750  2014    05  31   \n",
      "1      1122304  2013    12  31   \n",
      "2        19446  2014    07  31   \n",
      "3      1451505  2013    12  31   \n",
      "4       317771  2010    01  01   \n",
      "...        ...   ...   ...  ..   \n",
      "16117    96793  2010    06  30   \n",
      "16118    96831  2009    12  31   \n",
      "16119  1018963  2009    12  31   \n",
      "16120    96943  2009    12  31   \n",
      "16121  1051512  2009    12  31   \n",
      "\n",
      "                                                     mda  \n",
      "0      ITEM 7. MANAGEMENTS DISCUSSION AND ANALYSIS OF...  \n",
      "1                                                         \n",
      "2      Item 7. MANAGEMENTS DISCUSSION AND ANALYSIS OF...  \n",
      "3      Item 7. Managements Discussion and Analysis of...  \n",
      "4      ITEM 7. MANAGEMENTS DISCUSSION AND ANALYSIS OF...  \n",
      "...                                                  ...  \n",
      "16117  Item 7. Managements Discussion and Analysis of...  \n",
      "16118  ITEM 7. MANAGEMENTS DISCUSSION AND ANALYSIS OF...  \n",
      "16119  Item 7. Managements Discussion and Analysis of...  \n",
      "16120  ITEM 7. MANAGEMENTS DISCUSSION AND ANALYSIS OF...  \n",
      "16121                                                     \n",
      "\n",
      "[16122 rows x 5 columns]\n"
     ]
    }
   ],
   "source": [
    "# Specify the folder where the txt. files are stored\n",
    "folder = 'C:/Users/siebm/Documents/Thesis Data/MD&A Storage'\n",
    "\n",
    "# Create empty lists to store the information\n",
    "ciks = []\n",
    "years = []\n",
    "months = []\n",
    "days = []\n",
    "mda_texts = []\n",
    "\n",
    "# Run a for loop that goes through every .txt file and extracts the information\n",
    "for filename in os.listdir(folder):\n",
    "    # Only consider .txt files\n",
    "    if filename.endswith('.txt'):\n",
    "        # Opening the file\n",
    "        with open(os.path.join(folder, filename), 'r') as f:\n",
    "            # Reading the content\n",
    "            content = f.read()\n",
    "            # Extracting the cik\n",
    "            cik = re.search('CIK: (\\d+)', content).group(1).lstrip('0')\n",
    "            # Extracting the date (yyyy-mm-dd)\n",
    "            date = re.search(r\"REPORT PERIOD END DATE: (\\d{4})(\\d{2})(\\d{2})\", content)\n",
    "            # Splitting the date into year, month, and day\n",
    "            year = date.group(1)\n",
    "            month = date.group(2)\n",
    "            day = date.group(3)\n",
    "            # Some .txt files contain no MD&A\n",
    "            # the following code prevents errors and stores empty string in the mda column for those files.\n",
    "            mda_match = re.search('<SECTION>(.*?)</SECTION>', content, re.DOTALL)\n",
    "            if mda_match:\n",
    "                mda_text = mda_match.group(1)\n",
    "            else:\n",
    "                mda_text = ''\n",
    "            # Appending the words, split by spaces, to the mda_texts list.\n",
    "            mda_texts.append(mda_text.strip())\n",
    "            # Appending the other columns\n",
    "            ciks.append(cik)\n",
    "            years.append(year)\n",
    "            months.append(month)\n",
    "            days.append(day)\n",
    "\n",
    "# After the loop is done, populate the Pandas DataFrame           \n",
    "df = pd.DataFrame({'cik': ciks, 'year': years, 'month': months, 'day': days, 'mda': mda_texts})\n",
    "\n",
    "# Printing the df for inspection\n",
    "print(df)"
   ]
  },
  {
   "cell_type": "markdown",
   "id": "dc526e27",
   "metadata": {},
   "source": [
    "The next code counts the amount of rows with and withou MD&A section."
   ]
  },
  {
   "cell_type": "code",
   "execution_count": 34,
   "id": "e9a21b1b",
   "metadata": {},
   "outputs": [
    {
     "name": "stdout",
     "output_type": "stream",
     "text": [
      "Incomplete MD&A observations: 2432\n",
      "Complete MD&A observations: 13690\n"
     ]
    }
   ],
   "source": [
    "# Filter rows based on whether mda column contains empty string or not\n",
    "incomplete = df[df['mda'] == '']\n",
    "complete = df[df['mda'] != '']\n",
    "\n",
    "# Printing the resulting dataframes\n",
    "print('Incomplete MD&A observations:', len(incomplete))\n",
    "print('Complete MD&A observations:', len(complete))"
   ]
  },
  {
   "cell_type": "code",
   "execution_count": 42,
   "id": "5053b548",
   "metadata": {},
   "outputs": [
    {
     "data": {
      "text/html": [
       "<div>\n",
       "<style scoped>\n",
       "    .dataframe tbody tr th:only-of-type {\n",
       "        vertical-align: middle;\n",
       "    }\n",
       "\n",
       "    .dataframe tbody tr th {\n",
       "        vertical-align: top;\n",
       "    }\n",
       "\n",
       "    .dataframe thead th {\n",
       "        text-align: right;\n",
       "    }\n",
       "</style>\n",
       "<table border=\"1\" class=\"dataframe\">\n",
       "  <thead>\n",
       "    <tr style=\"text-align: right;\">\n",
       "      <th></th>\n",
       "      <th>cik</th>\n",
       "      <th>year</th>\n",
       "      <th>month</th>\n",
       "      <th>day</th>\n",
       "      <th>mda</th>\n",
       "    </tr>\n",
       "  </thead>\n",
       "  <tbody>\n",
       "    <tr>\n",
       "      <th>14207</th>\n",
       "      <td>1004989</td>\n",
       "      <td>2010</td>\n",
       "      <td>12</td>\n",
       "      <td>31</td>\n",
       "      <td>Item 7. Managements Discussion and Analysis of...</td>\n",
       "    </tr>\n",
       "    <tr>\n",
       "      <th>4923</th>\n",
       "      <td>1004989</td>\n",
       "      <td>2010</td>\n",
       "      <td>12</td>\n",
       "      <td>31</td>\n",
       "      <td>Item 7. Managements Discussion and Analysis of...</td>\n",
       "    </tr>\n",
       "  </tbody>\n",
       "</table>\n",
       "</div>"
      ],
      "text/plain": [
       "           cik  year month day  \\\n",
       "14207  1004989  2010    12  31   \n",
       "4923   1004989  2010    12  31   \n",
       "\n",
       "                                                     mda  \n",
       "14207  Item 7. Managements Discussion and Analysis of...  \n",
       "4923   Item 7. Managements Discussion and Analysis of...  "
      ]
     },
     "execution_count": 42,
     "metadata": {},
     "output_type": "execute_result"
    }
   ],
   "source": [
    "# Check for duplicate combinations of CIK, year, and month\n",
    "duplicates = complete.duplicated(subset=['cik', 'year','month'], keep=False)\n",
    "\n",
    "# Printing rows to inspect the duplicates\n",
    "complete[duplicates].sort_values('cik').head(2)"
   ]
  },
  {
   "cell_type": "markdown",
   "id": "285ec081",
   "metadata": {},
   "source": [
    "Note: This code has not yet deleted, only examined, duplicate values. "
   ]
  },
  {
   "cell_type": "code",
   "execution_count": 45,
   "id": "f5bb7afb",
   "metadata": {},
   "outputs": [],
   "source": [
    "# Exporting the Dataframe as a csv file\n",
    "complete.to_csv('mda_df.csv',index=False)"
   ]
  }
 ],
 "metadata": {
  "kernelspec": {
   "display_name": "Python 3 (ipykernel)",
   "language": "python",
   "name": "python3"
  },
  "language_info": {
   "codemirror_mode": {
    "name": "ipython",
    "version": 3
   },
   "file_extension": ".py",
   "mimetype": "text/x-python",
   "name": "python",
   "nbconvert_exporter": "python",
   "pygments_lexer": "ipython3",
   "version": "3.9.13"
  }
 },
 "nbformat": 4,
 "nbformat_minor": 5
}
